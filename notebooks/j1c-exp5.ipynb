{
 "cells": [
  {
   "cell_type": "code",
   "execution_count": 1,
   "metadata": {},
   "outputs": [],
   "source": [
    "import networkx as nx\n",
    "\n",
    "from networkx.algorithms.cluster import average_clustering, triangles, transitivity\n",
    "from networkx.algorithms.planarity import check_planarity\n",
    "from networkx.algorithms.efficiency import global_efficiency, local_efficiency\n",
    "from networkx.algorithms.smallworld import sigma, omega\n",
    "\n",
    "import pandas as pd\n",
    "import numpy as np\n",
    "import matplotlib.pyplot as plt\n",
    "\n",
    "from tqdm import tqdm_notebook as tqdm\n",
    "\n",
    "from joblib import Parallel, delayed\n",
    "from networkx.drawing.nx_pylab import draw"
   ]
  },
  {
   "cell_type": "code",
   "execution_count": 20,
   "metadata": {},
   "outputs": [],
   "source": [
    "graphs = nx.read_graph6('../data/exp5/graph9.g6')"
   ]
  },
  {
   "cell_type": "code",
   "execution_count": 24,
   "metadata": {},
   "outputs": [],
   "source": [
    "def compute_metrics(graphs, n_jobs=2, verbose=3):\n",
    "    \"\"\"\n",
    "    graphs : list\n",
    "        list of nx graphs\n",
    "    \"\"\"\n",
    "    cols = [\n",
    "        'total_edges', \n",
    "        'density',\n",
    "        'average_clustering', \n",
    "        'global_clustering', \n",
    "        'total_triangles',\n",
    "        'global_efficiency',\n",
    "        'local_efficiency',\n",
    "        'is_planar',\n",
    "    ]\n",
    "    \n",
    "    def metrics(graph, cols):\n",
    "        total_edges = graph.number_of_edges()\n",
    "        if total_edges != 0:\n",
    "            density = 2*total_edges / (graph.number_of_nodes() * (graph.number_of_nodes() - 1))\n",
    "        else:\n",
    "            density = 0\n",
    "        acc = average_clustering(graph)\n",
    "        gcc = transitivity(graph)\n",
    "        total_triangles = np.sum(list(triangles(graph).values()))\n",
    "        geff = global_efficiency(graph)\n",
    "        leff = local_efficiency(graph)\n",
    "        is_planar = check_planarity(graph)[0]\n",
    "\n",
    "        series = pd.Series(\n",
    "            [total_edges, density, acc, gcc, total_triangles, geff, leff, is_planar],\n",
    "            index=cols\n",
    "        )\n",
    "        return series\n",
    "    \n",
    "    res = Parallel(n_jobs=n_jobs, verbose=verbose)(delayed(metrics)(g, cols) for g in graphs)\n",
    "        \n",
    "    return pd.DataFrame(res, columns=cols)"
   ]
  },
  {
   "cell_type": "code",
   "execution_count": null,
   "metadata": {},
   "outputs": [],
   "source": []
  }
 ],
 "metadata": {
  "kernelspec": {
   "display_name": "Python 3",
   "language": "python",
   "name": "python3"
  },
  "language_info": {
   "codemirror_mode": {
    "name": "ipython",
    "version": 3
   },
   "file_extension": ".py",
   "mimetype": "text/x-python",
   "name": "python",
   "nbconvert_exporter": "python",
   "pygments_lexer": "ipython3",
   "version": "3.7.2"
  }
 },
 "nbformat": 4,
 "nbformat_minor": 2
}
