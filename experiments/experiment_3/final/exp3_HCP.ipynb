{
 "cells": [
  {
   "cell_type": "code",
   "execution_count": 1,
   "metadata": {},
   "outputs": [
    {
     "name": "stderr",
     "output_type": "stream",
     "text": [
      "/home/ubuntu/env/miniconda3/envs/dnd/lib/python3.8/site-packages/sklearn/utils/deprecation.py:144: FutureWarning: The sklearn.mixture.gaussian_mixture module is  deprecated in version 0.22 and will be removed in version 0.24. The corresponding classes / functions should instead be imported from sklearn.mixture. Anything that cannot be imported from sklearn.mixture is now part of the private API.\n",
      "  warnings.warn(message, FutureWarning)\n"
     ]
    }
   ],
   "source": [
    "from functools import partial\n",
    "from itertools import product\n",
    "import graspy as gp\n",
    "from graspy.simulations import er_np, sbm\n",
    "import numpy as np\n",
    "import pandas as pd\n",
    "import seaborn as sns\n",
    "from scipy.stats import ttest_ind\n",
    "from joblib import Parallel, delayed\n",
    "import matplotlib.pyplot as plt\n",
    "from sklearn.preprocessing import LabelEncoder\n",
    "\n",
    "from twins import load_dataset\n",
    "%matplotlib inline"
   ]
  },
  {
   "cell_type": "code",
   "execution_count": 2,
   "metadata": {},
   "outputs": [],
   "source": [
    "graphs = load_dataset(modality='dmri', parcellation='desikan', preprocess=None, ptr=None)[0]\n",
    "\n",
    "df = pd.read_csv('../../../../twins/data/raw/unrestricted_jaewonc78_1_20_2019_23_7_58.csv')\n",
    "\n",
    "gender = []\n",
    "for sub in graphs.keys():\n",
    "    gender.append(df[df.Subject == int(sub)]['Gender'].values[0])\n",
    "    \n",
    "le = LabelEncoder()\n",
    "labels = le.fit_transform(gender)\n",
    "# 0 is female, 1 is male\n",
    "\n",
    "node_df = pd.read_csv(\"../../../data/desikan_labels.csv\")\n",
    "node_df = node_df.sort_values('name')\n",
    "hemispheres = node_df.hemisphere.values"
   ]
  },
  {
   "cell_type": "code",
   "execution_count": 3,
   "metadata": {},
   "outputs": [],
   "source": [
    "male_graphs = []\n",
    "female_graphs = []\n",
    "\n",
    "for idx, (sub, graph) in enumerate(graphs.items()):\n",
    "    if labels[idx] == 1:\n",
    "        male_graphs.append(graph)\n",
    "    else:\n",
    "        female_graphs.append(graph)\n",
    "\n",
    "male_graphs = (np.array(male_graphs) > 0) * 1\n",
    "female_graphs = (np.array(female_graphs) > 0) * 1"
   ]
  },
  {
   "cell_type": "code",
   "execution_count": 7,
   "metadata": {},
   "outputs": [],
   "source": [
    "def generate_binary_sbms(m, n, block_1, block_2, p, q):\n",
    "    total_n = block_1 + block_2\n",
    "    p2 = [[q, p], [p, p]]\n",
    "\n",
    "    pop1 = np.array([er_np(total_n, p, directed=False) for _ in np.arange(m)])\n",
    "    pop2 = np.array([sbm(\n",
    "        [block_1, block_2],\n",
    "        p2, directed=False) for _ in np.arange(n)])\n",
    "\n",
    "    labels = np.array([0] * block_1 + [1] * block_2)\n",
    "\n",
    "    return pop1, pop2, labels\n",
    "\n",
    "\n",
    "def run_experiment(m1, m2, block_1, block_2, p, q, reps):\n",
    "    total_n = block_1 + block_2\n",
    "    r, c = np.triu_indices(total_n, k=1)\n",
    "\n",
    "    res = np.zeros((reps))\n",
    "\n",
    "    for i in np.arange(reps).astype(int):\n",
    "        pop1, pop2, true_labels = generate_binary_sbms(m1, m2, block_1, block_2, p, q)\n",
    "\n",
    "        pop1_edges = pop1[:, r, c]\n",
    "        pop2_edges = pop2[:, r, c]\n",
    "        true_edges = (true_labels[:, None] + true_labels[None, :])[r, c]\n",
    "\n",
    "        pvals = np.zeros(3)\n",
    "        for j in np.unique(true_edges):\n",
    "            tmp_labels = true_edges == j\n",
    "\n",
    "            statistics, pval = ttest_ind(\n",
    "                pop1_edges[:, tmp_labels].ravel(), pop2_edges[:, tmp_labels].ravel(),\n",
    "            )\n",
    "            \n",
    "            pvals[j] = pval\n",
    "        \n",
    "        if np.argsort(pvals)[0] == 0:\n",
    "            res[i] = 1\n",
    "        else:\n",
    "            res[i] = 0\n",
    "\n",
    "    res = np.nanmean(res, axis=0).reshape(-1)\n",
    "\n",
    "    to_append = [m1, m2, p, q, *res]\n",
    "    return to_append"
   ]
  },
  {
   "cell_type": "code",
   "execution_count": 8,
   "metadata": {},
   "outputs": [],
   "source": [
    "def estimate_p(X, node_labels):\n",
    "    r, c = np.triu_indices(len(node_labels), k=1)\n",
    "    true_edges = (node_labels[:, None] + node_labels[None, :])[r, c]\n",
    "    edges = X[:, r, c]\n",
    "    \n",
    "    p = np.zeros(len(np.unique(true_edges)))\n",
    "    for i, val in enumerate(np.unique(true_edges)):\n",
    "        p[i] = edges[:,true_edges == val].mean()\n",
    "        \n",
    "    return p"
   ]
  },
  {
   "cell_type": "code",
   "execution_count": 9,
   "metadata": {},
   "outputs": [],
   "source": [
    "males = (labels == 1).sum()\n",
    "females = (labels == 0).sum()\n",
    "\n",
    "male_p = estimate_p(male_graphs, np.array([0]*35 + [1]*35))\n",
    "female_p = estimate_p(female_graphs, np.array([0]*35 + [1]*35))\n",
    "\n",
    "block_1 = 25\n",
    "block_2 = 25\n",
    "\n",
    "res = []\n",
    "for p, q in zip(male_p, female_p):\n",
    "    res.append(run_experiment(\n",
    "        males, females, block_1, block_2, p, q, 100\n",
    "    ))"
   ]
  },
  {
   "cell_type": "code",
   "execution_count": 17,
   "metadata": {
    "scrolled": false
   },
   "outputs": [],
   "source": [
    "cols = ['male_n', 'female_n', 'block_11', 'block_12', 'block_22']\n",
    "df = pd.DataFrame(res, columns=cols)\n",
    "df.to_csv(\"../results/exp3_HCP.csv\")"
   ]
  },
  {
   "cell_type": "code",
   "execution_count": 16,
   "metadata": {},
   "outputs": [
    {
     "data": {
      "text/html": [
       "<div>\n",
       "<style scoped>\n",
       "    .dataframe tbody tr th:only-of-type {\n",
       "        vertical-align: middle;\n",
       "    }\n",
       "\n",
       "    .dataframe tbody tr th {\n",
       "        vertical-align: top;\n",
       "    }\n",
       "\n",
       "    .dataframe thead th {\n",
       "        text-align: right;\n",
       "    }\n",
       "</style>\n",
       "<table border=\"1\" class=\"dataframe\">\n",
       "  <thead>\n",
       "    <tr style=\"text-align: right;\">\n",
       "      <th></th>\n",
       "      <th>male_n</th>\n",
       "      <th>female_n</th>\n",
       "      <th>block_11</th>\n",
       "      <th>block_12</th>\n",
       "      <th>block_22</th>\n",
       "    </tr>\n",
       "  </thead>\n",
       "  <tbody>\n",
       "    <tr>\n",
       "      <th>0</th>\n",
       "      <td>449</td>\n",
       "      <td>535</td>\n",
       "      <td>0.606947</td>\n",
       "      <td>0.621996</td>\n",
       "      <td>1.00</td>\n",
       "    </tr>\n",
       "    <tr>\n",
       "      <th>1</th>\n",
       "      <td>449</td>\n",
       "      <td>535</td>\n",
       "      <td>0.280340</td>\n",
       "      <td>0.299570</td>\n",
       "      <td>1.00</td>\n",
       "    </tr>\n",
       "    <tr>\n",
       "      <th>2</th>\n",
       "      <td>449</td>\n",
       "      <td>535</td>\n",
       "      <td>0.606940</td>\n",
       "      <td>0.613251</td>\n",
       "      <td>0.99</td>\n",
       "    </tr>\n",
       "  </tbody>\n",
       "</table>\n",
       "</div>"
      ],
      "text/plain": [
       "   male_n  female_n  block_11  block_12  block_22\n",
       "0     449       535  0.606947  0.621996      1.00\n",
       "1     449       535  0.280340  0.299570      1.00\n",
       "2     449       535  0.606940  0.613251      0.99"
      ]
     },
     "execution_count": 16,
     "metadata": {},
     "output_type": "execute_result"
    }
   ],
   "source": [
    "df"
   ]
  },
  {
   "cell_type": "code",
   "execution_count": null,
   "metadata": {},
   "outputs": [],
   "source": []
  }
 ],
 "metadata": {
  "kernelspec": {
   "display_name": "Python 3",
   "language": "python",
   "name": "python3"
  },
  "language_info": {
   "codemirror_mode": {
    "name": "ipython",
    "version": 3
   },
   "file_extension": ".py",
   "mimetype": "text/x-python",
   "name": "python",
   "nbconvert_exporter": "python",
   "pygments_lexer": "ipython3",
   "version": "3.8.1"
  }
 },
 "nbformat": 4,
 "nbformat_minor": 4
}
