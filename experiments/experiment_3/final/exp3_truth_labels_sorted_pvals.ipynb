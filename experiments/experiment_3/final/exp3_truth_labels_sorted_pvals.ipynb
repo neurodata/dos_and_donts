{
 "cells": [
  {
   "cell_type": "code",
   "execution_count": 1,
   "metadata": {},
   "outputs": [],
   "source": [
    "from functools import partial\n",
    "from itertools import product\n",
    "import warnings\n",
    "warnings.simplefilter(\"ignore\")\n",
    "\n",
    "import numpy as np\n",
    "import pandas as pd\n",
    "from graspy.cluster import GaussianCluster\n",
    "from graspy.embed import MultipleASE, OmnibusEmbed\n",
    "from joblib import Parallel, delayed\n",
    "from scipy.stats import ttest_ind\n",
    "\n",
    "from src import generate_binary_sbms_with_communities"
   ]
  },
  {
   "cell_type": "code",
   "execution_count": 8,
   "metadata": {},
   "outputs": [],
   "source": [
    "def estimate_embeddings(X, Y, method):\n",
    "    \"\"\"\n",
    "    Parameters\n",
    "    ----------\n",
    "    method : str\n",
    "        Must be {'mase', 'omni'}\n",
    "    \"\"\"\n",
    "    stacked = np.vstack([X, Y])\n",
    "\n",
    "    if method == \"mase\":\n",
    "        embedder = MultipleASE(2)\n",
    "        embeddings = embedder.fit_transform(stacked)\n",
    "    elif method == \"omni\":\n",
    "        embedder = OmnibusEmbed(2)\n",
    "        embeddings = embedder.fit_transform(stacked).mean(axis=0)\n",
    "    else:\n",
    "        assert ValueError(\"Invalid embedding method\")\n",
    "\n",
    "    return embeddings\n",
    "\n",
    "\n",
    "def estimate_community(embeddings, n_clusters):\n",
    "    predicted_labels = (\n",
    "        GaussianCluster(n_clusters, n_clusters, \"all\").fit_predict(embeddings) + 1\n",
    "    )\n",
    "    return predicted_labels\n",
    "\n",
    "\n",
    "def compute_ttest(pop1, pop2):\n",
    "    statistics, pvals = ttest_ind(pop1, pop2, axis=0)\n",
    "    return pvals\n",
    "\n",
    "\n",
    "def run_experiment(m, block_1, block_2, p, q, delta, n_clusters, reps):\n",
    "    total_n = block_1 + block_2\n",
    "    r, c = np.triu_indices(total_n, k=1)\n",
    "\n",
    "    res = np.zeros((reps, 2))\n",
    "\n",
    "    for i in np.arange(reps).astype(int):\n",
    "        pop1, pop2, true_labels = generate_binary_sbms_with_communities(\n",
    "            m=m, block_1=block_1, block_2=block_2, p=p, q=q, delta=delta\n",
    "        )\n",
    "        pop1_edges = pop1[:, r, c]\n",
    "        pop2_edges = pop2[:, r, c]\n",
    "        true_edges = (true_labels[:, None] + true_labels[None, :])[r, c]\n",
    "\n",
    "        \n",
    "        community_pvals = np.zeros(np.unique(true_edges).size)\n",
    "        cluster_labels = np.unique(true_edges)\n",
    "        for j in np.unique(true_edges):\n",
    "            tmp_labels = true_edges == j\n",
    "\n",
    "            statistics, pvals = ttest_ind(\n",
    "                pop1_edges[:, tmp_labels].ravel(), pop2_edges[:, tmp_labels].ravel(),\n",
    "            )\n",
    "            community_pvals[j] = pvals\n",
    "            \n",
    "            \n",
    "        #find the most significant group\n",
    "        sig_edges = np.zeros((total_n, total_n))[r, c]\n",
    "\n",
    "        sig_comm = cluster_labels[np.argsort(community_pvals, kind='stable')[0]]\n",
    "        sig_edges[true_edges == sig_comm] = 1\n",
    "                \n",
    "\n",
    "        prec = (sig_edges[true_edges == 0]).sum() / sig_edges.sum()\n",
    "        recall = (sig_edges[true_edges == 0]).sum() / (true_edges == 0).sum()\n",
    "\n",
    "        res[i] = (prec, recall)\n",
    "\n",
    "    res = np.nanmean(res, axis=0).reshape(-1)\n",
    "\n",
    "    to_append = [m, p, q, delta, *res]\n",
    "    return to_append"
   ]
  },
  {
   "cell_type": "code",
   "execution_count": 9,
   "metadata": {},
   "outputs": [],
   "source": [
    "block_1 = 25  # different probability\n",
    "block_2 = 25\n",
    "n_clusters = range(2, 3)\n",
    "p = 0.5\n",
    "q = 0.5\n",
    "reps = 100\n",
    "spacing = 50\n",
    "deltas = np.linspace(0, 1 - p, spacing + 1)\n",
    "ms = np.linspace(0, 250, spacing + 1)[1:]\n",
    "\n",
    "partial_func = partial(\n",
    "    run_experiment,\n",
    "    block_1=block_1,\n",
    "    block_2=block_2,\n",
    "    p=p,\n",
    "    q=q,\n",
    "    n_clusters=n_clusters,\n",
    "    reps=reps,\n",
    ")\n",
    "args = [dict(m=m, delta=delta) for m, delta in product(ms, deltas)]\n",
    "# args = sum(zip(reversed(args), args), ())[: len(args)]"
   ]
  },
  {
   "cell_type": "code",
   "execution_count": 10,
   "metadata": {},
   "outputs": [
    {
     "name": "stderr",
     "output_type": "stream",
     "text": [
      "[Parallel(n_jobs=-1)]: Using backend LokyBackend with 128 concurrent workers.\n",
      "[Parallel(n_jobs=-1)]: Done  32 tasks      | elapsed:    5.3s\n",
      "[Parallel(n_jobs=-1)]: Done 136 tasks      | elapsed:   10.0s\n",
      "[Parallel(n_jobs=-1)]: Done 256 tasks      | elapsed:   18.9s\n",
      "[Parallel(n_jobs=-1)]: Done 392 tasks      | elapsed:   31.6s\n",
      "[Parallel(n_jobs=-1)]: Done 544 tasks      | elapsed:   52.4s\n",
      "[Parallel(n_jobs=-1)]: Done 712 tasks      | elapsed:  1.3min\n",
      "[Parallel(n_jobs=-1)]: Done 896 tasks      | elapsed:  2.0min\n",
      "[Parallel(n_jobs=-1)]: Done 1096 tasks      | elapsed:  2.9min\n",
      "[Parallel(n_jobs=-1)]: Done 1312 tasks      | elapsed:  4.0min\n",
      "[Parallel(n_jobs=-1)]: Done 1544 tasks      | elapsed:  5.4min\n",
      "[Parallel(n_jobs=-1)]: Done 1792 tasks      | elapsed:  7.1min\n",
      "[Parallel(n_jobs=-1)]: Done 2056 tasks      | elapsed:  9.3min\n",
      "[Parallel(n_jobs=-1)]: Done 2550 out of 2550 | elapsed: 13.5min finished\n"
     ]
    }
   ],
   "source": [
    "res = Parallel(n_jobs=-1, verbose=7)(delayed(partial_func)(**arg) for arg in args)\n",
    "\n",
    "cols = [\"m\", \"p\", \"q\", \"delta\", \"prec\", \"recall\"]\n",
    "res_df = pd.DataFrame(res, columns=cols)"
   ]
  },
  {
   "cell_type": "code",
   "execution_count": 12,
   "metadata": {},
   "outputs": [],
   "source": [
    "res_df.to_csv(f\"../results/20200409_correct_edges_true_label.csv\", index=False)"
   ]
  },
  {
   "cell_type": "markdown",
   "metadata": {},
   "source": [
    "## Figures"
   ]
  },
  {
   "cell_type": "code",
   "execution_count": 2,
   "metadata": {},
   "outputs": [],
   "source": [
    "import matplotlib.pyplot as plt\n",
    "import seaborn as sns\n",
    "import numpy as np\n",
    "import pandas as pd\n",
    "\n",
    "%matplotlib inline"
   ]
  },
  {
   "cell_type": "code",
   "execution_count": 5,
   "metadata": {},
   "outputs": [
    {
     "data": {
      "text/html": [
       "<div>\n",
       "<style scoped>\n",
       "    .dataframe tbody tr th:only-of-type {\n",
       "        vertical-align: middle;\n",
       "    }\n",
       "\n",
       "    .dataframe tbody tr th {\n",
       "        vertical-align: top;\n",
       "    }\n",
       "\n",
       "    .dataframe thead th {\n",
       "        text-align: right;\n",
       "    }\n",
       "</style>\n",
       "<table border=\"1\" class=\"dataframe\">\n",
       "  <thead>\n",
       "    <tr style=\"text-align: right;\">\n",
       "      <th></th>\n",
       "      <th>m</th>\n",
       "      <th>p</th>\n",
       "      <th>q</th>\n",
       "      <th>delta</th>\n",
       "      <th>prec</th>\n",
       "      <th>recall</th>\n",
       "    </tr>\n",
       "  </thead>\n",
       "  <tbody>\n",
       "    <tr>\n",
       "      <th>1</th>\n",
       "      <td>5.0</td>\n",
       "      <td>0.5</td>\n",
       "      <td>0.5</td>\n",
       "      <td>0.01</td>\n",
       "      <td>0.590909</td>\n",
       "      <td>0.13</td>\n",
       "    </tr>\n",
       "    <tr>\n",
       "      <th>2</th>\n",
       "      <td>5.0</td>\n",
       "      <td>0.5</td>\n",
       "      <td>0.5</td>\n",
       "      <td>0.02</td>\n",
       "      <td>0.606178</td>\n",
       "      <td>0.19</td>\n",
       "    </tr>\n",
       "    <tr>\n",
       "      <th>3</th>\n",
       "      <td>5.0</td>\n",
       "      <td>0.5</td>\n",
       "      <td>0.5</td>\n",
       "      <td>0.03</td>\n",
       "      <td>0.768538</td>\n",
       "      <td>0.32</td>\n",
       "    </tr>\n",
       "    <tr>\n",
       "      <th>4</th>\n",
       "      <td>5.0</td>\n",
       "      <td>0.5</td>\n",
       "      <td>0.5</td>\n",
       "      <td>0.04</td>\n",
       "      <td>0.976562</td>\n",
       "      <td>0.63</td>\n",
       "    </tr>\n",
       "    <tr>\n",
       "      <th>5</th>\n",
       "      <td>5.0</td>\n",
       "      <td>0.5</td>\n",
       "      <td>0.5</td>\n",
       "      <td>0.05</td>\n",
       "      <td>0.887983</td>\n",
       "      <td>0.83</td>\n",
       "    </tr>\n",
       "  </tbody>\n",
       "</table>\n",
       "</div>"
      ],
      "text/plain": [
       "     m    p    q  delta      prec  recall\n",
       "1  5.0  0.5  0.5   0.01  0.590909    0.13\n",
       "2  5.0  0.5  0.5   0.02  0.606178    0.19\n",
       "3  5.0  0.5  0.5   0.03  0.768538    0.32\n",
       "4  5.0  0.5  0.5   0.04  0.976562    0.63\n",
       "5  5.0  0.5  0.5   0.05  0.887983    0.83"
      ]
     },
     "execution_count": 5,
     "metadata": {},
     "output_type": "execute_result"
    }
   ],
   "source": [
    "res_df = pd.read_csv(\"../results/20200322_correct_nodes.csv\")\n",
    "res_df = res_df[res_df.delta != 0]\n",
    "res_df.head()"
   ]
  },
  {
   "cell_type": "code",
   "execution_count": 6,
   "metadata": {},
   "outputs": [
    {
     "data": {
      "text/plain": [
       "(2500, 6)"
      ]
     },
     "execution_count": 6,
     "metadata": {},
     "output_type": "execute_result"
    }
   ],
   "source": [
    "res_df.shape"
   ]
  },
  {
   "cell_type": "code",
   "execution_count": 12,
   "metadata": {
    "scrolled": false
   },
   "outputs": [
    {
     "data": {
      "image/png": "[encoded data removed]",
      "text/plain": [
       "<Figure size 936x432 with 3 Axes>"
      ]
     },
     "metadata": {
      "needs_background": "light"
     },
     "output_type": "display_data"
    }
   ],
   "source": [
    "p = 0.5\n",
    "spacing = 50\n",
    "\n",
    "xticklabels = np.linspace(0, 1 - p, spacing + 1)[::10]\n",
    "xticklabels[0] += 0.01\n",
    "yticklabels = np.linspace(0, 250, spacing + 1)[::10] * 2\n",
    "yticklabels[0] += 10\n",
    "\n",
    "# Make figure with correct subplots\n",
    "sns.set_context(\"talk\", font_scale=1)\n",
    "fig, ax = plt.subplots(\n",
    "    1,\n",
    "    3,\n",
    "    gridspec_kw={\"width_ratios\": [1, 1, 0.05]},\n",
    "    figsize=(13, 6),\n",
    "    # sharex=True,\n",
    "    # sharey=True,\n",
    "    constrained_layout=True,\n",
    ")\n",
    "\n",
    "for i, metric in enumerate([\"prec\", \"recall\"]):\n",
    "    sns.heatmap(\n",
    "        np.flipud(res_df[metric].values.reshape(spacing, -1)),\n",
    "        ax=ax[i],\n",
    "        square=True,\n",
    "        center=0,\n",
    "        cmap=\"RdBu_r\",\n",
    "        cbar_kws=dict(shrink=0.7),\n",
    "        xticklabels=[\"{:.2f}\".format(x) for x in xticklabels],\n",
    "        yticklabels=[\"{:.0f}\".format(y) for y in yticklabels],\n",
    "        cbar_ax=ax[-1],\n",
    "        vmin=0,\n",
    "        vmax=1,\n",
    "    )\n",
    "    ax[i].set_xticks(np.arange(0, ax[0].get_xlim()[1] + 1, 10))\n",
    "    ax[i].set_yticks(np.arange(0, ax[0].get_ylim()[0] + 1, 10)[::-1])\n",
    "\n",
    "ax[0].set_title(\"Precision\")\n",
    "ax[1].set_title(\"Recall\")\n",
    "fig.text(0.5, 1.05, f\"Using Truth Label\", fontsize=25, va=\"center\", ha=\"center\")\n",
    "fig.text(-0.025, 0.5, \"Sample Size\", va=\"center\", rotation=\"vertical\")\n",
    "fig.text(0.5, -0.05, \"Effect Size\", va=\"center\", ha=\"center\")\n",
    "\n",
    "fig.savefig(f\"./exp3_truth_label.png\", dpi=300, bbox_inches=\"tight\")\n",
    "fig.savefig(f\"./exp3_truth_label.pdf\", dpi=300, bbox_inches=\"tight\")"
   ]
  },
  {
   "cell_type": "code",
   "execution_count": null,
   "metadata": {},
   "outputs": [],
   "source": []
  }
 ],
 "metadata": {
  "kernelspec": {
   "display_name": "Python 3",
   "language": "python",
   "name": "python3"
  },
  "language_info": {
   "codemirror_mode": {
    "name": "ipython",
    "version": 3
   },
   "file_extension": ".py",
   "mimetype": "text/x-python",
   "name": "python",
   "nbconvert_exporter": "python",
   "pygments_lexer": "ipython3",
   "version": "3.8.1"
  }
 },
 "nbformat": 4,
 "nbformat_minor": 4
}
