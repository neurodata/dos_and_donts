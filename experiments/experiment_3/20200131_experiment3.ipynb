{
 "cells": [
  {
   "cell_type": "code",
   "execution_count": 1,
   "metadata": {},
   "outputs": [
    {
     "data": {
      "application/javascript": [
       "\n",
       "            setTimeout(function() {\n",
       "                var nbb_cell_id = 1;\n",
       "                var nbb_unformatted_code = \"%load_ext nb_black\";\n",
       "                var nbb_formatted_code = \"%load_ext nb_black\";\n",
       "                var nbb_cells = Jupyter.notebook.get_cells();\n",
       "                for (var i = 0; i < nbb_cells.length; ++i) {\n",
       "                    if (nbb_cells[i].input_prompt_number == nbb_cell_id) {\n",
       "                        if (nbb_cells[i].get_text() == nbb_unformatted_code) {\n",
       "                             nbb_cells[i].set_text(nbb_formatted_code);\n",
       "                        }\n",
       "                        break;\n",
       "                    }\n",
       "                }\n",
       "            }, 500);\n",
       "            "
      ],
      "text/plain": [
       "<IPython.core.display.Javascript object>"
      ]
     },
     "metadata": {},
     "output_type": "display_data"
    }
   ],
   "source": [
    "%load_ext nb_black"
   ]
  },
  {
   "cell_type": "code",
   "execution_count": 7,
   "metadata": {},
   "outputs": [
    {
     "data": {
      "application/javascript": [
       "\n",
       "            setTimeout(function() {\n",
       "                var nbb_cell_id = 7;\n",
       "                var nbb_unformatted_code = \"from itertools import product\\n\\nimport numpy as np\\nfrom graspy.embed import MultipleASE, OmnibusEmbed\\nfrom graspy.cluster import AutoGMMCluster, KMeansCluster, GaussianCluster\\nfrom graspy.simulations import er_np, sbm\\nfrom graspy.models import SBMEstimator\\nfrom graspy.plot import heatmap\\nfrom scipy.stats import ttest_ind\\nimport pandas as pd\\nimport seaborn as sns\\nimport matplotlib.pyplot as plt\\nfrom joblib import Parallel, delayed\\nimport warnings\\n\\nwarnings.filterwarnings(\\\"ignore\\\")\\n%matplotlib inline\";\n",
       "                var nbb_formatted_code = \"from itertools import product\\n\\nimport numpy as np\\nfrom graspy.embed import MultipleASE, OmnibusEmbed\\nfrom graspy.cluster import AutoGMMCluster, KMeansCluster, GaussianCluster\\nfrom graspy.simulations import er_np, sbm\\nfrom graspy.models import SBMEstimator\\nfrom graspy.plot import heatmap\\nfrom scipy.stats import ttest_ind\\nimport pandas as pd\\nimport seaborn as sns\\nimport matplotlib.pyplot as plt\\nfrom joblib import Parallel, delayed\\nimport warnings\\n\\nwarnings.filterwarnings(\\\"ignore\\\")\\n%matplotlib inline\";\n",
       "                var nbb_cells = Jupyter.notebook.get_cells();\n",
       "                for (var i = 0; i < nbb_cells.length; ++i) {\n",
       "                    if (nbb_cells[i].input_prompt_number == nbb_cell_id) {\n",
       "                        if (nbb_cells[i].get_text() == nbb_unformatted_code) {\n",
       "                             nbb_cells[i].set_text(nbb_formatted_code);\n",
       "                        }\n",
       "                        break;\n",
       "                    }\n",
       "                }\n",
       "            }, 500);\n",
       "            "
      ],
      "text/plain": [
       "<IPython.core.display.Javascript object>"
      ]
     },
     "metadata": {},
     "output_type": "display_data"
    }
   ],
   "source": [
    "from itertools import product\n",
    "\n",
    "import numpy as np\n",
    "from graspy.embed import MultipleASE, OmnibusEmbed\n",
    "from graspy.cluster import AutoGMMCluster, KMeansCluster, GaussianCluster\n",
    "from graspy.simulations import er_np, sbm\n",
    "from graspy.models import SBMEstimator\n",
    "from graspy.plot import heatmap\n",
    "from scipy.stats import ttest_ind\n",
    "import pandas as pd\n",
    "import seaborn as sns\n",
    "import matplotlib.pyplot as plt\n",
    "from joblib import Parallel, delayed\n",
    "import warnings\n",
    "\n",
    "warnings.filterwarnings(\"ignore\")\n",
    "%matplotlib inline"
   ]
  },
  {
   "cell_type": "code",
   "execution_count": 8,
   "metadata": {},
   "outputs": [
    {
     "data": {
      "application/javascript": [
       "\n",
       "            setTimeout(function() {\n",
       "                var nbb_cell_id = 8;\n",
       "                var nbb_unformatted_code = \"def generate_data(m, n=[5, 15], p=0.5, delta=0):\\n    np.random.seed(None)\\n\\n    if (p + delta > 1) or (p + delta < 1):\\n        assert ValueError(\\\"p + delta must be between [0, 1]\\\")\\n\\n    p1 = [[p, p], [p, p]]\\n    p2 = [[p + delta, p], [p, p]]\\n\\n    X = np.stack([sbm(n, p1) for _ in np.arange(m)])\\n    Y = np.stack([sbm(n, p2) for _ in np.arange(m)])\\n\\n    labels = np.array([0] * n[0] + [1] * n[1])\\n\\n    return X, Y, labels\\n\\n\\ndef estimate_community(X, Y, true_labels, method):\\n    \\\"\\\"\\\"\\n    Parameters\\n    ----------\\n    method : str\\n        Must be {'mase', 'omni'}\\n    \\\"\\\"\\\"\\n    stacked = np.vstack([X, Y])\\n\\n    if method == \\\"mase\\\":\\n        embedder = MultipleASE(2)\\n        embeddings = embedder.fit_transform(stacked)\\n    elif method == \\\"omni\\\":\\n        embedder = OmnibusEmbed(2)\\n        embeddings = embedder.fit_transform(stacked).mean(axis=0)\\n    else:\\n        assert ValueError(\\\"Invalid embedding method\\\")\\n\\n    predicted_labels = GaussianCluster(2, 2, \\\"all\\\").fit_predict(embeddings)\\n\\n    # Label flipping\\n    idx = true_labels == 0\\n    if np.mean(predicted_labels[idx]) < 0.5:\\n        return predicted_labels\\n    else:\\n        # This is bitwise flipping. Turns all 0s to 1s and 1s to 0s.\\n        # Reason is to make labels consistent across repetitions\\n        predicted_labels = predicted_labels ^ (predicted_labels & 1 == predicted_labels)\\n        return predicted_labels\\n\\n\\ndef estimate_b(X, Y, labels):\\n    pop_1_block_p = np.array([SBMEstimator(False).fit(x, labels).block_p_ for x in X])\\n    pop_2_block_p = np.array([SBMEstimator(False).fit(x, labels).block_p_ for x in Y])\\n\\n    return pop_1_block_p, pop_2_block_p\\n\\n\\ndef compute_ttest(pop1, pop2):\\n    statistics, pvals = ttest_ind(pop1, pop2, axis=0)\\n\\n    return pvals\\n\\n\\ndef compute_pr_at_k(different_n, k, test_statistics):\\n    n = test_statistics.shape[0]\\n    labels = np.zeros((n, n))\\n    labels[0:different_n, 0:different_n] = 1\\n\\n    triu_idx = np.triu_indices_from(test_statistics, k=1)\\n    test_statistics_ = np.abs(test_statistics[triu_idx])\\n    labels_ = labels[triu_idx]\\n\\n    idx = np.argsort(test_statistics_)[::-1]\\n    sorted_labels = labels_[idx]\\n\\n    precision_at_k = sorted_labels[:k].mean()\\n    recall_at_k = sorted_labels[:k].sum() / sorted_labels.sum()\\n\\n    return precision_at_k, recall_at_k\";\n",
       "                var nbb_formatted_code = \"def generate_data(m, n=[5, 15], p=0.5, delta=0):\\n    np.random.seed(None)\\n\\n    if (p + delta > 1) or (p + delta < 1):\\n        assert ValueError(\\\"p + delta must be between [0, 1]\\\")\\n\\n    p1 = [[p, p], [p, p]]\\n    p2 = [[p + delta, p], [p, p]]\\n\\n    X = np.stack([sbm(n, p1) for _ in np.arange(m)])\\n    Y = np.stack([sbm(n, p2) for _ in np.arange(m)])\\n\\n    labels = np.array([0] * n[0] + [1] * n[1])\\n\\n    return X, Y, labels\\n\\n\\ndef estimate_community(X, Y, true_labels, method):\\n    \\\"\\\"\\\"\\n    Parameters\\n    ----------\\n    method : str\\n        Must be {'mase', 'omni'}\\n    \\\"\\\"\\\"\\n    stacked = np.vstack([X, Y])\\n\\n    if method == \\\"mase\\\":\\n        embedder = MultipleASE(2)\\n        embeddings = embedder.fit_transform(stacked)\\n    elif method == \\\"omni\\\":\\n        embedder = OmnibusEmbed(2)\\n        embeddings = embedder.fit_transform(stacked).mean(axis=0)\\n    else:\\n        assert ValueError(\\\"Invalid embedding method\\\")\\n\\n    predicted_labels = GaussianCluster(2, 2, \\\"all\\\").fit_predict(embeddings)\\n\\n    # Label flipping\\n    idx = true_labels == 0\\n    if np.mean(predicted_labels[idx]) < 0.5:\\n        return predicted_labels\\n    else:\\n        # This is bitwise flipping. Turns all 0s to 1s and 1s to 0s.\\n        # Reason is to make labels consistent across repetitions\\n        predicted_labels = predicted_labels ^ (predicted_labels & 1 == predicted_labels)\\n        return predicted_labels\\n\\n\\ndef estimate_b(X, Y, labels):\\n    pop_1_block_p = np.array([SBMEstimator(False).fit(x, labels).block_p_ for x in X])\\n    pop_2_block_p = np.array([SBMEstimator(False).fit(x, labels).block_p_ for x in Y])\\n\\n    return pop_1_block_p, pop_2_block_p\\n\\n\\ndef compute_ttest(pop1, pop2):\\n    statistics, pvals = ttest_ind(pop1, pop2, axis=0)\\n\\n    return pvals\\n\\n\\ndef compute_pr_at_k(different_n, k, test_statistics):\\n    n = test_statistics.shape[0]\\n    labels = np.zeros((n, n))\\n    labels[0:different_n, 0:different_n] = 1\\n\\n    triu_idx = np.triu_indices_from(test_statistics, k=1)\\n    test_statistics_ = np.abs(test_statistics[triu_idx])\\n    labels_ = labels[triu_idx]\\n\\n    idx = np.argsort(test_statistics_)[::-1]\\n    sorted_labels = labels_[idx]\\n\\n    precision_at_k = sorted_labels[:k].mean()\\n    recall_at_k = sorted_labels[:k].sum() / sorted_labels.sum()\\n\\n    return precision_at_k, recall_at_k\";\n",
       "                var nbb_cells = Jupyter.notebook.get_cells();\n",
       "                for (var i = 0; i < nbb_cells.length; ++i) {\n",
       "                    if (nbb_cells[i].input_prompt_number == nbb_cell_id) {\n",
       "                        if (nbb_cells[i].get_text() == nbb_unformatted_code) {\n",
       "                             nbb_cells[i].set_text(nbb_formatted_code);\n",
       "                        }\n",
       "                        break;\n",
       "                    }\n",
       "                }\n",
       "            }, 500);\n",
       "            "
      ],
      "text/plain": [
       "<IPython.core.display.Javascript object>"
      ]
     },
     "metadata": {},
     "output_type": "display_data"
    }
   ],
   "source": [
    "def generate_data(m, n=[5, 15], p=0.5, delta=0):\n",
    "    np.random.seed(None)\n",
    "\n",
    "    if (p + delta > 1) or (p + delta < 1):\n",
    "        assert ValueError(\"p + delta must be between [0, 1]\")\n",
    "\n",
    "    p1 = [[p, p], [p, p]]\n",
    "    p2 = [[p + delta, p], [p, p]]\n",
    "\n",
    "    X = np.stack([sbm(n, p1) for _ in np.arange(m)])\n",
    "    Y = np.stack([sbm(n, p2) for _ in np.arange(m)])\n",
    "\n",
    "    labels = np.array([0] * n[0] + [1] * n[1])\n",
    "\n",
    "    return X, Y, labels\n",
    "\n",
    "\n",
    "def estimate_community(X, Y, true_labels, method):\n",
    "    \"\"\"\n",
    "    Parameters\n",
    "    ----------\n",
    "    method : str\n",
    "        Must be {'mase', 'omni'}\n",
    "    \"\"\"\n",
    "    stacked = np.vstack([X, Y])\n",
    "\n",
    "    if method == \"mase\":\n",
    "        embedder = MultipleASE(2)\n",
    "        embeddings = embedder.fit_transform(stacked)\n",
    "    elif method == \"omni\":\n",
    "        embedder = OmnibusEmbed(2)\n",
    "        embeddings = embedder.fit_transform(stacked).mean(axis=0)\n",
    "    else:\n",
    "        assert ValueError(\"Invalid embedding method\")\n",
    "\n",
    "    predicted_labels = GaussianCluster(2, 2, \"all\").fit_predict(embeddings)\n",
    "\n",
    "    # Label flipping\n",
    "    idx = true_labels == 0\n",
    "    if np.mean(predicted_labels[idx]) < 0.5:\n",
    "        return predicted_labels\n",
    "    else:\n",
    "        # This is bitwise flipping. Turns all 0s to 1s and 1s to 0s.\n",
    "        # Reason is to make labels consistent across repetitions\n",
    "        predicted_labels = predicted_labels ^ (predicted_labels & 1 == predicted_labels)\n",
    "        return predicted_labels\n",
    "\n",
    "\n",
    "def estimate_b(X, Y, labels):\n",
    "    pop_1_block_p = np.array([SBMEstimator(False).fit(x, labels).block_p_ for x in X])\n",
    "    pop_2_block_p = np.array([SBMEstimator(False).fit(x, labels).block_p_ for x in Y])\n",
    "\n",
    "    return pop_1_block_p, pop_2_block_p\n",
    "\n",
    "\n",
    "def compute_ttest(pop1, pop2):\n",
    "    statistics, pvals = ttest_ind(pop1, pop2, axis=0)\n",
    "\n",
    "    return pvals\n",
    "\n",
    "\n",
    "def compute_pr_at_k(different_n, k, test_statistics):\n",
    "    n = test_statistics.shape[0]\n",
    "    labels = np.zeros((n, n))\n",
    "    labels[0:different_n, 0:different_n] = 1\n",
    "\n",
    "    triu_idx = np.triu_indices_from(test_statistics, k=1)\n",
    "    test_statistics_ = np.abs(test_statistics[triu_idx])\n",
    "    labels_ = labels[triu_idx]\n",
    "\n",
    "    idx = np.argsort(test_statistics_)[::-1]\n",
    "    sorted_labels = labels_[idx]\n",
    "\n",
    "    precision_at_k = sorted_labels[:k].mean()\n",
    "    recall_at_k = sorted_labels[:k].sum() / sorted_labels.sum()\n",
    "\n",
    "    return precision_at_k, recall_at_k"
   ]
  },
  {
   "cell_type": "code",
   "execution_count": 9,
   "metadata": {},
   "outputs": [
    {
     "data": {
      "application/javascript": [
       "\n",
       "            setTimeout(function() {\n",
       "                var nbb_cell_id = 9;\n",
       "                var nbb_unformatted_code = \"def run_experiment(m, delta, reps):\\n    omni_powers = np.zeros((reps, 2, 2))\\n    mase_powers = np.zeros((reps, 2, 2))\\n\\n    for i in np.arange(reps).astype(int):\\n        tmp_powers = []\\n        pop1, pop2, true_labels = generate_data(m=m, delta=delta)\\n        for method in [\\\"mase\\\", \\\"omni\\\"]:\\n            predicted_labels = estimate_community(pop1, pop2, true_labels, method)\\n            pop1_b, pop2_b = estimate_b(pop1, pop2, predicted_labels)\\n            pvals = compute_ttest(pop1_b, pop2_b)\\n\\n            if method == \\\"mase\\\":\\n                mase_powers[i] = pvals\\n            else:\\n                omni_powers[i] = pvals\\n    omni_powers = (omni_powers <= 0.05).mean(axis=0)[np.triu_indices(2)]\\n    mase_powers = (mase_powers <= 0.05).mean(axis=0)[np.triu_indices(2)]\\n\\n    to_append = [p, delta, m, *omni_powers, *mase_powers]\\n    return to_append\";\n",
       "                var nbb_formatted_code = \"def run_experiment(m, delta, reps):\\n    omni_powers = np.zeros((reps, 2, 2))\\n    mase_powers = np.zeros((reps, 2, 2))\\n\\n    for i in np.arange(reps).astype(int):\\n        tmp_powers = []\\n        pop1, pop2, true_labels = generate_data(m=m, delta=delta)\\n        for method in [\\\"mase\\\", \\\"omni\\\"]:\\n            predicted_labels = estimate_community(pop1, pop2, true_labels, method)\\n            pop1_b, pop2_b = estimate_b(pop1, pop2, predicted_labels)\\n            pvals = compute_ttest(pop1_b, pop2_b)\\n\\n            if method == \\\"mase\\\":\\n                mase_powers[i] = pvals\\n            else:\\n                omni_powers[i] = pvals\\n    omni_powers = (omni_powers <= 0.05).mean(axis=0)[np.triu_indices(2)]\\n    mase_powers = (mase_powers <= 0.05).mean(axis=0)[np.triu_indices(2)]\\n\\n    to_append = [p, delta, m, *omni_powers, *mase_powers]\\n    return to_append\";\n",
       "                var nbb_cells = Jupyter.notebook.get_cells();\n",
       "                for (var i = 0; i < nbb_cells.length; ++i) {\n",
       "                    if (nbb_cells[i].input_prompt_number == nbb_cell_id) {\n",
       "                        if (nbb_cells[i].get_text() == nbb_unformatted_code) {\n",
       "                             nbb_cells[i].set_text(nbb_formatted_code);\n",
       "                        }\n",
       "                        break;\n",
       "                    }\n",
       "                }\n",
       "            }, 500);\n",
       "            "
      ],
      "text/plain": [
       "<IPython.core.display.Javascript object>"
      ]
     },
     "metadata": {},
     "output_type": "display_data"
    }
   ],
   "source": [
    "def run_experiment(m, delta, reps):\n",
    "    omni_powers = np.zeros((reps, 2, 2))\n",
    "    mase_powers = np.zeros((reps, 2, 2))\n",
    "\n",
    "    for i in np.arange(reps).astype(int):\n",
    "        tmp_powers = []\n",
    "        pop1, pop2, true_labels = generate_data(m=m, delta=delta)\n",
    "        for method in [\"mase\", \"omni\"]:\n",
    "            predicted_labels = estimate_community(pop1, pop2, true_labels, method)\n",
    "            pop1_b, pop2_b = estimate_b(pop1, pop2, predicted_labels)\n",
    "            pvals = compute_ttest(pop1_b, pop2_b)\n",
    "\n",
    "            if method == \"mase\":\n",
    "                mase_powers[i] = pvals\n",
    "            else:\n",
    "                omni_powers[i] = pvals\n",
    "    omni_powers = (omni_powers <= 0.05).mean(axis=0)[np.triu_indices(2)]\n",
    "    mase_powers = (mase_powers <= 0.05).mean(axis=0)[np.triu_indices(2)]\n",
    "\n",
    "    to_append = [p, delta, m, *omni_powers, *mase_powers]\n",
    "    return to_append"
   ]
  },
  {
   "cell_type": "code",
   "execution_count": 10,
   "metadata": {},
   "outputs": [
    {
     "data": {
      "application/javascript": [
       "\n",
       "            setTimeout(function() {\n",
       "                var nbb_cell_id = 10;\n",
       "                var nbb_unformatted_code = \"block_1 = 25  # different probability\\nblock_2 = 25\\nn = [block_1, block_2]\\np = 0.5\\n\\nspacing = 50\\ndeltas = np.linspace(0, 1 - p, spacing + 1)[1:]\\nms = np.linspace(0, 500, spacing + 1)[1:]\\n\\nreps = 100\";\n",
       "                var nbb_formatted_code = \"block_1 = 25  # different probability\\nblock_2 = 25\\nn = [block_1, block_2]\\np = 0.5\\n\\nspacing = 50\\ndeltas = np.linspace(0, 1 - p, spacing + 1)[1:]\\nms = np.linspace(0, 500, spacing + 1)[1:]\\n\\nreps = 100\";\n",
       "                var nbb_cells = Jupyter.notebook.get_cells();\n",
       "                for (var i = 0; i < nbb_cells.length; ++i) {\n",
       "                    if (nbb_cells[i].input_prompt_number == nbb_cell_id) {\n",
       "                        if (nbb_cells[i].get_text() == nbb_unformatted_code) {\n",
       "                             nbb_cells[i].set_text(nbb_formatted_code);\n",
       "                        }\n",
       "                        break;\n",
       "                    }\n",
       "                }\n",
       "            }, 500);\n",
       "            "
      ],
      "text/plain": [
       "<IPython.core.display.Javascript object>"
      ]
     },
     "metadata": {},
     "output_type": "display_data"
    }
   ],
   "source": [
    "block_1 = 25  # different probability\n",
    "block_2 = 25\n",
    "n = [block_1, block_2]\n",
    "p = 0.5\n",
    "\n",
    "spacing = 50\n",
    "deltas = np.linspace(0, 1 - p, spacing + 1)[1:]\n",
    "ms = np.linspace(0, 500, spacing + 1)[1:]\n",
    "\n",
    "reps = 100"
   ]
  },
  {
   "cell_type": "code",
   "execution_count": null,
   "metadata": {},
   "outputs": [
    {
     "name": "stderr",
     "output_type": "stream",
     "text": [
      "[Parallel(n_jobs=-2)]: Using backend LokyBackend with 95 concurrent workers.\n",
      "[Parallel(n_jobs=-2)]: Done  10 tasks      | elapsed:   20.2s\n",
      "[Parallel(n_jobs=-2)]: Done 260 tasks      | elapsed:  3.6min\n",
      "[Parallel(n_jobs=-2)]: Done 610 tasks      | elapsed: 22.9min\n",
      "[Parallel(n_jobs=-2)]: Done 1060 tasks      | elapsed: 104.5min\n"
     ]
    }
   ],
   "source": [
    "args = [dict(m=m, delta=delta, reps=reps) for m, delta in product(ms, deltas)]\n",
    "\n",
    "res = Parallel(n_jobs=-2, verbose=1)(delayed(run_experiment)(**arg) for arg in args)"
   ]
  },
  {
   "cell_type": "code",
   "execution_count": 16,
   "metadata": {},
   "outputs": [
    {
     "data": {
      "application/javascript": [
       "\n",
       "            setTimeout(function() {\n",
       "                var nbb_cell_id = 16;\n",
       "                var nbb_unformatted_code = \"cols = [\\\"p\\\", \\\"delta\\\", \\\"m\\\", *[f\\\"omni_power_{i}\\\" for i in range(1, 4)], *[f\\\"mase_power_{i}\\\" for i in range(1, 4)]]\\nres_df = pd.DataFrame(res, columns=cols)\";\n",
       "                var nbb_formatted_code = \"cols = [\\n    \\\"p\\\",\\n    \\\"delta\\\",\\n    \\\"m\\\",\\n    *[f\\\"omni_power_{i}\\\" for i in range(1, 4)],\\n    *[f\\\"mase_power_{i}\\\" for i in range(1, 4)],\\n]\\nres_df = pd.DataFrame(res, columns=cols)\";\n",
       "                var nbb_cells = Jupyter.notebook.get_cells();\n",
       "                for (var i = 0; i < nbb_cells.length; ++i) {\n",
       "                    if (nbb_cells[i].input_prompt_number == nbb_cell_id) {\n",
       "                        if (nbb_cells[i].get_text() == nbb_unformatted_code) {\n",
       "                             nbb_cells[i].set_text(nbb_formatted_code);\n",
       "                        }\n",
       "                        break;\n",
       "                    }\n",
       "                }\n",
       "            }, 500);\n",
       "            "
      ],
      "text/plain": [
       "<IPython.core.display.Javascript object>"
      ]
     },
     "metadata": {},
     "output_type": "display_data"
    }
   ],
   "source": [
    "cols = [\n",
    "    \"p\",\n",
    "    \"delta\",\n",
    "    \"m\",\n",
    "    *[f\"omni_power_{i}\" for i in range(1, 4)],\n",
    "    *[f\"mase_power_{i}\" for i in range(1, 4)],\n",
    "]\n",
    "res_df = pd.DataFrame(res, columns=cols)"
   ]
  },
  {
   "cell_type": "code",
   "execution_count": 18,
   "metadata": {},
   "outputs": [
    {
     "data": {
      "application/javascript": [
       "\n",
       "            setTimeout(function() {\n",
       "                var nbb_cell_id = 18;\n",
       "                var nbb_unformatted_code = \"res_df.to_csv(\\\"20200131_results.csv\\\", index=False)\";\n",
       "                var nbb_formatted_code = \"res_df.to_csv(\\\"20200131_results.csv\\\", index=False)\";\n",
       "                var nbb_cells = Jupyter.notebook.get_cells();\n",
       "                for (var i = 0; i < nbb_cells.length; ++i) {\n",
       "                    if (nbb_cells[i].input_prompt_number == nbb_cell_id) {\n",
       "                        if (nbb_cells[i].get_text() == nbb_unformatted_code) {\n",
       "                             nbb_cells[i].set_text(nbb_formatted_code);\n",
       "                        }\n",
       "                        break;\n",
       "                    }\n",
       "                }\n",
       "            }, 500);\n",
       "            "
      ],
      "text/plain": [
       "<IPython.core.display.Javascript object>"
      ]
     },
     "metadata": {},
     "output_type": "display_data"
    }
   ],
   "source": [
    "res_df.to_csv(\"20200131_results.csv\", index=False)"
   ]
  },
  {
   "cell_type": "markdown",
   "metadata": {},
   "source": [
    "## Figures"
   ]
  },
  {
   "cell_type": "code",
   "execution_count": 24,
   "metadata": {},
   "outputs": [
    {
     "data": {
      "image/png": "[encoded data removed]",
      "text/plain": [
       "<Figure size 720x576 with 2 Axes>"
      ]
     },
     "metadata": {
      "needs_background": "light"
     },
     "output_type": "display_data"
    },
    {
     "data": {
      "application/javascript": [
       "\n",
       "            setTimeout(function() {\n",
       "                var nbb_cell_id = 24;\n",
       "                var nbb_unformatted_code = \"spacing = 50\\ndeltas = np.linspace(0, 1 - p, spacing + 1)[1:]\\nsamples = np.linspace(0, 500, spacing + 1)[1:]\\n\\n\\nsamples = np.arange(0, 1001, 100)\\nsamples[0] += 10\\nsamples *= 2\\nsamples = [str(i) for i in samples]\\n\\nfmt = lambda x: \\\"{:.2f}\\\".format(x)\\n\\nwith sns.plotting_context(\\\"talk\\\", font_scale=1.25):\\n    # fig, ax = plt.subplots(figsize=(10, 10))\\n    fig, ax = plt.subplots(\\n        1,\\n        2,\\n        gridspec_kw={\\\"width_ratios\\\": [1, 0.05]},\\n        figsize=(10, 8),\\n        constrained_layout=True,\\n    )\\n\\n    sns.heatmap(\\n        np.flipud(res_df.power.values.reshape(spacing, -1)),\\n        ax=ax[0],\\n        square=True,\\n        center=0,\\n        cmap=\\\"RdBu_r\\\",\\n        cbar_kws=dict(shrink=0.7),\\n        xticklabels=[fmt(i) for i in np.linspace(0, 1 - p, 51)[::10]],\\n        yticklabels=samples,\\n        cbar_ax=ax[-1],\\n        vmin=0,\\n        vmax=1,\\n    )\\n    ax[0].set_xticks(np.arange(0, ax[0].get_xlim()[1] + 1, 10))\\n    ax[0].set_yticks(np.arange(0, ax[0].get_ylim()[0] + 1, 10)[::-1])\\n    ax[0].set_title(\\\"Power\\\")\\n\\n    fig.text(-0.01, 0.5, \\\"Sample Size\\\", va=\\\"center\\\", rotation=\\\"vertical\\\")\\n    fig.text(0.5, -0.03, \\\"Effect Size\\\", va=\\\"center\\\", ha=\\\"center\\\")\\n\\n    # fig.tight_layout()\\n\\n    fig.savefig(\\\"./figures/20200127_power.png\\\", dpi=300, bbox_inches=\\\"tight\\\")\\n    fig.savefig(\\\"./figures/20200127_power.pdf\\\", bbox_inches=\\\"tight\\\")\";\n",
       "                var nbb_formatted_code = \"spacing = 50\\ndeltas = np.linspace(0, 1 - p, spacing + 1)[1:]\\nsamples = np.linspace(0, 500, spacing + 1)[1:]\\n\\n\\nsamples = np.arange(0, 1001, 100)\\nsamples[0] += 10\\nsamples *= 2\\nsamples = [str(i) for i in samples]\\n\\nfmt = lambda x: \\\"{:.2f}\\\".format(x)\\n\\nwith sns.plotting_context(\\\"talk\\\", font_scale=1.25):\\n    # fig, ax = plt.subplots(figsize=(10, 10))\\n    fig, ax = plt.subplots(\\n        1,\\n        2,\\n        gridspec_kw={\\\"width_ratios\\\": [1, 0.05]},\\n        figsize=(10, 8),\\n        constrained_layout=True,\\n    )\\n\\n    sns.heatmap(\\n        np.flipud(res_df.power.values.reshape(spacing, -1)),\\n        ax=ax[0],\\n        square=True,\\n        center=0,\\n        cmap=\\\"RdBu_r\\\",\\n        cbar_kws=dict(shrink=0.7),\\n        xticklabels=[fmt(i) for i in np.linspace(0, 1 - p, 51)[::10]],\\n        yticklabels=samples,\\n        cbar_ax=ax[-1],\\n        vmin=0,\\n        vmax=1,\\n    )\\n    ax[0].set_xticks(np.arange(0, ax[0].get_xlim()[1] + 1, 10))\\n    ax[0].set_yticks(np.arange(0, ax[0].get_ylim()[0] + 1, 10)[::-1])\\n    ax[0].set_title(\\\"Power\\\")\\n\\n    fig.text(-0.01, 0.5, \\\"Sample Size\\\", va=\\\"center\\\", rotation=\\\"vertical\\\")\\n    fig.text(0.5, -0.03, \\\"Effect Size\\\", va=\\\"center\\\", ha=\\\"center\\\")\\n\\n    # fig.tight_layout()\\n\\n    fig.savefig(\\\"./figures/20200127_power.png\\\", dpi=300, bbox_inches=\\\"tight\\\")\\n    fig.savefig(\\\"./figures/20200127_power.pdf\\\", bbox_inches=\\\"tight\\\")\";\n",
       "                var nbb_cells = Jupyter.notebook.get_cells();\n",
       "                for (var i = 0; i < nbb_cells.length; ++i) {\n",
       "                    if (nbb_cells[i].input_prompt_number == nbb_cell_id) {\n",
       "                        if (nbb_cells[i].get_text() == nbb_unformatted_code) {\n",
       "                             nbb_cells[i].set_text(nbb_formatted_code);\n",
       "                        }\n",
       "                        break;\n",
       "                    }\n",
       "                }\n",
       "            }, 500);\n",
       "            "
      ],
      "text/plain": [
       "<IPython.core.display.Javascript object>"
      ]
     },
     "metadata": {},
     "output_type": "display_data"
    }
   ],
   "source": [
    "spacing = 50\n",
    "deltas = np.linspace(0, 1 - p, spacing + 1)[1:]\n",
    "samples = np.linspace(0, 500, spacing + 1)[1:]\n",
    "\n",
    "\n",
    "samples = np.arange(0, 1001, 100)\n",
    "samples[0] += 10\n",
    "samples *= 2\n",
    "samples = [str(i) for i in samples]\n",
    "\n",
    "fmt = lambda x: \"{:.2f}\".format(x)\n",
    "\n",
    "with sns.plotting_context(\"talk\", font_scale=1.25):\n",
    "    # fig, ax = plt.subplots(figsize=(10, 10))\n",
    "    fig, ax = plt.subplots(\n",
    "        1,\n",
    "        2,\n",
    "        gridspec_kw={\"width_ratios\": [1, 0.05]},\n",
    "        figsize=(10, 8),\n",
    "        constrained_layout=True,\n",
    "    )\n",
    "\n",
    "    sns.heatmap(\n",
    "        np.flipud(res_df.power.values.reshape(spacing, -1)),\n",
    "        ax=ax[0],\n",
    "        square=True,\n",
    "        center=0,\n",
    "        cmap=\"RdBu_r\",\n",
    "        cbar_kws=dict(shrink=0.7),\n",
    "        xticklabels=[fmt(i) for i in np.linspace(0, 1 - p, 51)[::10]],\n",
    "        yticklabels=samples,\n",
    "        cbar_ax=ax[-1],\n",
    "        vmin=0,\n",
    "        vmax=1,\n",
    "    )\n",
    "    ax[0].set_xticks(np.arange(0, ax[0].get_xlim()[1] + 1, 10))\n",
    "    ax[0].set_yticks(np.arange(0, ax[0].get_ylim()[0] + 1, 10)[::-1])\n",
    "    ax[0].set_title(\"Power\")\n",
    "\n",
    "    fig.text(-0.01, 0.5, \"Sample Size\", va=\"center\", rotation=\"vertical\")\n",
    "    fig.text(0.5, -0.03, \"Effect Size\", va=\"center\", ha=\"center\")\n",
    "\n",
    "    # fig.tight_layout()\n",
    "\n",
    "    fig.savefig(\"./figures/20200127_power.png\", dpi=300, bbox_inches=\"tight\")\n",
    "    fig.savefig(\"./figures/20200127_power.pdf\", bbox_inches=\"tight\")"
   ]
  },
  {
   "cell_type": "code",
   "execution_count": 34,
   "metadata": {},
   "outputs": [
    {
     "data": {
      "image/png": "[encoded data removed]",
      "text/plain": [
       "<Figure size 720x576 with 2 Axes>"
      ]
     },
     "metadata": {
      "needs_background": "light"
     },
     "output_type": "display_data"
    },
    {
     "data": {
      "application/javascript": [
       "\n",
       "            setTimeout(function() {\n",
       "                var nbb_cell_id = 34;\n",
       "                var nbb_unformatted_code = \"spacing = 50\\ndeltas = np.linspace(0, 1 - p, spacing + 1)[1:]\\nsamples = np.linspace(0, 500, spacing + 1)[1:]\\n\\n\\nsamples = np.arange(0, 1001, 100)\\nsamples[0] += 10\\nsamples *= 2\\nsamples = [str(i) for i in samples]\\n\\nfmt = lambda x: \\\"{:.2f}\\\".format(x)\\n\\nwith sns.plotting_context(\\\"talk\\\", font_scale=1.25):\\n    # fig, ax = plt.subplots(figsize=(10, 10))\\n    fig, ax = plt.subplots(\\n        1,\\n        2,\\n        gridspec_kw={\\\"width_ratios\\\": [1, 0.05]},\\n        figsize=(10, 8),\\n        constrained_layout=True,\\n    )\\n\\n    sns.heatmap(\\n        np.flipud(res_df.power_2.values.reshape(spacing, -1)),\\n        ax=ax[0],\\n        square=True,\\n        center=0,\\n        cmap=\\\"RdBu_r\\\",\\n        cbar_kws=dict(shrink=0.7),\\n        xticklabels=[fmt(i) for i in np.linspace(0, 1 - p, 51)[::10]],\\n        yticklabels=samples,\\n        cbar_ax=ax[-1],\\n        vmin=0,\\n        vmax=1,\\n    )\\n    ax[0].set_xticks(np.arange(0, ax[0].get_xlim()[1] + 1, 10))\\n    ax[0].set_yticks(np.arange(0, ax[0].get_ylim()[0] + 1, 10)[::-1])\\n    ax[0].set_title(\\\"Power\\\")\\n\\n    fig.text(-0.01, 0.5, \\\"Sample Size\\\", va=\\\"center\\\", rotation=\\\"vertical\\\")\\n    fig.text(0.5, -0.03, \\\"Effect Size\\\", va=\\\"center\\\", ha=\\\"center\\\")\\n\\n    # fig.tight_layout()\\n\\n    #fig.savefig(\\\"./figures/20200127_power.png\\\", dpi=300, bbox_inches=\\\"tight\\\")\\n    #fig.savefig(\\\"./figures/20200127_power.pdf\\\", bbox_inches=\\\"tight\\\")\";\n",
       "                var nbb_formatted_code = \"spacing = 50\\ndeltas = np.linspace(0, 1 - p, spacing + 1)[1:]\\nsamples = np.linspace(0, 500, spacing + 1)[1:]\\n\\n\\nsamples = np.arange(0, 1001, 100)\\nsamples[0] += 10\\nsamples *= 2\\nsamples = [str(i) for i in samples]\\n\\nfmt = lambda x: \\\"{:.2f}\\\".format(x)\\n\\nwith sns.plotting_context(\\\"talk\\\", font_scale=1.25):\\n    # fig, ax = plt.subplots(figsize=(10, 10))\\n    fig, ax = plt.subplots(\\n        1,\\n        2,\\n        gridspec_kw={\\\"width_ratios\\\": [1, 0.05]},\\n        figsize=(10, 8),\\n        constrained_layout=True,\\n    )\\n\\n    sns.heatmap(\\n        np.flipud(res_df.power_2.values.reshape(spacing, -1)),\\n        ax=ax[0],\\n        square=True,\\n        center=0,\\n        cmap=\\\"RdBu_r\\\",\\n        cbar_kws=dict(shrink=0.7),\\n        xticklabels=[fmt(i) for i in np.linspace(0, 1 - p, 51)[::10]],\\n        yticklabels=samples,\\n        cbar_ax=ax[-1],\\n        vmin=0,\\n        vmax=1,\\n    )\\n    ax[0].set_xticks(np.arange(0, ax[0].get_xlim()[1] + 1, 10))\\n    ax[0].set_yticks(np.arange(0, ax[0].get_ylim()[0] + 1, 10)[::-1])\\n    ax[0].set_title(\\\"Power\\\")\\n\\n    fig.text(-0.01, 0.5, \\\"Sample Size\\\", va=\\\"center\\\", rotation=\\\"vertical\\\")\\n    fig.text(0.5, -0.03, \\\"Effect Size\\\", va=\\\"center\\\", ha=\\\"center\\\")\\n\\n    # fig.tight_layout()\\n\\n    # fig.savefig(\\\"./figures/20200127_power.png\\\", dpi=300, bbox_inches=\\\"tight\\\")\\n    # fig.savefig(\\\"./figures/20200127_power.pdf\\\", bbox_inches=\\\"tight\\\")\";\n",
       "                var nbb_cells = Jupyter.notebook.get_cells();\n",
       "                for (var i = 0; i < nbb_cells.length; ++i) {\n",
       "                    if (nbb_cells[i].input_prompt_number == nbb_cell_id) {\n",
       "                        if (nbb_cells[i].get_text() == nbb_unformatted_code) {\n",
       "                             nbb_cells[i].set_text(nbb_formatted_code);\n",
       "                        }\n",
       "                        break;\n",
       "                    }\n",
       "                }\n",
       "            }, 500);\n",
       "            "
      ],
      "text/plain": [
       "<IPython.core.display.Javascript object>"
      ]
     },
     "metadata": {},
     "output_type": "display_data"
    }
   ],
   "source": [
    "spacing = 50\n",
    "deltas = np.linspace(0, 1 - p, spacing + 1)[1:]\n",
    "samples = np.linspace(0, 500, spacing + 1)[1:]\n",
    "\n",
    "\n",
    "samples = np.arange(0, 1001, 100)\n",
    "samples[0] += 10\n",
    "samples *= 2\n",
    "samples = [str(i) for i in samples]\n",
    "\n",
    "fmt = lambda x: \"{:.2f}\".format(x)\n",
    "\n",
    "with sns.plotting_context(\"talk\", font_scale=1.25):\n",
    "    # fig, ax = plt.subplots(figsize=(10, 10))\n",
    "    fig, ax = plt.subplots(\n",
    "        1,\n",
    "        2,\n",
    "        gridspec_kw={\"width_ratios\": [1, 0.05]},\n",
    "        figsize=(10, 8),\n",
    "        constrained_layout=True,\n",
    "    )\n",
    "\n",
    "    sns.heatmap(\n",
    "        np.flipud(res_df.power_2.values.reshape(spacing, -1)),\n",
    "        ax=ax[0],\n",
    "        square=True,\n",
    "        center=0,\n",
    "        cmap=\"RdBu_r\",\n",
    "        cbar_kws=dict(shrink=0.7),\n",
    "        xticklabels=[fmt(i) for i in np.linspace(0, 1 - p, 51)[::10]],\n",
    "        yticklabels=samples,\n",
    "        cbar_ax=ax[-1],\n",
    "        vmin=0,\n",
    "        vmax=1,\n",
    "    )\n",
    "    ax[0].set_xticks(np.arange(0, ax[0].get_xlim()[1] + 1, 10))\n",
    "    ax[0].set_yticks(np.arange(0, ax[0].get_ylim()[0] + 1, 10)[::-1])\n",
    "    ax[0].set_title(\"Power\")\n",
    "\n",
    "    fig.text(-0.01, 0.5, \"Sample Size\", va=\"center\", rotation=\"vertical\")\n",
    "    fig.text(0.5, -0.03, \"Effect Size\", va=\"center\", ha=\"center\")\n",
    "\n",
    "    # fig.tight_layout()\n",
    "\n",
    "    # fig.savefig(\"./figures/20200127_power.png\", dpi=300, bbox_inches=\"tight\")\n",
    "    # fig.savefig(\"./figures/20200127_power.pdf\", bbox_inches=\"tight\")"
   ]
  },
  {
   "cell_type": "code",
   "execution_count": null,
   "metadata": {},
   "outputs": [],
   "source": []
  }
 ],
 "metadata": {
  "kernelspec": {
   "display_name": "Python 3",
   "language": "python",
   "name": "python3"
  },
  "language_info": {
   "codemirror_mode": {
    "name": "ipython",
    "version": 3
   },
   "file_extension": ".py",
   "mimetype": "text/x-python",
   "name": "python",
   "nbconvert_exporter": "python",
   "pygments_lexer": "ipython3",
   "version": "3.7.6"
  }
 },
 "nbformat": 4,
 "nbformat_minor": 2
}
