{
 "cells": [
  {
   "cell_type": "code",
   "execution_count": 1,
   "metadata": {},
   "outputs": [
    {
     "data": {
      "application/javascript": [
       "\n",
       "            setTimeout(function() {\n",
       "                var nbb_cell_id = 1;\n",
       "                var nbb_unformatted_code = \"%load_ext nb_black\";\n",
       "                var nbb_formatted_code = \"%load_ext nb_black\";\n",
       "                var nbb_cells = Jupyter.notebook.get_cells();\n",
       "                for (var i = 0; i < nbb_cells.length; ++i) {\n",
       "                    if (nbb_cells[i].input_prompt_number == nbb_cell_id) {\n",
       "                        if (nbb_cells[i].get_text() == nbb_unformatted_code) {\n",
       "                             nbb_cells[i].set_text(nbb_formatted_code);\n",
       "                        }\n",
       "                        break;\n",
       "                    }\n",
       "                }\n",
       "            }, 500);\n",
       "            "
      ],
      "text/plain": [
       "<IPython.core.display.Javascript object>"
      ]
     },
     "metadata": {},
     "output_type": "display_data"
    }
   ],
   "source": [
    "%load_ext nb_black"
   ]
  },
  {
   "cell_type": "code",
   "execution_count": 2,
   "metadata": {},
   "outputs": [
    {
     "name": "stderr",
     "output_type": "stream",
     "text": [
      "/home/ubuntu/ssd1/miniconda3/envs/dnd/lib/python3.8/site-packages/sklearn/utils/deprecation.py:144: FutureWarning: The sklearn.mixture.gaussian_mixture module is  deprecated in version 0.22 and will be removed in version 0.24. The corresponding classes / functions should instead be imported from sklearn.mixture. Anything that cannot be imported from sklearn.mixture is now part of the private API.\n",
      "  warnings.warn(message, FutureWarning)\n"
     ]
    },
    {
     "data": {
      "application/javascript": [
       "\n",
       "            setTimeout(function() {\n",
       "                var nbb_cell_id = 2;\n",
       "                var nbb_unformatted_code = \"from itertools import product\\n\\nimport numpy as np\\nfrom graspy.embed import MultipleASE, OmnibusEmbed\\nfrom graspy.cluster import KMeansCluster, GaussianCluster\\nfrom graspy.simulations import er_np, sbm\\nfrom graspy.models import SBMEstimator\\nfrom graspy.plot import heatmap\\nfrom scipy.stats import ttest_ind\\nimport pandas as pd\\nimport seaborn as sns\\nimport matplotlib.pyplot as plt\\nfrom joblib import Parallel, delayed\\nimport warnings\\n\\nwarnings.filterwarnings(\\\"ignore\\\")\\n%matplotlib inline\";\n",
       "                var nbb_formatted_code = \"from itertools import product\\n\\nimport numpy as np\\nfrom graspy.embed import MultipleASE, OmnibusEmbed\\nfrom graspy.cluster import KMeansCluster, GaussianCluster\\nfrom graspy.simulations import er_np, sbm\\nfrom graspy.models import SBMEstimator\\nfrom graspy.plot import heatmap\\nfrom scipy.stats import ttest_ind\\nimport pandas as pd\\nimport seaborn as sns\\nimport matplotlib.pyplot as plt\\nfrom joblib import Parallel, delayed\\nimport warnings\\n\\nwarnings.filterwarnings(\\\"ignore\\\")\\n%matplotlib inline\";\n",
       "                var nbb_cells = Jupyter.notebook.get_cells();\n",
       "                for (var i = 0; i < nbb_cells.length; ++i) {\n",
       "                    if (nbb_cells[i].input_prompt_number == nbb_cell_id) {\n",
       "                        if (nbb_cells[i].get_text() == nbb_unformatted_code) {\n",
       "                             nbb_cells[i].set_text(nbb_formatted_code);\n",
       "                        }\n",
       "                        break;\n",
       "                    }\n",
       "                }\n",
       "            }, 500);\n",
       "            "
      ],
      "text/plain": [
       "<IPython.core.display.Javascript object>"
      ]
     },
     "metadata": {},
     "output_type": "display_data"
    }
   ],
   "source": [
    "from itertools import product\n",
    "\n",
    "import numpy as np\n",
    "from graspy.embed import MultipleASE, OmnibusEmbed\n",
    "from graspy.cluster import KMeansCluster, GaussianCluster\n",
    "from graspy.simulations import er_np, sbm\n",
    "from graspy.models import SBMEstimator\n",
    "from graspy.plot import heatmap\n",
    "from scipy.stats import ttest_ind\n",
    "import pandas as pd\n",
    "import seaborn as sns\n",
    "import matplotlib.pyplot as plt\n",
    "from joblib import Parallel, delayed\n",
    "import warnings\n",
    "\n",
    "warnings.filterwarnings(\"ignore\")\n",
    "%matplotlib inline"
   ]
  },
  {
   "cell_type": "code",
   "execution_count": 3,
   "metadata": {},
   "outputs": [
    {
     "data": {
      "application/javascript": [
       "\n",
       "            setTimeout(function() {\n",
       "                var nbb_cell_id = 3;\n",
       "                var nbb_unformatted_code = \"def generate_data(m, n=[5, 15], p=0.5, delta=0):\\n    np.random.seed(None)\\n\\n    if (p + delta > 1) or (p + delta < 1):\\n        assert ValueError(\\\"p + delta must be between [0, 1]\\\")\\n\\n    p1 = [[p, p], [p, p]]\\n    p2 = [[p + delta, p], [p, p]]\\n\\n    X = np.stack([sbm(n, p1) for _ in np.arange(m)])\\n    Y = np.stack([sbm(n, p2) for _ in np.arange(m)])\\n\\n    return X, Y\\n\\n\\ndef estimate_community(X, Y, method):\\n    \\\"\\\"\\\"\\n    Parameters\\n    ----------\\n    method : str\\n        Must be {'mase', 'omni'}\\n    \\\"\\\"\\\"\\n    stacked = np.vstack([X, Y])\\n\\n    if method == \\\"mase\\\":\\n        embedder = MultipleASE(2)\\n        embeddings = embedder.fit_transform(stacked)\\n    elif method == \\\"omni\\\":\\n        embedder = OmnibusEmbed(2)\\n        embeddings = embedder.fit_transform(stacked).mean(axis=0)\\n    else:\\n        assert ValueError(\\\"Invalid embedding method\\\")\\n\\n    gclust = GaussianCluster(2, 2, \\\"all\\\")\\n\\n    return labels\\n\\n\\ndef estimate_b(X, Y):\\n    labels = [0] * 5 + [1] * 15\\n    pop_1_block_p = np.array([SBMEstimator(False).fit(x, labels).block_p_ for x in X])\\n    pop_2_block_p = np.array([SBMEstimator(False).fit(x, labels).block_p_ for x in Y])\\n\\n    return pop_1_block_p, pop_2_block_p\\n\\n\\ndef compute_ttest(pop1, pop2):\\n    statistics, pvals = ttest_ind(pop1, pop2, axis=0)\\n\\n    return pvals\\n\\n\\ndef compute_pr_at_k(different_n, k, test_statistics):\\n    n = test_statistics.shape[0]\\n    labels = np.zeros((n, n))\\n    labels[0:different_n, 0:different_n] = 1\\n\\n    triu_idx = np.triu_indices_from(test_statistics, k=1)\\n    test_statistics_ = np.abs(test_statistics[triu_idx])\\n    labels_ = labels[triu_idx]\\n\\n    idx = np.argsort(test_statistics_)[::-1]\\n    sorted_labels = labels_[idx]\\n\\n    precision_at_k = sorted_labels[:k].mean()\\n    recall_at_k = sorted_labels[:k].sum() / sorted_labels.sum()\\n\\n    return precision_at_k, recall_at_k\";\n",
       "                var nbb_formatted_code = \"def generate_data(m, n=[5, 15], p=0.5, delta=0):\\n    np.random.seed(None)\\n\\n    if (p + delta > 1) or (p + delta < 1):\\n        assert ValueError(\\\"p + delta must be between [0, 1]\\\")\\n\\n    p1 = [[p, p], [p, p]]\\n    p2 = [[p + delta, p], [p, p]]\\n\\n    X = np.stack([sbm(n, p1) for _ in np.arange(m)])\\n    Y = np.stack([sbm(n, p2) for _ in np.arange(m)])\\n\\n    return X, Y\\n\\n\\ndef estimate_community(X, Y, method):\\n    \\\"\\\"\\\"\\n    Parameters\\n    ----------\\n    method : str\\n        Must be {'mase', 'omni'}\\n    \\\"\\\"\\\"\\n    stacked = np.vstack([X, Y])\\n\\n    if method == \\\"mase\\\":\\n        embedder = MultipleASE(2)\\n        embeddings = embedder.fit_transform(stacked)\\n    elif method == \\\"omni\\\":\\n        embedder = OmnibusEmbed(2)\\n        embeddings = embedder.fit_transform(stacked).mean(axis=0)\\n    else:\\n        assert ValueError(\\\"Invalid embedding method\\\")\\n\\n    gclust = GaussianCluster(2, 2, \\\"all\\\")\\n\\n    return labels\\n\\n\\ndef estimate_b(X, Y):\\n    labels = [0] * 5 + [1] * 15\\n    pop_1_block_p = np.array([SBMEstimator(False).fit(x, labels).block_p_ for x in X])\\n    pop_2_block_p = np.array([SBMEstimator(False).fit(x, labels).block_p_ for x in Y])\\n\\n    return pop_1_block_p, pop_2_block_p\\n\\n\\ndef compute_ttest(pop1, pop2):\\n    statistics, pvals = ttest_ind(pop1, pop2, axis=0)\\n\\n    return pvals\\n\\n\\ndef compute_pr_at_k(different_n, k, test_statistics):\\n    n = test_statistics.shape[0]\\n    labels = np.zeros((n, n))\\n    labels[0:different_n, 0:different_n] = 1\\n\\n    triu_idx = np.triu_indices_from(test_statistics, k=1)\\n    test_statistics_ = np.abs(test_statistics[triu_idx])\\n    labels_ = labels[triu_idx]\\n\\n    idx = np.argsort(test_statistics_)[::-1]\\n    sorted_labels = labels_[idx]\\n\\n    precision_at_k = sorted_labels[:k].mean()\\n    recall_at_k = sorted_labels[:k].sum() / sorted_labels.sum()\\n\\n    return precision_at_k, recall_at_k\";\n",
       "                var nbb_cells = Jupyter.notebook.get_cells();\n",
       "                for (var i = 0; i < nbb_cells.length; ++i) {\n",
       "                    if (nbb_cells[i].input_prompt_number == nbb_cell_id) {\n",
       "                        if (nbb_cells[i].get_text() == nbb_unformatted_code) {\n",
       "                             nbb_cells[i].set_text(nbb_formatted_code);\n",
       "                        }\n",
       "                        break;\n",
       "                    }\n",
       "                }\n",
       "            }, 500);\n",
       "            "
      ],
      "text/plain": [
       "<IPython.core.display.Javascript object>"
      ]
     },
     "metadata": {},
     "output_type": "display_data"
    }
   ],
   "source": [
    "def generate_data(m, n=[5, 15], p=0.5, delta=0):\n",
    "    np.random.seed(None)\n",
    "\n",
    "    if (p + delta > 1) or (p + delta < 1):\n",
    "        assert ValueError(\"p + delta must be between [0, 1]\")\n",
    "\n",
    "    p1 = [[p, p], [p, p]]\n",
    "    p2 = [[p + delta, p], [p, p]]\n",
    "\n",
    "    X = np.stack([sbm(n, p1) for _ in np.arange(m)])\n",
    "    Y = np.stack([sbm(n, p2) for _ in np.arange(m)])\n",
    "\n",
    "    return X, Y\n",
    "\n",
    "\n",
    "def estimate_community(X, Y, method):\n",
    "    \"\"\"\n",
    "    Parameters\n",
    "    ----------\n",
    "    method : str\n",
    "        Must be {'mase', 'omni'}\n",
    "    \"\"\"\n",
    "    stacked = np.vstack([X, Y])\n",
    "\n",
    "    if method == \"mase\":\n",
    "        embedder = MultipleASE(2)\n",
    "        embeddings = embedder.fit_transform(stacked)\n",
    "    elif method == \"omni\":\n",
    "        embedder = OmnibusEmbed(2)\n",
    "        embeddings = embedder.fit_transform(stacked).mean(axis=0)\n",
    "    else:\n",
    "        assert ValueError(\"Invalid embedding method\")\n",
    "\n",
    "    gclust = GaussianCluster(2, 2, \"all\")\n",
    "\n",
    "    return labels\n",
    "\n",
    "\n",
    "def estimate_b(X, Y):\n",
    "    labels = [0] * 5 + [1] * 15\n",
    "    pop_1_block_p = np.array([SBMEstimator(False).fit(x, labels).block_p_ for x in X])\n",
    "    pop_2_block_p = np.array([SBMEstimator(False).fit(x, labels).block_p_ for x in Y])\n",
    "\n",
    "    return pop_1_block_p, pop_2_block_p\n",
    "\n",
    "\n",
    "def compute_ttest(pop1, pop2):\n",
    "    statistics, pvals = ttest_ind(pop1, pop2, axis=0)\n",
    "\n",
    "    return pvals\n",
    "\n",
    "\n",
    "def compute_pr_at_k(different_n, k, test_statistics):\n",
    "    n = test_statistics.shape[0]\n",
    "    labels = np.zeros((n, n))\n",
    "    labels[0:different_n, 0:different_n] = 1\n",
    "\n",
    "    triu_idx = np.triu_indices_from(test_statistics, k=1)\n",
    "    test_statistics_ = np.abs(test_statistics[triu_idx])\n",
    "    labels_ = labels[triu_idx]\n",
    "\n",
    "    idx = np.argsort(test_statistics_)[::-1]\n",
    "    sorted_labels = labels_[idx]\n",
    "\n",
    "    precision_at_k = sorted_labels[:k].mean()\n",
    "    recall_at_k = sorted_labels[:k].sum() / sorted_labels.sum()\n",
    "\n",
    "    return precision_at_k, recall_at_k"
   ]
  },
  {
   "cell_type": "code",
   "execution_count": 7,
   "metadata": {},
   "outputs": [
    {
     "data": {
      "application/javascript": [
       "\n",
       "            setTimeout(function() {\n",
       "                var nbb_cell_id = 7;\n",
       "                var nbb_unformatted_code = \"def run_experiment(m, delta, reps):\\n    powers = np.zeros((reps, 2, 2))\\n\\n    for i in np.arange(reps).astype(int):\\n        tmp_powers = []\\n        pop1, pop2 = generate_data(m=m, delta=delta)\\n        pop1_b, pop2_b = estimate_b(pop1, pop2)\\n        pvals = compute_ttest(pop1_b, pop2_b)\\n\\n        powers[i] = pvals\\n\\n    powers = (powers <= 0.05).mean(axis=0)\\n\\n    to_append = [p, delta, m, powers[0, 0], powers[0, 1], powers[1, 1]]\\n    return to_append\";\n",
       "                var nbb_formatted_code = \"def run_experiment(m, delta, reps):\\n    powers = np.zeros((reps, 2, 2))\\n\\n    for i in np.arange(reps).astype(int):\\n        tmp_powers = []\\n        pop1, pop2 = generate_data(m=m, delta=delta)\\n        pop1_b, pop2_b = estimate_b(pop1, pop2)\\n        pvals = compute_ttest(pop1_b, pop2_b)\\n\\n        powers[i] = pvals\\n\\n    powers = (powers <= 0.05).mean(axis=0)\\n\\n    to_append = [p, delta, m, powers[0, 0], powers[0, 1], powers[1, 1]]\\n    return to_append\";\n",
       "                var nbb_cells = Jupyter.notebook.get_cells();\n",
       "                for (var i = 0; i < nbb_cells.length; ++i) {\n",
       "                    if (nbb_cells[i].input_prompt_number == nbb_cell_id) {\n",
       "                        if (nbb_cells[i].get_text() == nbb_unformatted_code) {\n",
       "                             nbb_cells[i].set_text(nbb_formatted_code);\n",
       "                        }\n",
       "                        break;\n",
       "                    }\n",
       "                }\n",
       "            }, 500);\n",
       "            "
      ],
      "text/plain": [
       "<IPython.core.display.Javascript object>"
      ]
     },
     "metadata": {},
     "output_type": "display_data"
    }
   ],
   "source": [
    "def run_experiment(m, delta, reps):\n",
    "    powers = np.zeros((reps, 2, 2))\n",
    "\n",
    "    for i in np.arange(reps).astype(int):\n",
    "        tmp_powers = []\n",
    "        pop1, pop2 = generate_data(m=m, delta=delta)\n",
    "        pop1_b, pop2_b = estimate_b(pop1, pop2)\n",
    "        pvals = compute_ttest(pop1_b, pop2_b)\n",
    "\n",
    "        powers[i] = pvals\n",
    "\n",
    "    powers = (powers <= 0.05).mean(axis=0)\n",
    "\n",
    "    to_append = [p, delta, m, powers[0, 0], powers[0, 1], powers[1, 1]]\n",
    "    return to_append"
   ]
  },
  {
   "cell_type": "code",
   "execution_count": 8,
   "metadata": {},
   "outputs": [
    {
     "data": {
      "application/javascript": [
       "\n",
       "            setTimeout(function() {\n",
       "                var nbb_cell_id = 8;\n",
       "                var nbb_unformatted_code = \"block_1 = 25  # different probability\\nblock_2 = 25\\nn = [block_1, block_2]\\np = 0.5\\n\\nspacing = 50\\ndeltas = np.linspace(0, 1 - p, spacing + 1)[1:]\\nms = np.linspace(0, 500, spacing + 1)[1:]\\n\\nreps = 100\";\n",
       "                var nbb_formatted_code = \"block_1 = 25  # different probability\\nblock_2 = 25\\nn = [block_1, block_2]\\np = 0.5\\n\\nspacing = 50\\ndeltas = np.linspace(0, 1 - p, spacing + 1)[1:]\\nms = np.linspace(0, 500, spacing + 1)[1:]\\n\\nreps = 100\";\n",
       "                var nbb_cells = Jupyter.notebook.get_cells();\n",
       "                for (var i = 0; i < nbb_cells.length; ++i) {\n",
       "                    if (nbb_cells[i].input_prompt_number == nbb_cell_id) {\n",
       "                        if (nbb_cells[i].get_text() == nbb_unformatted_code) {\n",
       "                             nbb_cells[i].set_text(nbb_formatted_code);\n",
       "                        }\n",
       "                        break;\n",
       "                    }\n",
       "                }\n",
       "            }, 500);\n",
       "            "
      ],
      "text/plain": [
       "<IPython.core.display.Javascript object>"
      ]
     },
     "metadata": {},
     "output_type": "display_data"
    }
   ],
   "source": [
    "block_1 = 25  # different probability\n",
    "block_2 = 25\n",
    "n = [block_1, block_2]\n",
    "p = 0.5\n",
    "\n",
    "spacing = 50\n",
    "deltas = np.linspace(0, 1 - p, spacing + 1)[1:]\n",
    "ms = np.linspace(0, 500, spacing + 1)[1:]\n",
    "\n",
    "reps = 100"
   ]
  },
  {
   "cell_type": "code",
   "execution_count": 9,
   "metadata": {
    "scrolled": true
   },
   "outputs": [
    {
     "name": "stderr",
     "output_type": "stream",
     "text": [
      "[Parallel(n_jobs=-2)]: Using backend LokyBackend with 95 concurrent workers.\n",
      "[Parallel(n_jobs=-2)]: Done  10 tasks      | elapsed:    6.3s\n",
      "[Parallel(n_jobs=-2)]: Done 260 tasks      | elapsed:   50.3s\n",
      "[Parallel(n_jobs=-2)]: Done 610 tasks      | elapsed:  3.2min\n",
      "[Parallel(n_jobs=-2)]: Done 1060 tasks      | elapsed:  8.6min\n",
      "[Parallel(n_jobs=-2)]: Done 1610 tasks      | elapsed: 18.7min\n",
      "[Parallel(n_jobs=-2)]: Done 2260 tasks      | elapsed: 35.5min\n",
      "[Parallel(n_jobs=-2)]: Done 2500 out of 2500 | elapsed: 42.2min finished\n"
     ]
    },
    {
     "data": {
      "application/javascript": [
       "\n",
       "            setTimeout(function() {\n",
       "                var nbb_cell_id = 9;\n",
       "                var nbb_unformatted_code = \"args = [dict(m=m, delta=delta, reps=reps) for m, delta in product(ms, deltas)]\\n\\nres = Parallel(n_jobs=-2, verbose=1)(delayed(run_experiment)(**arg) for arg in args)\";\n",
       "                var nbb_formatted_code = \"args = [dict(m=m, delta=delta, reps=reps) for m, delta in product(ms, deltas)]\\n\\nres = Parallel(n_jobs=-2, verbose=1)(delayed(run_experiment)(**arg) for arg in args)\";\n",
       "                var nbb_cells = Jupyter.notebook.get_cells();\n",
       "                for (var i = 0; i < nbb_cells.length; ++i) {\n",
       "                    if (nbb_cells[i].input_prompt_number == nbb_cell_id) {\n",
       "                        if (nbb_cells[i].get_text() == nbb_unformatted_code) {\n",
       "                             nbb_cells[i].set_text(nbb_formatted_code);\n",
       "                        }\n",
       "                        break;\n",
       "                    }\n",
       "                }\n",
       "            }, 500);\n",
       "            "
      ],
      "text/plain": [
       "<IPython.core.display.Javascript object>"
      ]
     },
     "metadata": {},
     "output_type": "display_data"
    }
   ],
   "source": [
    "args = [dict(m=m, delta=delta, reps=reps) for m, delta in product(ms, deltas)]\n",
    "\n",
    "res = Parallel(n_jobs=-2, verbose=1)(delayed(run_experiment)(**arg) for arg in args)"
   ]
  },
  {
   "cell_type": "code",
   "execution_count": 10,
   "metadata": {},
   "outputs": [
    {
     "data": {
      "application/javascript": [
       "\n",
       "            setTimeout(function() {\n",
       "                var nbb_cell_id = 10;\n",
       "                var nbb_unformatted_code = \"cols = [\\\"p\\\", \\\"delta\\\", \\\"m\\\", \\\"power_1\\\", \\\"power_2\\\", \\\"power_3\\\"]\\nres_df = pd.DataFrame(res, columns=cols)\";\n",
       "                var nbb_formatted_code = \"cols = [\\\"p\\\", \\\"delta\\\", \\\"m\\\", \\\"power_1\\\", \\\"power_2\\\", \\\"power_3\\\"]\\nres_df = pd.DataFrame(res, columns=cols)\";\n",
       "                var nbb_cells = Jupyter.notebook.get_cells();\n",
       "                for (var i = 0; i < nbb_cells.length; ++i) {\n",
       "                    if (nbb_cells[i].input_prompt_number == nbb_cell_id) {\n",
       "                        if (nbb_cells[i].get_text() == nbb_unformatted_code) {\n",
       "                             nbb_cells[i].set_text(nbb_formatted_code);\n",
       "                        }\n",
       "                        break;\n",
       "                    }\n",
       "                }\n",
       "            }, 500);\n",
       "            "
      ],
      "text/plain": [
       "<IPython.core.display.Javascript object>"
      ]
     },
     "metadata": {},
     "output_type": "display_data"
    }
   ],
   "source": [
    "cols = [\"p\", \"delta\", \"m\", \"power_1\", \"power_2\", \"power_3\"]\n",
    "res_df = pd.DataFrame(res, columns=cols)"
   ]
  },
  {
   "cell_type": "code",
   "execution_count": 11,
   "metadata": {},
   "outputs": [
    {
     "data": {
      "application/javascript": [
       "\n",
       "            setTimeout(function() {\n",
       "                var nbb_cell_id = 11;\n",
       "                var nbb_unformatted_code = \"res_df.to_csv(\\\"20200204_apriori_results.csv\\\", index=False)\";\n",
       "                var nbb_formatted_code = \"res_df.to_csv(\\\"20200204_apriori_results.csv\\\", index=False)\";\n",
       "                var nbb_cells = Jupyter.notebook.get_cells();\n",
       "                for (var i = 0; i < nbb_cells.length; ++i) {\n",
       "                    if (nbb_cells[i].input_prompt_number == nbb_cell_id) {\n",
       "                        if (nbb_cells[i].get_text() == nbb_unformatted_code) {\n",
       "                             nbb_cells[i].set_text(nbb_formatted_code);\n",
       "                        }\n",
       "                        break;\n",
       "                    }\n",
       "                }\n",
       "            }, 500);\n",
       "            "
      ],
      "text/plain": [
       "<IPython.core.display.Javascript object>"
      ]
     },
     "metadata": {},
     "output_type": "display_data"
    }
   ],
   "source": [
    "res_df.to_csv(\"./results/20200204_apriori_results.csv\", index=False)"
   ]
  },
  {
   "cell_type": "markdown",
   "metadata": {},
   "source": [
    "## Figures"
   ]
  },
  {
   "cell_type": "code",
   "execution_count": 12,
   "metadata": {},
   "outputs": [
    {
     "data": {
      "text/html": [
       "<div>\n",
       "<style scoped>\n",
       "    .dataframe tbody tr th:only-of-type {\n",
       "        vertical-align: middle;\n",
       "    }\n",
       "\n",
       "    .dataframe tbody tr th {\n",
       "        vertical-align: top;\n",
       "    }\n",
       "\n",
       "    .dataframe thead th {\n",
       "        text-align: right;\n",
       "    }\n",
       "</style>\n",
       "<table border=\"1\" class=\"dataframe\">\n",
       "  <thead>\n",
       "    <tr style=\"text-align: right;\">\n",
       "      <th></th>\n",
       "      <th>p</th>\n",
       "      <th>delta</th>\n",
       "      <th>m</th>\n",
       "      <th>power_1</th>\n",
       "      <th>power_2</th>\n",
       "      <th>power_3</th>\n",
       "    </tr>\n",
       "  </thead>\n",
       "  <tbody>\n",
       "    <tr>\n",
       "      <th>0</th>\n",
       "      <td>0.5</td>\n",
       "      <td>0.01</td>\n",
       "      <td>10.0</td>\n",
       "      <td>0.08</td>\n",
       "      <td>0.06</td>\n",
       "      <td>0.07</td>\n",
       "    </tr>\n",
       "    <tr>\n",
       "      <th>1</th>\n",
       "      <td>0.5</td>\n",
       "      <td>0.02</td>\n",
       "      <td>10.0</td>\n",
       "      <td>0.03</td>\n",
       "      <td>0.05</td>\n",
       "      <td>0.01</td>\n",
       "    </tr>\n",
       "    <tr>\n",
       "      <th>2</th>\n",
       "      <td>0.5</td>\n",
       "      <td>0.03</td>\n",
       "      <td>10.0</td>\n",
       "      <td>0.09</td>\n",
       "      <td>0.08</td>\n",
       "      <td>0.05</td>\n",
       "    </tr>\n",
       "    <tr>\n",
       "      <th>3</th>\n",
       "      <td>0.5</td>\n",
       "      <td>0.04</td>\n",
       "      <td>10.0</td>\n",
       "      <td>0.05</td>\n",
       "      <td>0.05</td>\n",
       "      <td>0.06</td>\n",
       "    </tr>\n",
       "    <tr>\n",
       "      <th>4</th>\n",
       "      <td>0.5</td>\n",
       "      <td>0.05</td>\n",
       "      <td>10.0</td>\n",
       "      <td>0.10</td>\n",
       "      <td>0.03</td>\n",
       "      <td>0.10</td>\n",
       "    </tr>\n",
       "    <tr>\n",
       "      <th>...</th>\n",
       "      <td>...</td>\n",
       "      <td>...</td>\n",
       "      <td>...</td>\n",
       "      <td>...</td>\n",
       "      <td>...</td>\n",
       "      <td>...</td>\n",
       "    </tr>\n",
       "    <tr>\n",
       "      <th>2495</th>\n",
       "      <td>0.5</td>\n",
       "      <td>0.46</td>\n",
       "      <td>500.0</td>\n",
       "      <td>1.00</td>\n",
       "      <td>0.03</td>\n",
       "      <td>0.06</td>\n",
       "    </tr>\n",
       "    <tr>\n",
       "      <th>2496</th>\n",
       "      <td>0.5</td>\n",
       "      <td>0.47</td>\n",
       "      <td>500.0</td>\n",
       "      <td>1.00</td>\n",
       "      <td>0.06</td>\n",
       "      <td>0.05</td>\n",
       "    </tr>\n",
       "    <tr>\n",
       "      <th>2497</th>\n",
       "      <td>0.5</td>\n",
       "      <td>0.48</td>\n",
       "      <td>500.0</td>\n",
       "      <td>1.00</td>\n",
       "      <td>0.05</td>\n",
       "      <td>0.05</td>\n",
       "    </tr>\n",
       "    <tr>\n",
       "      <th>2498</th>\n",
       "      <td>0.5</td>\n",
       "      <td>0.49</td>\n",
       "      <td>500.0</td>\n",
       "      <td>1.00</td>\n",
       "      <td>0.04</td>\n",
       "      <td>0.04</td>\n",
       "    </tr>\n",
       "    <tr>\n",
       "      <th>2499</th>\n",
       "      <td>0.5</td>\n",
       "      <td>0.50</td>\n",
       "      <td>500.0</td>\n",
       "      <td>1.00</td>\n",
       "      <td>0.08</td>\n",
       "      <td>0.02</td>\n",
       "    </tr>\n",
       "  </tbody>\n",
       "</table>\n",
       "<p>2500 rows × 6 columns</p>\n",
       "</div>"
      ],
      "text/plain": [
       "        p  delta      m  power_1  power_2  power_3\n",
       "0     0.5   0.01   10.0     0.08     0.06     0.07\n",
       "1     0.5   0.02   10.0     0.03     0.05     0.01\n",
       "2     0.5   0.03   10.0     0.09     0.08     0.05\n",
       "3     0.5   0.04   10.0     0.05     0.05     0.06\n",
       "4     0.5   0.05   10.0     0.10     0.03     0.10\n",
       "...   ...    ...    ...      ...      ...      ...\n",
       "2495  0.5   0.46  500.0     1.00     0.03     0.06\n",
       "2496  0.5   0.47  500.0     1.00     0.06     0.05\n",
       "2497  0.5   0.48  500.0     1.00     0.05     0.05\n",
       "2498  0.5   0.49  500.0     1.00     0.04     0.04\n",
       "2499  0.5   0.50  500.0     1.00     0.08     0.02\n",
       "\n",
       "[2500 rows x 6 columns]"
      ]
     },
     "execution_count": 12,
     "metadata": {},
     "output_type": "execute_result"
    },
    {
     "data": {
      "application/javascript": [
       "\n",
       "            setTimeout(function() {\n",
       "                var nbb_cell_id = 12;\n",
       "                var nbb_unformatted_code = \"res_df\";\n",
       "                var nbb_formatted_code = \"res_df\";\n",
       "                var nbb_cells = Jupyter.notebook.get_cells();\n",
       "                for (var i = 0; i < nbb_cells.length; ++i) {\n",
       "                    if (nbb_cells[i].input_prompt_number == nbb_cell_id) {\n",
       "                        if (nbb_cells[i].get_text() == nbb_unformatted_code) {\n",
       "                             nbb_cells[i].set_text(nbb_formatted_code);\n",
       "                        }\n",
       "                        break;\n",
       "                    }\n",
       "                }\n",
       "            }, 500);\n",
       "            "
      ],
      "text/plain": [
       "<IPython.core.display.Javascript object>"
      ]
     },
     "metadata": {},
     "output_type": "display_data"
    }
   ],
   "source": [
    "res_df"
   ]
  },
  {
   "cell_type": "code",
   "execution_count": 14,
   "metadata": {},
   "outputs": [
    {
     "data": {
      "image/png": "[encoded data removed]",
      "text/plain": [
       "<Figure size 1368x432 with 4 Axes>"
      ]
     },
     "metadata": {
      "needs_background": "light"
     },
     "output_type": "display_data"
    },
    {
     "data": {
      "application/javascript": [
       "\n",
       "            setTimeout(function() {\n",
       "                var nbb_cell_id = 14;\n",
       "                var nbb_unformatted_code = \"fmt = lambda x: \\\"{:.2f}\\\".format(x)\\n\\np = 0.5\\nspacing = 50\\ndeltas = np.linspace(0, 1 - p, spacing + 1)[::10]\\ndeltas[0] += 0.01\\nms = np.linspace(0, 500, spacing + 1)[::10] * 2\\nms[0] += 20\\n\\nwith sns.plotting_context(\\\"talk\\\", font_scale=1.25):\\n    fig, ax = plt.subplots(\\n        1,\\n        4,\\n        gridspec_kw={\\\"width_ratios\\\": [1, 1, 1, 0.05]},\\n        figsize=(19, 6),\\n        constrained_layout=True,\\n    )\\n\\n    for i in range(3):\\n        sns.heatmap(\\n            np.flipud(res_df[f\\\"power_{i+1}\\\"].values.reshape(spacing, -1)),\\n            ax=ax[i],\\n            square=True,\\n            center=0,\\n            cmap=\\\"RdBu_r\\\",\\n            cbar_kws=dict(shrink=0.7),\\n            xticklabels=[fmt(d) for d in deltas],\\n            yticklabels=[\\\"{:.0f}\\\".format(m) for m in ms],\\n            cbar_ax=ax[-1],\\n            vmin=0,\\n            vmax=1,\\n        )\\n        ax[i].set_xticks(np.arange(0, ax[0].get_xlim()[1] + 1, 10))\\n        ax[i].set_yticks(np.arange(0, ax[0].get_ylim()[0] + 1, 10)[::-1])\\n        if i != 0:\\n            ax[i].yaxis.set_major_formatter(plt.NullFormatter())\\n        ax[i].set_title(f\\\"Block {i+1}\\\")\\n\\n    fig.text(-0.01, 0.5, \\\"Sample Size\\\", va=\\\"center\\\", rotation=\\\"vertical\\\")\\n    fig.text(0.5, -0.04, \\\"Effect Size\\\", va=\\\"center\\\", ha=\\\"center\\\")\\n    # fig.text(0.5, 1.05, \\\"Omni\\\", va=\\\"center\\\", ha=\\\"center\\\", fontsize=30)\\n\\n    fig.savefig(\\n        \\\"./figures/20200204_apriori_community_power.png\\\", dpi=300, bbox_inches=\\\"tight\\\"\\n    )\\n    fig.savefig(\\\"./figures/20200204_apriori_community_power.pdf\\\", bbox_inches=\\\"tight\\\")\";\n",
       "                var nbb_formatted_code = \"fmt = lambda x: \\\"{:.2f}\\\".format(x)\\n\\np = 0.5\\nspacing = 50\\ndeltas = np.linspace(0, 1 - p, spacing + 1)[::10]\\ndeltas[0] += 0.01\\nms = np.linspace(0, 500, spacing + 1)[::10] * 2\\nms[0] += 20\\n\\nwith sns.plotting_context(\\\"talk\\\", font_scale=1.25):\\n    fig, ax = plt.subplots(\\n        1,\\n        4,\\n        gridspec_kw={\\\"width_ratios\\\": [1, 1, 1, 0.05]},\\n        figsize=(19, 6),\\n        constrained_layout=True,\\n    )\\n\\n    for i in range(3):\\n        sns.heatmap(\\n            np.flipud(res_df[f\\\"power_{i+1}\\\"].values.reshape(spacing, -1)),\\n            ax=ax[i],\\n            square=True,\\n            center=0,\\n            cmap=\\\"RdBu_r\\\",\\n            cbar_kws=dict(shrink=0.7),\\n            xticklabels=[fmt(d) for d in deltas],\\n            yticklabels=[\\\"{:.0f}\\\".format(m) for m in ms],\\n            cbar_ax=ax[-1],\\n            vmin=0,\\n            vmax=1,\\n        )\\n        ax[i].set_xticks(np.arange(0, ax[0].get_xlim()[1] + 1, 10))\\n        ax[i].set_yticks(np.arange(0, ax[0].get_ylim()[0] + 1, 10)[::-1])\\n        if i != 0:\\n            ax[i].yaxis.set_major_formatter(plt.NullFormatter())\\n        ax[i].set_title(f\\\"Block {i+1}\\\")\\n\\n    fig.text(-0.01, 0.5, \\\"Sample Size\\\", va=\\\"center\\\", rotation=\\\"vertical\\\")\\n    fig.text(0.5, -0.04, \\\"Effect Size\\\", va=\\\"center\\\", ha=\\\"center\\\")\\n    # fig.text(0.5, 1.05, \\\"Omni\\\", va=\\\"center\\\", ha=\\\"center\\\", fontsize=30)\\n\\n    fig.savefig(\\n        \\\"./figures/20200204_apriori_community_power.png\\\", dpi=300, bbox_inches=\\\"tight\\\"\\n    )\\n    fig.savefig(\\\"./figures/20200204_apriori_community_power.pdf\\\", bbox_inches=\\\"tight\\\")\";\n",
       "                var nbb_cells = Jupyter.notebook.get_cells();\n",
       "                for (var i = 0; i < nbb_cells.length; ++i) {\n",
       "                    if (nbb_cells[i].input_prompt_number == nbb_cell_id) {\n",
       "                        if (nbb_cells[i].get_text() == nbb_unformatted_code) {\n",
       "                             nbb_cells[i].set_text(nbb_formatted_code);\n",
       "                        }\n",
       "                        break;\n",
       "                    }\n",
       "                }\n",
       "            }, 500);\n",
       "            "
      ],
      "text/plain": [
       "<IPython.core.display.Javascript object>"
      ]
     },
     "metadata": {},
     "output_type": "display_data"
    }
   ],
   "source": [
    "fmt = lambda x: \"{:.2f}\".format(x)\n",
    "\n",
    "p = 0.5\n",
    "spacing = 50\n",
    "deltas = np.linspace(0, 1 - p, spacing + 1)[::10]\n",
    "deltas[0] += 0.01\n",
    "ms = np.linspace(0, 500, spacing + 1)[::10] * 2\n",
    "ms[0] += 20\n",
    "\n",
    "with sns.plotting_context(\"talk\", font_scale=1.25):\n",
    "    fig, ax = plt.subplots(\n",
    "        1,\n",
    "        4,\n",
    "        gridspec_kw={\"width_ratios\": [1, 1, 1, 0.05]},\n",
    "        figsize=(19, 6),\n",
    "        constrained_layout=True,\n",
    "    )\n",
    "\n",
    "    for i in range(3):\n",
    "        sns.heatmap(\n",
    "            np.flipud(res_df[f\"power_{i+1}\"].values.reshape(spacing, -1)),\n",
    "            ax=ax[i],\n",
    "            square=True,\n",
    "            center=0,\n",
    "            cmap=\"RdBu_r\",\n",
    "            cbar_kws=dict(shrink=0.7),\n",
    "            xticklabels=[fmt(d) for d in deltas],\n",
    "            yticklabels=[\"{:.0f}\".format(m) for m in ms],\n",
    "            cbar_ax=ax[-1],\n",
    "            vmin=0,\n",
    "            vmax=1,\n",
    "        )\n",
    "        ax[i].set_xticks(np.arange(0, ax[0].get_xlim()[1] + 1, 10))\n",
    "        ax[i].set_yticks(np.arange(0, ax[0].get_ylim()[0] + 1, 10)[::-1])\n",
    "        if i != 0:\n",
    "            ax[i].yaxis.set_major_formatter(plt.NullFormatter())\n",
    "        ax[i].set_title(f\"Block {i+1}\")\n",
    "\n",
    "    fig.text(-0.01, 0.5, \"Sample Size\", va=\"center\", rotation=\"vertical\")\n",
    "    fig.text(0.5, -0.04, \"Effect Size\", va=\"center\", ha=\"center\")\n",
    "    # fig.text(0.5, 1.05, \"Omni\", va=\"center\", ha=\"center\", fontsize=30)\n",
    "\n",
    "    fig.savefig(\n",
    "        \"./figures/20200204_apriori_community_power.png\", dpi=300, bbox_inches=\"tight\"\n",
    "    )\n",
    "    fig.savefig(\"./figures/20200204_apriori_community_power.pdf\", bbox_inches=\"tight\")"
   ]
  },
  {
   "cell_type": "code",
   "execution_count": null,
   "metadata": {},
   "outputs": [],
   "source": []
  }
 ],
 "metadata": {
  "kernelspec": {
   "display_name": "Python 3",
   "language": "python",
   "name": "python3"
  },
  "language_info": {
   "codemirror_mode": {
    "name": "ipython",
    "version": 3
   },
   "file_extension": ".py",
   "mimetype": "text/x-python",
   "name": "python",
   "nbconvert_exporter": "python",
   "pygments_lexer": "ipython3",
   "version": "3.8.1"
  }
 },
 "nbformat": 4,
 "nbformat_minor": 2
}
