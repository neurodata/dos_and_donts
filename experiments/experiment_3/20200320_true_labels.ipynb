{
 "cells": [
  {
   "cell_type": "code",
   "execution_count": 4,
   "metadata": {},
   "outputs": [
    {
     "data": {
      "application/javascript": [
       "\n",
       "            setTimeout(function() {\n",
       "                var nbb_cell_id = 4;\n",
       "                var nbb_unformatted_code = \"%load_ext nb_black\";\n",
       "                var nbb_formatted_code = \"%load_ext nb_black\";\n",
       "                var nbb_cells = Jupyter.notebook.get_cells();\n",
       "                for (var i = 0; i < nbb_cells.length; ++i) {\n",
       "                    if (nbb_cells[i].input_prompt_number == nbb_cell_id) {\n",
       "                        if (nbb_cells[i].get_text() == nbb_unformatted_code) {\n",
       "                             nbb_cells[i].set_text(nbb_formatted_code);\n",
       "                        }\n",
       "                        break;\n",
       "                    }\n",
       "                }\n",
       "            }, 500);\n",
       "            "
      ],
      "text/plain": [
       "<IPython.core.display.Javascript object>"
      ]
     },
     "metadata": {},
     "output_type": "display_data"
    }
   ],
   "source": [
    "%load_ext nb_black"
   ]
  },
  {
   "cell_type": "code",
   "execution_count": 2,
   "metadata": {},
   "outputs": [],
   "source": [
    "from functools import partial\n",
    "from itertools import product\n",
    "import warnings\n",
    "warnings.simplefilter(\"ignore\")\n",
    "\n",
    "import numpy as np\n",
    "import pandas as pd\n",
    "from graspy.cluster import GaussianCluster\n",
    "from graspy.embed import MultipleASE, OmnibusEmbed\n",
    "from joblib import Parallel, delayed\n",
    "from scipy.stats import ttest_ind\n",
    "\n",
    "from src import generate_binary_sbms_with_communities"
   ]
  },
  {
   "cell_type": "code",
   "execution_count": 8,
   "metadata": {},
   "outputs": [
    {
     "data": {
      "application/javascript": [
       "\n",
       "            setTimeout(function() {\n",
       "                var nbb_cell_id = 8;\n",
       "                var nbb_unformatted_code = \"def estimate_embeddings(X, Y, method):\\n    \\\"\\\"\\\"\\n    Parameters\\n    ----------\\n    method : str\\n        Must be {'mase', 'omni'}\\n    \\\"\\\"\\\"\\n    stacked = np.vstack([X, Y])\\n\\n    if method == \\\"mase\\\":\\n        embedder = MultipleASE(2)\\n        embeddings = embedder.fit_transform(stacked)\\n    elif method == \\\"omni\\\":\\n        embedder = OmnibusEmbed(2)\\n        embeddings = embedder.fit_transform(stacked).mean(axis=0)\\n    else:\\n        assert ValueError(\\\"Invalid embedding method\\\")\\n\\n    return embeddings\\n\\n\\ndef estimate_community(embeddings, n_clusters):\\n    predicted_labels = (\\n        GaussianCluster(n_clusters, n_clusters, \\\"all\\\").fit_predict(embeddings) + 1\\n    )\\n    return predicted_labels\\n\\n\\ndef compute_ttest(pop1, pop2):\\n    statistics, pvals = ttest_ind(pop1, pop2, axis=0)\\n    return pvals\\n\\n\\ndef run_experiment(m, block_1, block_2, p, q, delta, n_clusters, reps):\\n    total_n = block_1 + block_2\\n    r, c = np.triu_indices(total_n, k=1)\\n\\n    res = np.zeros((reps, 2))\\n\\n    for i in np.arange(reps).astype(int):\\n        pop1, pop2, true_labels = generate_binary_sbms_with_communities(\\n            m=m, block_1=block_1, block_2=block_2, p=p, q=q, delta=delta\\n        )\\n        pop1_edges = pop1[:, r, c]\\n        pop2_edges = pop2[:, r, c]\\n        true_edges = (true_labels[:, None] + true_labels[None, :])[r, c]\\n\\n        sig_edges = np.zeros((total_n, total_n))[r, c]\\n        for j in np.unique(true_edges):\\n            tmp_labels = true_edges == j\\n\\n            statistics, pvals = ttest_ind(\\n                pop1_edges[:, tmp_labels].ravel(), pop2_edges[:, tmp_labels].ravel(),\\n            )\\n            if pvals <= 0.05:\\n                sig_edges[tmp_labels] = 1\\n\\n        prec = (sig_edges[true_edges == 0]).sum() / sig_edges.sum()\\n        recall = (sig_edges[true_edges == 0]).sum() / (true_edges == 0).sum()\\n\\n        res[i] = (prec, recall)\\n\\n    res = np.nanmean(res, axis=0).reshape(-1)\\n\\n    to_append = [m, p, q, delta, *res]\\n    return to_append\";\n",
       "                var nbb_formatted_code = \"def estimate_embeddings(X, Y, method):\\n    \\\"\\\"\\\"\\n    Parameters\\n    ----------\\n    method : str\\n        Must be {'mase', 'omni'}\\n    \\\"\\\"\\\"\\n    stacked = np.vstack([X, Y])\\n\\n    if method == \\\"mase\\\":\\n        embedder = MultipleASE(2)\\n        embeddings = embedder.fit_transform(stacked)\\n    elif method == \\\"omni\\\":\\n        embedder = OmnibusEmbed(2)\\n        embeddings = embedder.fit_transform(stacked).mean(axis=0)\\n    else:\\n        assert ValueError(\\\"Invalid embedding method\\\")\\n\\n    return embeddings\\n\\n\\ndef estimate_community(embeddings, n_clusters):\\n    predicted_labels = (\\n        GaussianCluster(n_clusters, n_clusters, \\\"all\\\").fit_predict(embeddings) + 1\\n    )\\n    return predicted_labels\\n\\n\\ndef compute_ttest(pop1, pop2):\\n    statistics, pvals = ttest_ind(pop1, pop2, axis=0)\\n    return pvals\\n\\n\\ndef run_experiment(m, block_1, block_2, p, q, delta, n_clusters, reps):\\n    total_n = block_1 + block_2\\n    r, c = np.triu_indices(total_n, k=1)\\n\\n    res = np.zeros((reps, 2))\\n\\n    for i in np.arange(reps).astype(int):\\n        pop1, pop2, true_labels = generate_binary_sbms_with_communities(\\n            m=m, block_1=block_1, block_2=block_2, p=p, q=q, delta=delta\\n        )\\n        pop1_edges = pop1[:, r, c]\\n        pop2_edges = pop2[:, r, c]\\n        true_edges = (true_labels[:, None] + true_labels[None, :])[r, c]\\n\\n        sig_edges = np.zeros((total_n, total_n))[r, c]\\n        for j in np.unique(true_edges):\\n            tmp_labels = true_edges == j\\n\\n            statistics, pvals = ttest_ind(\\n                pop1_edges[:, tmp_labels].ravel(), pop2_edges[:, tmp_labels].ravel(),\\n            )\\n            if pvals <= 0.05:\\n                sig_edges[tmp_labels] = 1\\n\\n        prec = (sig_edges[true_edges == 0]).sum() / sig_edges.sum()\\n        recall = (sig_edges[true_edges == 0]).sum() / (true_edges == 0).sum()\\n\\n        res[i] = (prec, recall)\\n\\n    res = np.nanmean(res, axis=0).reshape(-1)\\n\\n    to_append = [m, p, q, delta, *res]\\n    return to_append\";\n",
       "                var nbb_cells = Jupyter.notebook.get_cells();\n",
       "                for (var i = 0; i < nbb_cells.length; ++i) {\n",
       "                    if (nbb_cells[i].input_prompt_number == nbb_cell_id) {\n",
       "                        if (nbb_cells[i].get_text() == nbb_unformatted_code) {\n",
       "                             nbb_cells[i].set_text(nbb_formatted_code);\n",
       "                        }\n",
       "                        break;\n",
       "                    }\n",
       "                }\n",
       "            }, 500);\n",
       "            "
      ],
      "text/plain": [
       "<IPython.core.display.Javascript object>"
      ]
     },
     "metadata": {},
     "output_type": "display_data"
    }
   ],
   "source": [
    "def estimate_embeddings(X, Y, method):\n",
    "    \"\"\"\n",
    "    Parameters\n",
    "    ----------\n",
    "    method : str\n",
    "        Must be {'mase', 'omni'}\n",
    "    \"\"\"\n",
    "    stacked = np.vstack([X, Y])\n",
    "\n",
    "    if method == \"mase\":\n",
    "        embedder = MultipleASE(2)\n",
    "        embeddings = embedder.fit_transform(stacked)\n",
    "    elif method == \"omni\":\n",
    "        embedder = OmnibusEmbed(2)\n",
    "        embeddings = embedder.fit_transform(stacked).mean(axis=0)\n",
    "    else:\n",
    "        assert ValueError(\"Invalid embedding method\")\n",
    "\n",
    "    return embeddings\n",
    "\n",
    "\n",
    "def estimate_community(embeddings, n_clusters):\n",
    "    predicted_labels = (\n",
    "        GaussianCluster(n_clusters, n_clusters, \"all\").fit_predict(embeddings) + 1\n",
    "    )\n",
    "    return predicted_labels\n",
    "\n",
    "\n",
    "def compute_ttest(pop1, pop2):\n",
    "    statistics, pvals = ttest_ind(pop1, pop2, axis=0)\n",
    "    return pvals\n",
    "\n",
    "\n",
    "def run_experiment(m, block_1, block_2, p, q, delta, n_clusters, reps):\n",
    "    total_n = block_1 + block_2\n",
    "    r, c = np.triu_indices(total_n, k=1)\n",
    "\n",
    "    res = np.zeros((reps, 2))\n",
    "\n",
    "    for i in np.arange(reps).astype(int):\n",
    "        pop1, pop2, true_labels = generate_binary_sbms_with_communities(\n",
    "            m=m, block_1=block_1, block_2=block_2, p=p, q=q, delta=delta\n",
    "        )\n",
    "        pop1_edges = pop1[:, r, c]\n",
    "        pop2_edges = pop2[:, r, c]\n",
    "        true_edges = (true_labels[:, None] + true_labels[None, :])[r, c]\n",
    "\n",
    "        sig_edges = np.zeros((total_n, total_n))[r, c]\n",
    "        for j in np.unique(true_edges):\n",
    "            tmp_labels = true_edges == j\n",
    "\n",
    "            statistics, pvals = ttest_ind(\n",
    "                pop1_edges[:, tmp_labels].ravel(), pop2_edges[:, tmp_labels].ravel(),\n",
    "            )\n",
    "            if pvals <= 0.05:\n",
    "                sig_edges[tmp_labels] = 1\n",
    "\n",
    "        prec = (sig_edges[true_edges == 0]).sum() / sig_edges.sum()\n",
    "        recall = (sig_edges[true_edges == 0]).sum() / (true_edges == 0).sum()\n",
    "\n",
    "        res[i] = (prec, recall)\n",
    "\n",
    "    res = np.nanmean(res, axis=0).reshape(-1)\n",
    "\n",
    "    to_append = [m, p, q, delta, *res]\n",
    "    return to_append"
   ]
  },
  {
   "cell_type": "code",
   "execution_count": 9,
   "metadata": {},
   "outputs": [
    {
     "data": {
      "application/javascript": [
       "\n",
       "            setTimeout(function() {\n",
       "                var nbb_cell_id = 9;\n",
       "                var nbb_unformatted_code = \"block_1 = 25  # different probability\\nblock_2 = 25\\nn_clusters = range(2, 6)\\np = 0.5\\nq = 0.25\\nreps = 100\\nspacing = 50\\ndeltas = np.linspace(0, 1 - p, spacing + 1)\\nms = np.linspace(0, 250, spacing + 1)[1:]\\n\\npartial_func = partial(\\n    run_experiment,\\n    block_1=block_1,\\n    block_2=block_2,\\n    p=p,\\n    q=q,\\n    n_clusters=n_clusters,\\n    reps=reps,\\n)\\nargs = [dict(m=m, delta=delta) for m, delta in product(ms, deltas)]\\n#args = sum(zip(reversed(args), args), ())[: len(args)]\";\n",
       "                var nbb_formatted_code = \"block_1 = 25  # different probability\\nblock_2 = 25\\nn_clusters = range(2, 6)\\np = 0.5\\nq = 0.25\\nreps = 100\\nspacing = 50\\ndeltas = np.linspace(0, 1 - p, spacing + 1)\\nms = np.linspace(0, 250, spacing + 1)[1:]\\n\\npartial_func = partial(\\n    run_experiment,\\n    block_1=block_1,\\n    block_2=block_2,\\n    p=p,\\n    q=q,\\n    n_clusters=n_clusters,\\n    reps=reps,\\n)\\nargs = [dict(m=m, delta=delta) for m, delta in product(ms, deltas)]\\n# args = sum(zip(reversed(args), args), ())[: len(args)]\";\n",
       "                var nbb_cells = Jupyter.notebook.get_cells();\n",
       "                for (var i = 0; i < nbb_cells.length; ++i) {\n",
       "                    if (nbb_cells[i].input_prompt_number == nbb_cell_id) {\n",
       "                        if (nbb_cells[i].get_text() == nbb_unformatted_code) {\n",
       "                             nbb_cells[i].set_text(nbb_formatted_code);\n",
       "                        }\n",
       "                        break;\n",
       "                    }\n",
       "                }\n",
       "            }, 500);\n",
       "            "
      ],
      "text/plain": [
       "<IPython.core.display.Javascript object>"
      ]
     },
     "metadata": {},
     "output_type": "display_data"
    }
   ],
   "source": [
    "block_1 = 25  # different probability\n",
    "block_2 = 25\n",
    "n_clusters = range(2, 6)\n",
    "p = 0.5\n",
    "q = 0.25\n",
    "reps = 100\n",
    "spacing = 50\n",
    "deltas = np.linspace(0, 1 - p, spacing + 1)\n",
    "ms = np.linspace(0, 250, spacing + 1)[1:]\n",
    "\n",
    "partial_func = partial(\n",
    "    run_experiment,\n",
    "    block_1=block_1,\n",
    "    block_2=block_2,\n",
    "    p=p,\n",
    "    q=q,\n",
    "    n_clusters=n_clusters,\n",
    "    reps=reps,\n",
    ")\n",
    "args = [dict(m=m, delta=delta) for m, delta in product(ms, deltas)]\n",
    "# args = sum(zip(reversed(args), args), ())[: len(args)]"
   ]
  },
  {
   "cell_type": "code",
   "execution_count": null,
   "metadata": {},
   "outputs": [],
   "source": [
    "res = Parallel(n_jobs=-1, verbose=7)(delayed(partial_func)(**arg) for arg in args)\n",
    "\n",
    "cols = [\"m\", \"p\", \"q\", \"delta\", \"prec\", \"recall\"]\n",
    "res_df = pd.DataFrame(res, columns=cols)"
   ]
  },
  {
   "cell_type": "code",
   "execution_count": 14,
   "metadata": {},
   "outputs": [
    {
     "data": {
      "text/html": [
       "<div>\n",
       "<style scoped>\n",
       "    .dataframe tbody tr th:only-of-type {\n",
       "        vertical-align: middle;\n",
       "    }\n",
       "\n",
       "    .dataframe tbody tr th {\n",
       "        vertical-align: top;\n",
       "    }\n",
       "\n",
       "    .dataframe thead th {\n",
       "        text-align: right;\n",
       "    }\n",
       "</style>\n",
       "<table border=\"1\" class=\"dataframe\">\n",
       "  <thead>\n",
       "    <tr style=\"text-align: right;\">\n",
       "      <th></th>\n",
       "      <th>m</th>\n",
       "      <th>p</th>\n",
       "      <th>q</th>\n",
       "      <th>delta</th>\n",
       "      <th>prec</th>\n",
       "      <th>recall</th>\n",
       "    </tr>\n",
       "  </thead>\n",
       "  <tbody>\n",
       "    <tr>\n",
       "      <th>0</th>\n",
       "      <td>5.0</td>\n",
       "      <td>0.5</td>\n",
       "      <td>0.25</td>\n",
       "      <td>0.00</td>\n",
       "      <td>0.562500</td>\n",
       "      <td>0.09</td>\n",
       "    </tr>\n",
       "    <tr>\n",
       "      <th>1</th>\n",
       "      <td>5.0</td>\n",
       "      <td>0.5</td>\n",
       "      <td>0.25</td>\n",
       "      <td>0.01</td>\n",
       "      <td>0.478261</td>\n",
       "      <td>0.11</td>\n",
       "    </tr>\n",
       "    <tr>\n",
       "      <th>2</th>\n",
       "      <td>5.0</td>\n",
       "      <td>0.5</td>\n",
       "      <td>0.25</td>\n",
       "      <td>0.02</td>\n",
       "      <td>0.760135</td>\n",
       "      <td>0.26</td>\n",
       "    </tr>\n",
       "    <tr>\n",
       "      <th>3</th>\n",
       "      <td>5.0</td>\n",
       "      <td>0.5</td>\n",
       "      <td>0.25</td>\n",
       "      <td>0.03</td>\n",
       "      <td>0.866795</td>\n",
       "      <td>0.46</td>\n",
       "    </tr>\n",
       "    <tr>\n",
       "      <th>4</th>\n",
       "      <td>5.0</td>\n",
       "      <td>0.5</td>\n",
       "      <td>0.25</td>\n",
       "      <td>0.04</td>\n",
       "      <td>0.824546</td>\n",
       "      <td>0.55</td>\n",
       "    </tr>\n",
       "  </tbody>\n",
       "</table>\n",
       "</div>"
      ],
      "text/plain": [
       "     m    p     q  delta      prec  recall\n",
       "0  5.0  0.5  0.25   0.00  0.562500    0.09\n",
       "1  5.0  0.5  0.25   0.01  0.478261    0.11\n",
       "2  5.0  0.5  0.25   0.02  0.760135    0.26\n",
       "3  5.0  0.5  0.25   0.03  0.866795    0.46\n",
       "4  5.0  0.5  0.25   0.04  0.824546    0.55"
      ]
     },
     "execution_count": 14,
     "metadata": {},
     "output_type": "execute_result"
    },
    {
     "data": {
      "application/javascript": [
       "\n",
       "            setTimeout(function() {\n",
       "                var nbb_cell_id = 14;\n",
       "                var nbb_unformatted_code = \"res_df.to_csv(f\\\"./results/20200320_correct_nodes.csv\\\", index=False)\\n\\nres_df.head()\";\n",
       "                var nbb_formatted_code = \"res_df.to_csv(f\\\"./results/20200320_correct_nodes.csv\\\", index=False)\\n\\nres_df.head()\";\n",
       "                var nbb_cells = Jupyter.notebook.get_cells();\n",
       "                for (var i = 0; i < nbb_cells.length; ++i) {\n",
       "                    if (nbb_cells[i].input_prompt_number == nbb_cell_id) {\n",
       "                        if (nbb_cells[i].get_text() == nbb_unformatted_code) {\n",
       "                             nbb_cells[i].set_text(nbb_formatted_code);\n",
       "                        }\n",
       "                        break;\n",
       "                    }\n",
       "                }\n",
       "            }, 500);\n",
       "            "
      ],
      "text/plain": [
       "<IPython.core.display.Javascript object>"
      ]
     },
     "metadata": {},
     "output_type": "display_data"
    }
   ],
   "source": [
    "res_df.to_csv(f\"./results/20200320_correct_nodes.csv\", index=False)\n",
    "\n",
    "res_df.head()"
   ]
  },
  {
   "cell_type": "code",
   "execution_count": 23,
   "metadata": {},
   "outputs": [
    {
     "data": {
      "application/javascript": [
       "\n",
       "            setTimeout(function() {\n",
       "                var nbb_cell_id = 23;\n",
       "                var nbb_unformatted_code = \"res_df = pd.read_csv(\\\"./results/20200320_correct_nodes.csv\\\")\";\n",
       "                var nbb_formatted_code = \"res_df = pd.read_csv(\\\"./results/20200320_correct_nodes.csv\\\")\";\n",
       "                var nbb_cells = Jupyter.notebook.get_cells();\n",
       "                for (var i = 0; i < nbb_cells.length; ++i) {\n",
       "                    if (nbb_cells[i].input_prompt_number == nbb_cell_id) {\n",
       "                        if (nbb_cells[i].get_text() == nbb_unformatted_code) {\n",
       "                             nbb_cells[i].set_text(nbb_formatted_code);\n",
       "                        }\n",
       "                        break;\n",
       "                    }\n",
       "                }\n",
       "            }, 500);\n",
       "            "
      ],
      "text/plain": [
       "<IPython.core.display.Javascript object>"
      ]
     },
     "metadata": {},
     "output_type": "display_data"
    }
   ],
   "source": [
    "res_df = pd.read_csv(\"./results/20200320_correct_nodes.csv\")"
   ]
  },
  {
   "cell_type": "code",
   "execution_count": 13,
   "metadata": {},
   "outputs": [
    {
     "data": {
      "application/javascript": [
       "\n",
       "            setTimeout(function() {\n",
       "                var nbb_cell_id = 13;\n",
       "                var nbb_unformatted_code = \"import matplotlib.pyplot as plt\\nimport seaborn as sns\\n\\n%matplotlib inline\";\n",
       "                var nbb_formatted_code = \"import matplotlib.pyplot as plt\\nimport seaborn as sns\\n\\n%matplotlib inline\";\n",
       "                var nbb_cells = Jupyter.notebook.get_cells();\n",
       "                for (var i = 0; i < nbb_cells.length; ++i) {\n",
       "                    if (nbb_cells[i].input_prompt_number == nbb_cell_id) {\n",
       "                        if (nbb_cells[i].get_text() == nbb_unformatted_code) {\n",
       "                             nbb_cells[i].set_text(nbb_formatted_code);\n",
       "                        }\n",
       "                        break;\n",
       "                    }\n",
       "                }\n",
       "            }, 500);\n",
       "            "
      ],
      "text/plain": [
       "<IPython.core.display.Javascript object>"
      ]
     },
     "metadata": {},
     "output_type": "display_data"
    }
   ],
   "source": [
    "import matplotlib.pyplot as plt\n",
    "import seaborn as sns\n",
    "\n",
    "%matplotlib inline"
   ]
  },
  {
   "cell_type": "code",
   "execution_count": 24,
   "metadata": {},
   "outputs": [
    {
     "data": {
      "application/javascript": [
       "\n",
       "            setTimeout(function() {\n",
       "                var nbb_cell_id = 24;\n",
       "                var nbb_unformatted_code = \"res_df = res_df[res_df.delta != 0]\";\n",
       "                var nbb_formatted_code = \"res_df = res_df[res_df.delta != 0]\";\n",
       "                var nbb_cells = Jupyter.notebook.get_cells();\n",
       "                for (var i = 0; i < nbb_cells.length; ++i) {\n",
       "                    if (nbb_cells[i].input_prompt_number == nbb_cell_id) {\n",
       "                        if (nbb_cells[i].get_text() == nbb_unformatted_code) {\n",
       "                             nbb_cells[i].set_text(nbb_formatted_code);\n",
       "                        }\n",
       "                        break;\n",
       "                    }\n",
       "                }\n",
       "            }, 500);\n",
       "            "
      ],
      "text/plain": [
       "<IPython.core.display.Javascript object>"
      ]
     },
     "metadata": {},
     "output_type": "display_data"
    }
   ],
   "source": [
    "res_df = res_df[res_df.delta != 0]"
   ]
  },
  {
   "cell_type": "code",
   "execution_count": 27,
   "metadata": {},
   "outputs": [
    {
     "data": {
      "text/html": [
       "<div>\n",
       "<style scoped>\n",
       "    .dataframe tbody tr th:only-of-type {\n",
       "        vertical-align: middle;\n",
       "    }\n",
       "\n",
       "    .dataframe tbody tr th {\n",
       "        vertical-align: top;\n",
       "    }\n",
       "\n",
       "    .dataframe thead th {\n",
       "        text-align: right;\n",
       "    }\n",
       "</style>\n",
       "<table border=\"1\" class=\"dataframe\">\n",
       "  <thead>\n",
       "    <tr style=\"text-align: right;\">\n",
       "      <th></th>\n",
       "      <th>m</th>\n",
       "      <th>p</th>\n",
       "      <th>q</th>\n",
       "      <th>delta</th>\n",
       "      <th>prec</th>\n",
       "      <th>recall</th>\n",
       "    </tr>\n",
       "  </thead>\n",
       "  <tbody>\n",
       "    <tr>\n",
       "      <th>1</th>\n",
       "      <td>5.0</td>\n",
       "      <td>0.5</td>\n",
       "      <td>0.25</td>\n",
       "      <td>0.01</td>\n",
       "      <td>0.478261</td>\n",
       "      <td>0.11</td>\n",
       "    </tr>\n",
       "    <tr>\n",
       "      <th>2</th>\n",
       "      <td>5.0</td>\n",
       "      <td>0.5</td>\n",
       "      <td>0.25</td>\n",
       "      <td>0.02</td>\n",
       "      <td>0.760135</td>\n",
       "      <td>0.26</td>\n",
       "    </tr>\n",
       "    <tr>\n",
       "      <th>3</th>\n",
       "      <td>5.0</td>\n",
       "      <td>0.5</td>\n",
       "      <td>0.25</td>\n",
       "      <td>0.03</td>\n",
       "      <td>0.866795</td>\n",
       "      <td>0.46</td>\n",
       "    </tr>\n",
       "    <tr>\n",
       "      <th>4</th>\n",
       "      <td>5.0</td>\n",
       "      <td>0.5</td>\n",
       "      <td>0.25</td>\n",
       "      <td>0.04</td>\n",
       "      <td>0.824546</td>\n",
       "      <td>0.55</td>\n",
       "    </tr>\n",
       "    <tr>\n",
       "      <th>5</th>\n",
       "      <td>5.0</td>\n",
       "      <td>0.5</td>\n",
       "      <td>0.25</td>\n",
       "      <td>0.05</td>\n",
       "      <td>0.958108</td>\n",
       "      <td>0.80</td>\n",
       "    </tr>\n",
       "  </tbody>\n",
       "</table>\n",
       "</div>"
      ],
      "text/plain": [
       "     m    p     q  delta      prec  recall\n",
       "1  5.0  0.5  0.25   0.01  0.478261    0.11\n",
       "2  5.0  0.5  0.25   0.02  0.760135    0.26\n",
       "3  5.0  0.5  0.25   0.03  0.866795    0.46\n",
       "4  5.0  0.5  0.25   0.04  0.824546    0.55\n",
       "5  5.0  0.5  0.25   0.05  0.958108    0.80"
      ]
     },
     "execution_count": 27,
     "metadata": {},
     "output_type": "execute_result"
    },
    {
     "data": {
      "application/javascript": [
       "\n",
       "            setTimeout(function() {\n",
       "                var nbb_cell_id = 27;\n",
       "                var nbb_unformatted_code = \"res_df.head()\";\n",
       "                var nbb_formatted_code = \"res_df.head()\";\n",
       "                var nbb_cells = Jupyter.notebook.get_cells();\n",
       "                for (var i = 0; i < nbb_cells.length; ++i) {\n",
       "                    if (nbb_cells[i].input_prompt_number == nbb_cell_id) {\n",
       "                        if (nbb_cells[i].get_text() == nbb_unformatted_code) {\n",
       "                             nbb_cells[i].set_text(nbb_formatted_code);\n",
       "                        }\n",
       "                        break;\n",
       "                    }\n",
       "                }\n",
       "            }, 500);\n",
       "            "
      ],
      "text/plain": [
       "<IPython.core.display.Javascript object>"
      ]
     },
     "metadata": {},
     "output_type": "display_data"
    }
   ],
   "source": [
    "res_df.head()"
   ]
  },
  {
   "cell_type": "code",
   "execution_count": 36,
   "metadata": {
    "scrolled": false
   },
   "outputs": [
    {
     "data": {
      "image/png": "[encoded data removed]",
      "text/plain": [
       "<Figure size 936x432 with 3 Axes>"
      ]
     },
     "metadata": {
      "needs_background": "light"
     },
     "output_type": "display_data"
    },
    {
     "data": {
      "application/javascript": [
       "\n",
       "            setTimeout(function() {\n",
       "                var nbb_cell_id = 36;\n",
       "                var nbb_unformatted_code = \"xticklabels = np.linspace(0, 1 - p, spacing + 1)[::10]\\nxticklabels[0] += 0.01\\nyticklabels = np.linspace(0, 250, spacing + 1)[::10] * 2\\nyticklabels[0] += 10\\n\\n# Make figure with correct subplots\\nsns.set_context(\\\"talk\\\", font_scale=1)\\nfig, ax = plt.subplots(\\n    1,\\n    3,\\n    gridspec_kw={\\\"width_ratios\\\": [1, 1, 0.05]},\\n    figsize=(13, 6),\\n    # sharex=True,\\n    # sharey=True,\\n    constrained_layout=True,\\n)\\n\\nfor i, metric in enumerate([\\\"prec\\\", \\\"recall\\\"]):\\n    sns.heatmap(\\n        np.flipud(res_df[metric].values.reshape(spacing, -1)),\\n        ax=ax[i],\\n        square=True,\\n        center=0,\\n        cmap=\\\"RdBu_r\\\",\\n        cbar_kws=dict(shrink=0.7),\\n        xticklabels=[\\\"{:.2f}\\\".format(x) for x in xticklabels],\\n        yticklabels=[\\\"{:.0f}\\\".format(y) for y in yticklabels],\\n        cbar_ax=ax[-1],\\n        vmin=0,\\n        vmax=1,\\n    )\\n    ax[i].set_xticks(np.arange(0, ax[0].get_xlim()[1] + 1, 10))\\n    ax[i].set_yticks(np.arange(0, ax[0].get_ylim()[0] + 1, 10)[::-1])\\n\\nax[0].set_title(\\\"Precision\\\")\\nax[1].set_title(\\\"Recall\\\")\\nfig.text(0.5, 1.025, f\\\"Using Truth Label\\\", va=\\\"center\\\", ha=\\\"center\\\")\\nfig.text(-0.025, 0.5, \\\"Sample Size\\\", va=\\\"center\\\", rotation=\\\"vertical\\\")\\nfig.text(0.5, -0.05, \\\"Effect Size\\\", va=\\\"center\\\", ha=\\\"center\\\")\\n\\nfig.savefig(\\n    f\\\"./figures/20200320_pr_truth.png\\\", dpi=300, bbox_inches=\\\"tight\\\"\\n)\";\n",
       "                var nbb_formatted_code = \"xticklabels = np.linspace(0, 1 - p, spacing + 1)[::10]\\nxticklabels[0] += 0.01\\nyticklabels = np.linspace(0, 250, spacing + 1)[::10] * 2\\nyticklabels[0] += 10\\n\\n# Make figure with correct subplots\\nsns.set_context(\\\"talk\\\", font_scale=1)\\nfig, ax = plt.subplots(\\n    1,\\n    3,\\n    gridspec_kw={\\\"width_ratios\\\": [1, 1, 0.05]},\\n    figsize=(13, 6),\\n    # sharex=True,\\n    # sharey=True,\\n    constrained_layout=True,\\n)\\n\\nfor i, metric in enumerate([\\\"prec\\\", \\\"recall\\\"]):\\n    sns.heatmap(\\n        np.flipud(res_df[metric].values.reshape(spacing, -1)),\\n        ax=ax[i],\\n        square=True,\\n        center=0,\\n        cmap=\\\"RdBu_r\\\",\\n        cbar_kws=dict(shrink=0.7),\\n        xticklabels=[\\\"{:.2f}\\\".format(x) for x in xticklabels],\\n        yticklabels=[\\\"{:.0f}\\\".format(y) for y in yticklabels],\\n        cbar_ax=ax[-1],\\n        vmin=0,\\n        vmax=1,\\n    )\\n    ax[i].set_xticks(np.arange(0, ax[0].get_xlim()[1] + 1, 10))\\n    ax[i].set_yticks(np.arange(0, ax[0].get_ylim()[0] + 1, 10)[::-1])\\n\\nax[0].set_title(\\\"Precision\\\")\\nax[1].set_title(\\\"Recall\\\")\\nfig.text(0.5, 1.025, f\\\"Using Truth Label\\\", va=\\\"center\\\", ha=\\\"center\\\")\\nfig.text(-0.025, 0.5, \\\"Sample Size\\\", va=\\\"center\\\", rotation=\\\"vertical\\\")\\nfig.text(0.5, -0.05, \\\"Effect Size\\\", va=\\\"center\\\", ha=\\\"center\\\")\\n\\nfig.savefig(f\\\"./figures/20200320_pr_truth.png\\\", dpi=300, bbox_inches=\\\"tight\\\")\";\n",
       "                var nbb_cells = Jupyter.notebook.get_cells();\n",
       "                for (var i = 0; i < nbb_cells.length; ++i) {\n",
       "                    if (nbb_cells[i].input_prompt_number == nbb_cell_id) {\n",
       "                        if (nbb_cells[i].get_text() == nbb_unformatted_code) {\n",
       "                             nbb_cells[i].set_text(nbb_formatted_code);\n",
       "                        }\n",
       "                        break;\n",
       "                    }\n",
       "                }\n",
       "            }, 500);\n",
       "            "
      ],
      "text/plain": [
       "<IPython.core.display.Javascript object>"
      ]
     },
     "metadata": {},
     "output_type": "display_data"
    }
   ],
   "source": [
    "xticklabels = np.linspace(0, 1 - p, spacing + 1)[::10]\n",
    "xticklabels[0] += 0.01\n",
    "yticklabels = np.linspace(0, 250, spacing + 1)[::10] * 2\n",
    "yticklabels[0] += 10\n",
    "\n",
    "# Make figure with correct subplots\n",
    "sns.set_context(\"talk\", font_scale=1)\n",
    "fig, ax = plt.subplots(\n",
    "    1,\n",
    "    3,\n",
    "    gridspec_kw={\"width_ratios\": [1, 1, 0.05]},\n",
    "    figsize=(13, 6),\n",
    "    # sharex=True,\n",
    "    # sharey=True,\n",
    "    constrained_layout=True,\n",
    ")\n",
    "\n",
    "for i, metric in enumerate([\"prec\", \"recall\"]):\n",
    "    sns.heatmap(\n",
    "        np.flipud(res_df[metric].values.reshape(spacing, -1)),\n",
    "        ax=ax[i],\n",
    "        square=True,\n",
    "        center=0,\n",
    "        cmap=\"RdBu_r\",\n",
    "        cbar_kws=dict(shrink=0.7),\n",
    "        xticklabels=[\"{:.2f}\".format(x) for x in xticklabels],\n",
    "        yticklabels=[\"{:.0f}\".format(y) for y in yticklabels],\n",
    "        cbar_ax=ax[-1],\n",
    "        vmin=0,\n",
    "        vmax=1,\n",
    "    )\n",
    "    ax[i].set_xticks(np.arange(0, ax[0].get_xlim()[1] + 1, 10))\n",
    "    ax[i].set_yticks(np.arange(0, ax[0].get_ylim()[0] + 1, 10)[::-1])\n",
    "\n",
    "ax[0].set_title(\"Precision\")\n",
    "ax[1].set_title(\"Recall\")\n",
    "fig.text(0.5, 1.025, f\"Using Truth Label\", va=\"center\", ha=\"center\")\n",
    "fig.text(-0.025, 0.5, \"Sample Size\", va=\"center\", rotation=\"vertical\")\n",
    "fig.text(0.5, -0.05, \"Effect Size\", va=\"center\", ha=\"center\")\n",
    "\n",
    "fig.savefig(f\"./figures/20200320_pr_truth.png\", dpi=300, bbox_inches=\"tight\")"
   ]
  },
  {
   "cell_type": "code",
   "execution_count": null,
   "metadata": {},
   "outputs": [],
   "source": []
  }
 ],
 "metadata": {
  "kernelspec": {
   "display_name": "Python 3",
   "language": "python",
   "name": "python3"
  },
  "language_info": {
   "codemirror_mode": {
    "name": "ipython",
    "version": 3
   },
   "file_extension": ".py",
   "mimetype": "text/x-python",
   "name": "python",
   "nbconvert_exporter": "python",
   "pygments_lexer": "ipython3",
   "version": "3.8.1"
  }
 },
 "nbformat": 4,
 "nbformat_minor": 4
}
