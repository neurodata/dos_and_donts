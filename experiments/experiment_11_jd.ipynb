{
 "cells": [
  {
   "cell_type": "code",
   "execution_count": 12,
   "metadata": {},
   "outputs": [],
   "source": [
    "from mgc.discrim import DiscrimOneSample\n",
    "from numpy.random import normal\n",
    "from graspy.utils import symmetrize\n",
    "import numpy as np"
   ]
  },
  {
   "cell_type": "code",
   "execution_count": 30,
   "metadata": {},
   "outputs": [],
   "source": [
    "def sample_dynamic_connection(AR_par, sample_no):\n",
    "    node = AR_par.shape[0]\n",
    "    x = np.zeros((sample_no+10,node,node), dtype=float)\n",
    "    u = normal(0,1.5,(node,node))\n",
    "    u = symmetrize(u,method='triu')\n",
    "    \n",
    "    for i in range(1,sample_no+10):\n",
    "        x[i,:,:] = AR_par*x[i-1,:,:] + u\n",
    "        \n",
    "    return np.delete(x,np.s_[0:10],0)"
   ]
  },
  {
   "cell_type": "code",
   "execution_count": 86,
   "metadata": {},
   "outputs": [],
   "source": [
    "total_subject = 10\n",
    "sample_no = 10\n",
    "node = 100\n",
    "AR_var = .5\n",
    "mn = np.arange(total_subject)\n",
    "x = np.zeros((total_subject,sample_no,node*node),dtype=float)\n",
    "y = np.zeros((total_subject,sample_no))\n",
    "y_ = np.ones(sample_no)\n",
    "\n",
    "for i in range(0,total_subject):\n",
    "    AR_par_ = normal(mn[i],AR_var,(node,node))\n",
    "    AR_par_ = symmetrize(AR_par_,method='triu')\n",
    "    \n",
    "    x_ = sample_dynamic_connection(AR_par_, sample_no)\n",
    "    x[i,:,:] = np.reshape(x_,(sample_no,-1))\n",
    "    y[i,:] = y_*i\n",
    "    \n",
    "x = np.reshape(x,(total_subject*sample_no,-1))\n",
    "y = y.flatten()"
   ]
  },
  {
   "cell_type": "code",
   "execution_count": 87,
   "metadata": {},
   "outputs": [
    {
     "name": "stdout",
     "output_type": "stream",
     "text": [
      "0.7062592592592593 0.000999000999000999\n"
     ]
    }
   ],
   "source": [
    "stat,p = DiscrimOneSample().test(x,y)\n",
    "print(stat,p)"
   ]
  },
  {
   "cell_type": "code",
   "execution_count": null,
   "metadata": {},
   "outputs": [],
   "source": []
  }
 ],
 "metadata": {
  "kernelspec": {
   "display_name": "Python 3",
   "language": "python",
   "name": "python3"
  },
  "language_info": {
   "codemirror_mode": {
    "name": "ipython",
    "version": 3
   },
   "file_extension": ".py",
   "mimetype": "text/x-python",
   "name": "python",
   "nbconvert_exporter": "python",
   "pygments_lexer": "ipython3",
   "version": "3.7.3"
  }
 },
 "nbformat": 4,
 "nbformat_minor": 2
}
