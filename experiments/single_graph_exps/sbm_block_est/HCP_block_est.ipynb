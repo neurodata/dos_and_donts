{
 "cells": [
  {
   "cell_type": "code",
   "execution_count": 17,
   "metadata": {},
   "outputs": [],
   "source": [
    "import graspy as gp\n",
    "import glob\n",
    "import os, sys\n",
    "import numpy as np\n",
    "import pandas as pd\n",
    "import multiprocessing as multiproc\n",
    "import dask\n",
    "from dask.distributed import Client, progress\n",
    "import dask.dataframe as ddf"
   ]
  },
  {
   "cell_type": "code",
   "execution_count": 40,
   "metadata": {},
   "outputs": [
    {
     "name": "stderr",
     "output_type": "stream",
     "text": [
      "/home/eric/.virtualenvs/graspy/lib/python3.7/site-packages/ipykernel_launcher.py:7: FutureWarning: arrays to stack must be passed as a \"sequence\" type such as list or tuple. Support for non-sequence iterables such as generators is deprecated as of NumPy 1.16 and will raise an error in the future.\n",
      "  import sys\n"
     ]
    }
   ],
   "source": [
    "dpath = '/mnt/nfs2/j1c/twins/data/hcp1200/dmri/desikan/'\n",
    "def get_sub(fname):\n",
    "    stext = os.path.basename(fname).split('_')\n",
    "    return('{}_{}'.format(stext[0], stext[1]))\n",
    "\n",
    "dmri_dict = {}\n",
    "for f in glob.glob(os.path.join(dpath, '*.edgelist')):\n",
    "    gr_dat = gp.utils.import_edgelist(f)\n",
    "    if gr_dat.shape == (70, 70):\n",
    "        dmri_dict[get_sub(f)] = gr_dat\n",
    "dmri_ar = np.dstack(list(dmri_dict.values()))\n",
    "nv = 35"
   ]
  },
  {
   "cell_type": "code",
   "execution_count": 41,
   "metadata": {},
   "outputs": [
    {
     "name": "stderr",
     "output_type": "stream",
     "text": [
      "/home/eric/.virtualenvs/graspy/lib/python3.7/site-packages/distributed/node.py:155: UserWarning: Port 8787 is already in use.\n",
      "Perhaps you already have a cluster running?\n",
      "Hosting the HTTP server on port 34171 instead\n",
      "  http_address[\"port\"], self.http_server.port\n"
     ]
    },
    {
     "data": {
      "text/html": [
       "<table style=\"border: 2px solid white;\">\n",
       "<tr>\n",
       "<td style=\"vertical-align: top; border: 0px solid white\">\n",
       "<h3 style=\"text-align: left;\">Client</h3>\n",
       "<ul style=\"text-align: left; list-style: none; margin: 0; padding: 0;\">\n",
       "  <li><b>Scheduler: </b>tcp://127.0.0.1:38483</li>\n",
       "  <li><b>Dashboard: </b><a href='http://127.0.0.1:34171/status' target='_blank'>http://127.0.0.1:34171/status</a></li>\n",
       "</ul>\n",
       "</td>\n",
       "<td style=\"vertical-align: top; border: 0px solid white\">\n",
       "<h3 style=\"text-align: left;\">Cluster</h3>\n",
       "<ul style=\"text-align: left; list-style:none; margin: 0; padding: 0;\">\n",
       "  <li><b>Workers: </b>6</li>\n",
       "  <li><b>Cores: </b>6</li>\n",
       "  <li><b>Memory: </b>33.51 GB</li>\n",
       "</ul>\n",
       "</td>\n",
       "</tr>\n",
       "</table>"
      ],
      "text/plain": [
       "<Client: 'tcp://127.0.0.1:38483' processes=6 threads=6, memory=33.51 GB>"
      ]
     },
     "execution_count": 41,
     "metadata": {},
     "output_type": "execute_result"
    }
   ],
   "source": [
    "ncores = multiproc.cpu_count()-2\n",
    "client = Client(threads_per_worker=1, n_workers=ncores)\n",
    "client"
   ]
  },
  {
   "cell_type": "code",
   "execution_count": 58,
   "metadata": {},
   "outputs": [],
   "source": [
    "def run_exp(row):\n",
    "    dmri = dmri_dict[row[0]]  # grab dmri connectome\n",
    "    # try all methods\n",
    "    method = row[1] # grab the method name to attempt\n",
    "    e = gp.models.SBMEstimator()\n",
    "    y = [1 for i in range(0, nv)] + [2 for i in range(0, nv)]\n",
    "    pval, pred = e.estimate_block_structure(dmri, np.array(y), ['abba', 'abbd'], test_method=method)\n",
    "    return (row[0], row[1], pval, pred)"
   ]
  },
  {
   "cell_type": "code",
   "execution_count": 66,
   "metadata": {},
   "outputs": [
    {
     "name": "stdout",
     "output_type": "stream",
     "text": [
      "         Identifier Method\n",
      "0  sub-118225_ses-1     kw\n",
      "1  sub-118225_ses-1  dcorr\n",
      "2  sub-118023_ses-1     kw\n",
      "3  sub-118023_ses-1  dcorr\n",
      "4  sub-118528_ses-1     kw\n",
      "(14, 2)\n"
     ]
    }
   ],
   "source": [
    "exps = []\n",
    "for sub in dmri_dict.keys():\n",
    "    for method in ['kw', 'dcorr', 'anova']:\n",
    "        exps.append([sub, method])\n",
    "\n",
    "sim_exps = pd.DataFrame(exps, columns=[\"Identifier\", \"Method\"])\n",
    "print(sim_exps.head())\n",
    "print(sim_exps.shape)"
   ]
  },
  {
   "cell_type": "code",
   "execution_count": 67,
   "metadata": {},
   "outputs": [
    {
     "data": {
      "text/html": [
       "<div><strong>Dask DataFrame Structure:</strong></div>\n",
       "<div>\n",
       "<style scoped>\n",
       "    .dataframe tbody tr th:only-of-type {\n",
       "        vertical-align: middle;\n",
       "    }\n",
       "\n",
       "    .dataframe tbody tr th {\n",
       "        vertical-align: top;\n",
       "    }\n",
       "\n",
       "    .dataframe thead th {\n",
       "        text-align: right;\n",
       "    }\n",
       "</style>\n",
       "<table border=\"1\" class=\"dataframe\">\n",
       "  <thead>\n",
       "    <tr style=\"text-align: right;\">\n",
       "      <th></th>\n",
       "      <th>0</th>\n",
       "      <th>1</th>\n",
       "      <th>2</th>\n",
       "      <th>3</th>\n",
       "    </tr>\n",
       "    <tr>\n",
       "      <th>npartitions=7</th>\n",
       "      <th></th>\n",
       "      <th></th>\n",
       "      <th></th>\n",
       "      <th></th>\n",
       "    </tr>\n",
       "  </thead>\n",
       "  <tbody>\n",
       "    <tr>\n",
       "      <th>0</th>\n",
       "      <td>object</td>\n",
       "      <td>object</td>\n",
       "      <td>float64</td>\n",
       "      <td>object</td>\n",
       "    </tr>\n",
       "    <tr>\n",
       "      <th>2</th>\n",
       "      <td>...</td>\n",
       "      <td>...</td>\n",
       "      <td>...</td>\n",
       "      <td>...</td>\n",
       "    </tr>\n",
       "    <tr>\n",
       "      <th>...</th>\n",
       "      <td>...</td>\n",
       "      <td>...</td>\n",
       "      <td>...</td>\n",
       "      <td>...</td>\n",
       "    </tr>\n",
       "    <tr>\n",
       "      <th>12</th>\n",
       "      <td>...</td>\n",
       "      <td>...</td>\n",
       "      <td>...</td>\n",
       "      <td>...</td>\n",
       "    </tr>\n",
       "    <tr>\n",
       "      <th>13</th>\n",
       "      <td>...</td>\n",
       "      <td>...</td>\n",
       "      <td>...</td>\n",
       "      <td>...</td>\n",
       "    </tr>\n",
       "  </tbody>\n",
       "</table>\n",
       "</div>\n",
       "<div>Dask Name: apply, 14 tasks</div>"
      ],
      "text/plain": [
       "Dask DataFrame Structure:\n",
       "                    0       1        2       3\n",
       "npartitions=7                                 \n",
       "0              object  object  float64  object\n",
       "2                 ...     ...      ...     ...\n",
       "...               ...     ...      ...     ...\n",
       "12                ...     ...      ...     ...\n",
       "13                ...     ...      ...     ...\n",
       "Dask Name: apply, 14 tasks"
      ]
     },
     "execution_count": 67,
     "metadata": {},
     "output_type": "execute_result"
    }
   ],
   "source": [
    "sim_exps = ddf.from_pandas(sim_exps, npartitions=ncores*1.5)\n",
    "sim_results = sim_exps.apply(lambda x: run_exp(x), axis=1, result_type='expand',\n",
    "                             meta={0: str, 1: str, 2: float, 3: str})\n",
    "sim_results"
   ]
  },
  {
   "cell_type": "code",
   "execution_count": 68,
   "metadata": {},
   "outputs": [],
   "source": [
    "sim_results = sim_results.compute(scheduler=\"multiprocessing\")\n",
    "sim_results = sim_results.rename(columns={0: \"Identifier\", 1: \"Method\", 2: \"pvalue\", 3: \"Structure\"})\n",
    "sim_results.to_csv('./data/hcp_block_est.csv')"
   ]
  },
  {
   "cell_type": "code",
   "execution_count": 71,
   "metadata": {},
   "outputs": [],
   "source": [
    "np.savetxt('./data/hcp_mean_dmri.csv', dmri_ar.mean(axis=2), delimiter=',')"
   ]
  },
  {
   "cell_type": "code",
   "execution_count": null,
   "metadata": {},
   "outputs": [],
   "source": []
  }
 ],
 "metadata": {
  "kernelspec": {
   "display_name": "graspy",
   "language": "python",
   "name": "graspy"
  },
  "language_info": {
   "codemirror_mode": {
    "name": "ipython",
    "version": 3
   },
   "file_extension": ".py",
   "mimetype": "text/x-python",
   "name": "python",
   "nbconvert_exporter": "python",
   "pygments_lexer": "ipython3",
   "version": "3.7.8"
  }
 },
 "nbformat": 4,
 "nbformat_minor": 4
}
