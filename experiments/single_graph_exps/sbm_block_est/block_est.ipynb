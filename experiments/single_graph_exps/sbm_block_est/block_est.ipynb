{
 "cells": [
  {
   "cell_type": "code",
   "execution_count": 1,
   "metadata": {},
   "outputs": [],
   "source": [
    "import graspy\n",
    "import numpy as np\n",
    "import matplotlib.pyplot as plt\n",
    "import networkx as nx\n",
    "import dask\n",
    "from dask.distributed import Client, progress\n",
    "import dask.dataframe as ddf\n",
    "#uncomment when placed into model folder not doc\n",
    "#from .base import BaseGraphEstimator, _calculate_p\n",
    "\n",
    "from scipy import stats\n",
    "from scipy.special import expit\n",
    "import pandas as pd \n",
    "import mizani as miz\n",
    "\n",
    "from graspy.simulations import sbm, er_np, er_nm, siem\n",
    "from graspy.plot import heatmap\n",
    "from graspy.models import SBMEstimator\n",
    "\n",
    "import statsmodels.api as sm\n",
    "import statsmodels.formula.api as smf\n",
    "\n",
    "from graspy.models.base import BaseGraphEstimator \n",
    "from graspy.utils.utils import (\n",
    "    augment_diagonal,\n",
    "    cartprod,\n",
    "    import_graph,\n",
    "    is_unweighted,\n",
    "    remove_loops,\n",
    "    symmetrize,\n",
    ")\n",
    "import sys\n",
    "import plotnine as p9\n",
    "from dfply import *\n",
    "import multiprocessing as multiproc"
   ]
  },
  {
   "cell_type": "code",
   "execution_count": 2,
   "metadata": {},
   "outputs": [],
   "source": [
    "def gen_pmat(num_blocks, effect_size=0):\n",
    "    if num_blocks == 2:\n",
    "        # tend to [[a, b], [b, a]]\n",
    "        pmat = np.array([[.5 + effect_size/2, .5 - effect_size/2], [.5 - effect_size/2, .5 + effect_size/2]])\n",
    "    elif num_blocks == 3:\n",
    "        # tend to [[a, b], [b, d]]\n",
    "        pmat = np.array([[.5 + effect_size/2, .5], [.5, .5 - effect_size/2]])\n",
    "    elif num_blocks == 4:\n",
    "        # tend to [[a, b], [c, d]]\n",
    "        pmat = np.array([[.5 + effect_size/2, .5 + effect_size/4], [.5 - effect_size/4, .5 - effect_size/2]])\n",
    "    return pmat\n",
    "\n",
    "def quad_sbm(n, pmat, weighted=False, return_labels=False):\n",
    "    comm = [n//2, n//2]\n",
    "    if weighted:\n",
    "        raise NotImplementedError()\n",
    "    else:\n",
    "        mat = graspy.simulations.sbm(comm, pmat, directed=True, loops=True, return_labels=return_labels)\n",
    "    return mat\n",
    "        \n",
    "def sample_quad_sbm(n, effect_size=0, num_blocks=4, weighted=False, return_labels=False):\n",
    "    pmat = gen_pmat(num_blocks, effect_size)\n",
    "    mat = quad_sbm(n, pmat, weighted=weighted, return_labels=return_labels)\n",
    "    return mat\n",
    "\n",
    "def sbm_2(n, effect_size=0, weighted=False, return_labels=True):\n",
    "    return sample_quad_sbm(n, effect_size=effect_size, num_blocks=2, weighted=weighted, return_labels=return_labels)\n",
    "\n",
    "def sbm_3(n, effect_size=0, weighted=False, return_labels=True):\n",
    "    return sample_quad_sbm(n, effect_size=effect_size, num_blocks=3, weighted=weighted, return_labels=return_labels)\n",
    "\n",
    "def sbm_4(n, effect_size=0, weighted=False, return_labels=True):\n",
    "    return sample_quad_sbm(n, effect_size=effect_size, num_blocks=4, weighted=weighted, return_labels=return_labels)"
   ]
  },
  {
   "cell_type": "code",
   "execution_count": 3,
   "metadata": {},
   "outputs": [
    {
     "name": "stdout",
     "output_type": "stream",
     "text": [
      "[(0.05, 0), (0.1, 2), (0.2, 1)]\n"
     ]
    }
   ],
   "source": [
    "vals = [(0.05, 0), (0.2, 1), (0.1, 2)]\n",
    "vals.sort()\n",
    "print(vals)"
   ]
  },
  {
   "cell_type": "code",
   "execution_count": 32,
   "metadata": {},
   "outputs": [],
   "source": [
    "# the color for each test statistic\n",
    "test_stat_cols = {'FET': 'red',\n",
    "                  'LRT': 'teal',\n",
    "                  'KW': 'blue',\n",
    "                  'MGC': 'green',\n",
    "                  'ANOVA': 'orange',\n",
    "                  'Chi2': 'purple'}\n",
    "\n",
    "# an array tracking the test statistics themselves\n",
    "test_stats = {'FET': 'fisher_exact',\n",
    "            'Chi2': 'chi2',\n",
    "            'LRT': 'lrt',\n",
    "            'DCorr': 'mgc',\n",
    "            'KW': 'kw',\n",
    "            'ANOVA': 'anova'}\n",
    "\n",
    "# an array for when to use different test statistics\n",
    "test_stat_use = {'FET': ['Unweighted'],\n",
    "                 'LRT': ['Unweighted'],\n",
    "                 'Chi2': ['Unweighted'],\n",
    "                 'DCorr': [\"Unweighted\", \"Weighted\"],\n",
    "                 'KW': [\"Unweighted\", \"Weighted\"],\n",
    "                 'ANOVA': [\"Unweighted\", \"Weighted\"]}\n",
    "\n",
    "simulations = {\n",
    "    'Unweighted': {'abba': {'fn': sbm_2, 'eff_sz': np.linspace(0, .15, 10),'kwarg': {\"weighted\": False}},\n",
    "                   'abbd': {'fn': sbm_3, 'eff_sz': np.linspace(0, .15, 10),'kwarg': {\"weighted\": False}},\n",
    "                   'abcd': {'fn': sbm_4, 'eff_sz': np.linspace(0, .15, 10),'kwarg': {\"weighted\": False}}\n",
    "                  }\n",
    "}\n",
    "\n",
    "nrep = 1\n",
    "ncores = multiproc.cpu_count()-2\n",
    "nvertices = np.round(np.linspace(20, 100, 10))"
   ]
  },
  {
   "cell_type": "code",
   "execution_count": 33,
   "metadata": {},
   "outputs": [
    {
     "name": "stderr",
     "output_type": "stream",
     "text": [
      "/home/eric/.virtualenvs/graspy/lib/python3.7/site-packages/distributed/node.py:155: UserWarning: Port 8787 is already in use.\n",
      "Perhaps you already have a cluster running?\n",
      "Hosting the HTTP server on port 43071 instead\n"
     ]
    },
    {
     "data": {
      "text/html": [
       "<table style=\"border: 2px solid white;\">\n",
       "<tr>\n",
       "<td style=\"vertical-align: top; border: 0px solid white\">\n",
       "<h3 style=\"text-align: left;\">Client</h3>\n",
       "<ul style=\"text-align: left; list-style: none; margin: 0; padding: 0;\">\n",
       "  <li><b>Scheduler: </b>tcp://127.0.0.1:39029</li>\n",
       "  <li><b>Dashboard: </b><a href='http://127.0.0.1:43071/status' target='_blank'>http://127.0.0.1:43071/status</a></li>\n",
       "</ul>\n",
       "</td>\n",
       "<td style=\"vertical-align: top; border: 0px solid white\">\n",
       "<h3 style=\"text-align: left;\">Cluster</h3>\n",
       "<ul style=\"text-align: left; list-style:none; margin: 0; padding: 0;\">\n",
       "  <li><b>Workers: </b>6</li>\n",
       "  <li><b>Cores: </b>6</li>\n",
       "  <li><b>Memory: </b>33.51 GB</li>\n",
       "</ul>\n",
       "</td>\n",
       "</tr>\n",
       "</table>"
      ],
      "text/plain": [
       "<Client: 'tcp://127.0.0.1:39029' processes=6 threads=6, memory=33.51 GB>"
      ]
     },
     "execution_count": 33,
     "metadata": {},
     "output_type": "execute_result"
    }
   ],
   "source": [
    "client = Client(threads_per_worker=1, n_workers=ncores)\n",
    "client"
   ]
  },
  {
   "cell_type": "code",
   "execution_count": 34,
   "metadata": {},
   "outputs": [],
   "source": [
    "def run_exp(row):\n",
    "    # generate simulation using the dictionary defined above\n",
    "    sim_dict = simulations[row[\"Weighting\"]][row[\"Simulation\"]]\n",
    "    if sim_dict[\"kwarg\"] is not None:\n",
    "        (A, C) = sim_dict[\"fn\"](row[\"n\"], row[\"Effect_Size\"], **sim_dict[\"kwarg\"])\n",
    "    else:\n",
    "        (A, C) = sim_dict[\"fn\"](row[\"n\"], row[\"Effect_Size\"])\n",
    "        \n",
    "    # run sim on all test statistics\n",
    "    p_vals = []\n",
    "    models = []\n",
    "    stat_names = []\n",
    "    for test_name, test in test_stats.items():\n",
    "        # check if statistic is appropriate for the setting\n",
    "        if row[\"Weighting\"] in test_stat_use[test_name]:\n",
    "            try:\n",
    "                e = SBMEstimator()\n",
    "                pval, model = e.estimate_block_structure(A, C, [\"abba\", \"abbd\", \"abcd\"], test_method=test)\n",
    "                p_vals.append(pval)\n",
    "                models.append(model)\n",
    "                stat_names.append(test_name)\n",
    "            except:\n",
    "                ex_str = \"Failed Test: {}, Simulation: {}, n: {}, Effect Size: {}\"\n",
    "                print(ex_str.format(test_name, row[\"Simulation\"], row[\"n\"], row[\"Effect_Size\"]))\n",
    "                p_vals.append(float(\"NaN\"))\n",
    "                models.append(\"\")\n",
    "        else:\n",
    "            p_vals.append(float(\"NaN\"))\n",
    "            models.append(\"\")\n",
    "    return tuple([row[\"Simulation\"], row[\"Weighting\"], row[\"n\"],\n",
    "                 row[\"Effect_Size\"], row[\"i\"], *p_vals, *models])"
   ]
  },
  {
   "cell_type": "code",
   "execution_count": 35,
   "metadata": {},
   "outputs": [
    {
     "name": "stdout",
     "output_type": "stream",
     "text": [
      "  Simulation   Weighting   n  Effect_Size  i\n",
      "0       abba  Unweighted  20          0.0  0\n",
      "1       abba  Unweighted  23          0.0  0\n",
      "2       abba  Unweighted  27          0.0  0\n",
      "3       abba  Unweighted  30          0.0  0\n",
      "4       abba  Unweighted  33          0.0  0\n",
      "(60, 5)\n"
     ]
    }
   ],
   "source": [
    "exps = []\n",
    "for weighting, sims in simulations.items():\n",
    "    for sim_name, sim in sims.items():\n",
    "        for es in sim[\"eff_sz\"]:\n",
    "            for n in nvertices:\n",
    "                for i in range(nrep):\n",
    "                    exps.append([sim_name, weighting, n, es, i])\n",
    "sim_exps = pd.DataFrame(exps, columns=[\"Simulation\", \"Weighting\", \"n\", \"Effect_Size\", \"i\"])\n",
    "sim_exps[\"n\"] = sim_exps[\"n\"].astype(int)\n",
    "print(sim_exps.head())\n",
    "print(sim_exps.shape)"
   ]
  },
  {
   "cell_type": "code",
   "execution_count": 36,
   "metadata": {},
   "outputs": [
    {
     "data": {
      "text/html": [
       "<div><strong>Dask DataFrame Structure:</strong></div>\n",
       "<div>\n",
       "<style scoped>\n",
       "    .dataframe tbody tr th:only-of-type {\n",
       "        vertical-align: middle;\n",
       "    }\n",
       "\n",
       "    .dataframe tbody tr th {\n",
       "        vertical-align: top;\n",
       "    }\n",
       "\n",
       "    .dataframe thead th {\n",
       "        text-align: right;\n",
       "    }\n",
       "</style>\n",
       "<table border=\"1\" class=\"dataframe\">\n",
       "  <thead>\n",
       "    <tr style=\"text-align: right;\">\n",
       "      <th></th>\n",
       "      <th>0</th>\n",
       "      <th>1</th>\n",
       "      <th>2</th>\n",
       "      <th>3</th>\n",
       "      <th>4</th>\n",
       "      <th>5</th>\n",
       "      <th>6</th>\n",
       "      <th>7</th>\n",
       "      <th>8</th>\n",
       "      <th>9</th>\n",
       "      <th>10</th>\n",
       "      <th>11</th>\n",
       "      <th>12</th>\n",
       "      <th>13</th>\n",
       "      <th>14</th>\n",
       "      <th>15</th>\n",
       "      <th>16</th>\n",
       "    </tr>\n",
       "    <tr>\n",
       "      <th>npartitions=10</th>\n",
       "      <th></th>\n",
       "      <th></th>\n",
       "      <th></th>\n",
       "      <th></th>\n",
       "      <th></th>\n",
       "      <th></th>\n",
       "      <th></th>\n",
       "      <th></th>\n",
       "      <th></th>\n",
       "      <th></th>\n",
       "      <th></th>\n",
       "      <th></th>\n",
       "      <th></th>\n",
       "      <th></th>\n",
       "      <th></th>\n",
       "      <th></th>\n",
       "      <th></th>\n",
       "    </tr>\n",
       "  </thead>\n",
       "  <tbody>\n",
       "    <tr>\n",
       "      <th>0</th>\n",
       "      <td>object</td>\n",
       "      <td>object</td>\n",
       "      <td>int64</td>\n",
       "      <td>float64</td>\n",
       "      <td>int64</td>\n",
       "      <td>float64</td>\n",
       "      <td>float64</td>\n",
       "      <td>float64</td>\n",
       "      <td>float64</td>\n",
       "      <td>float64</td>\n",
       "      <td>float64</td>\n",
       "      <td>object</td>\n",
       "      <td>object</td>\n",
       "      <td>object</td>\n",
       "      <td>object</td>\n",
       "      <td>object</td>\n",
       "      <td>object</td>\n",
       "    </tr>\n",
       "    <tr>\n",
       "      <th>6</th>\n",
       "      <td>...</td>\n",
       "      <td>...</td>\n",
       "      <td>...</td>\n",
       "      <td>...</td>\n",
       "      <td>...</td>\n",
       "      <td>...</td>\n",
       "      <td>...</td>\n",
       "      <td>...</td>\n",
       "      <td>...</td>\n",
       "      <td>...</td>\n",
       "      <td>...</td>\n",
       "      <td>...</td>\n",
       "      <td>...</td>\n",
       "      <td>...</td>\n",
       "      <td>...</td>\n",
       "      <td>...</td>\n",
       "      <td>...</td>\n",
       "    </tr>\n",
       "    <tr>\n",
       "      <th>...</th>\n",
       "      <td>...</td>\n",
       "      <td>...</td>\n",
       "      <td>...</td>\n",
       "      <td>...</td>\n",
       "      <td>...</td>\n",
       "      <td>...</td>\n",
       "      <td>...</td>\n",
       "      <td>...</td>\n",
       "      <td>...</td>\n",
       "      <td>...</td>\n",
       "      <td>...</td>\n",
       "      <td>...</td>\n",
       "      <td>...</td>\n",
       "      <td>...</td>\n",
       "      <td>...</td>\n",
       "      <td>...</td>\n",
       "      <td>...</td>\n",
       "    </tr>\n",
       "    <tr>\n",
       "      <th>54</th>\n",
       "      <td>...</td>\n",
       "      <td>...</td>\n",
       "      <td>...</td>\n",
       "      <td>...</td>\n",
       "      <td>...</td>\n",
       "      <td>...</td>\n",
       "      <td>...</td>\n",
       "      <td>...</td>\n",
       "      <td>...</td>\n",
       "      <td>...</td>\n",
       "      <td>...</td>\n",
       "      <td>...</td>\n",
       "      <td>...</td>\n",
       "      <td>...</td>\n",
       "      <td>...</td>\n",
       "      <td>...</td>\n",
       "      <td>...</td>\n",
       "    </tr>\n",
       "    <tr>\n",
       "      <th>59</th>\n",
       "      <td>...</td>\n",
       "      <td>...</td>\n",
       "      <td>...</td>\n",
       "      <td>...</td>\n",
       "      <td>...</td>\n",
       "      <td>...</td>\n",
       "      <td>...</td>\n",
       "      <td>...</td>\n",
       "      <td>...</td>\n",
       "      <td>...</td>\n",
       "      <td>...</td>\n",
       "      <td>...</td>\n",
       "      <td>...</td>\n",
       "      <td>...</td>\n",
       "      <td>...</td>\n",
       "      <td>...</td>\n",
       "      <td>...</td>\n",
       "    </tr>\n",
       "  </tbody>\n",
       "</table>\n",
       "</div>\n",
       "<div>Dask Name: apply, 20 tasks</div>"
      ],
      "text/plain": [
       "Dask DataFrame Structure:\n",
       "                    0       1      2        3      4        5        6        7        8        9        10      11      12      13      14      15      16\n",
       "npartitions=10                                                                                                                                             \n",
       "0               object  object  int64  float64  int64  float64  float64  float64  float64  float64  float64  object  object  object  object  object  object\n",
       "6                  ...     ...    ...      ...    ...      ...      ...      ...      ...      ...      ...     ...     ...     ...     ...     ...     ...\n",
       "...                ...     ...    ...      ...    ...      ...      ...      ...      ...      ...      ...     ...     ...     ...     ...     ...     ...\n",
       "54                 ...     ...    ...      ...    ...      ...      ...      ...      ...      ...      ...     ...     ...     ...     ...     ...     ...\n",
       "59                 ...     ...    ...      ...    ...      ...      ...      ...      ...      ...      ...     ...     ...     ...     ...     ...     ...\n",
       "Dask Name: apply, 20 tasks"
      ]
     },
     "execution_count": 36,
     "metadata": {},
     "output_type": "execute_result"
    }
   ],
   "source": [
    "sim_exps = ddf.from_pandas(sim_exps, npartitions=10)\n",
    "sim_results = sim_exps.apply(lambda x: run_exp(x), axis=1, result_type='expand',\n",
    "                             meta={0: str, 1: str, 2: int, 3: float, 4: int,\n",
    "                                   5: float, 6: float, 7: float, 8:float, 9:float, 10:float,\n",
    "                                   11: str, 12: str, 13: str, 14: str, 15: str, 16: str})\n",
    "sim_results"
   ]
  },
  {
   "cell_type": "code",
   "execution_count": null,
   "metadata": {},
   "outputs": [],
   "source": [
    "sim_results = sim_results.compute(scheduler=\"multiprocessing\")\n",
    "sim_results = sim_results.rename(columns={0: \"Simulation\", 1: \"Weighting\", 2: \"n\", 3: \"Effect_Size\",\n",
    "                                          4: \"i\", 5: \"FET\", 6: \"Chi2\", 7: \"LRT\", 8: \"MGC\", 9: \"KW\", 10: \"ANOVA\",\n",
    "                                          11: \"FET_pred\", 12: \"Chi2_pred\", 13: \"LRT_pred\",\n",
    "                                         14: \"MGC_pred\", 15: \"KW_pred\", 16: \"ANOVA_pred\"})\n",
    "sim_results.to_pickle('./data/block_est.pkl')"
   ]
  },
  {
   "cell_type": "code",
   "execution_count": 36,
   "metadata": {},
   "outputs": [
    {
     "name": "stdout",
     "output_type": "stream",
     "text": [
      "    Simulation   Weighting    n  Effect_Size  i  FET          Chi2           LRT  MGC            KW         ANOVA FET_pred Chi2_pred LRT_pred MGC_pred KW_pred ANOVA_pred\n",
      "295       abcd  Unweighted   64         0.15  0  NaN  8.775968e-13  1.845957e-14  NaN  8.840966e-13  7.164495e-13               abbd     abcd             abbd       abbd\n",
      "296       abcd  Unweighted   73         0.15  0  NaN  1.645611e-23  4.448272e-24  NaN  1.663230e-23  9.360871e-24               abcd     abcd             abcd       abcd\n",
      "297       abcd  Unweighted   82         0.15  0  NaN  4.706011e-15  2.563437e-16  NaN  4.730942e-15  3.958104e-15               abcd     abcd             abcd       abcd\n",
      "298       abcd  Unweighted   91         0.15  0  NaN  5.826799e-16  2.873860e-17  NaN  5.853942e-16  4.955378e-16               abcd     abcd             abcd       abcd\n",
      "299       abcd  Unweighted  100         0.15  0  NaN  5.096071e-29  1.785900e-30  NaN  5.130839e-29  3.262408e-29               abcd     abcd             abcd       abcd\n"
     ]
    }
   ],
   "source": [
    "print(sim_results.tail())"
   ]
  },
  {
   "cell_type": "code",
   "execution_count": 22,
   "metadata": {},
   "outputs": [],
   "source": [
    "row={\"n\": 20, \"Effect_Size\": .5, \"kwarg\": {\"weighted\": False}, \"Weighting\": \"Unweighted\", \"Simulation\": \"abba\"}\n",
    "sim_dict = simulations[row[\"Weighting\"]][row[\"Simulation\"]]\n",
    "(A, C) = sim_dict[\"fn\"](row[\"n\"], row[\"Effect_Size\"], **sim_dict[\"kwarg\"])"
   ]
  },
  {
   "cell_type": "code",
   "execution_count": 23,
   "metadata": {},
   "outputs": [],
   "source": [
    "e = SBMEstimator()\n",
    "pval, model = e.estimate_block_structure(A, C, [\"abba\", \"abbd\", \"abcd\"], test_method=\"dcorr\")"
   ]
  },
  {
   "cell_type": "code",
   "execution_count": 24,
   "metadata": {},
   "outputs": [
    {
     "data": {
      "text/plain": [
       "0.0"
      ]
     },
     "execution_count": 24,
     "metadata": {},
     "output_type": "execute_result"
    }
   ],
   "source": [
    "pval"
   ]
  },
  {
   "cell_type": "code",
   "execution_count": 25,
   "metadata": {},
   "outputs": [
    {
     "data": {
      "text/plain": [
       "'abba'"
      ]
     },
     "execution_count": 25,
     "metadata": {},
     "output_type": "execute_result"
    }
   ],
   "source": [
    "model"
   ]
  },
  {
   "cell_type": "code",
   "execution_count": null,
   "metadata": {},
   "outputs": [],
   "source": []
  }
 ],
 "metadata": {
  "kernelspec": {
   "display_name": "graspy",
   "language": "python",
   "name": "graspy"
  },
  "language_info": {
   "codemirror_mode": {
    "name": "ipython",
    "version": 3
   },
   "file_extension": ".py",
   "mimetype": "text/x-python",
   "name": "python",
   "nbconvert_exporter": "python",
   "pygments_lexer": "ipython3",
   "version": "3.7.8"
  }
 },
 "nbformat": 4,
 "nbformat_minor": 4
}
