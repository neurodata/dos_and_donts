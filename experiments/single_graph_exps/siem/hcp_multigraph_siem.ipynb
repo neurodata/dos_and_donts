{
 "cells": [
  {
   "cell_type": "code",
   "execution_count": 90,
   "metadata": {},
   "outputs": [],
   "source": [
    "import graspy as gp\n",
    "import glob\n",
    "import os, sys\n",
    "import numpy as np\n",
    "import pandas as pd\n",
    "import multiprocessing as multiproc\n",
    "import dask\n",
    "from dask.distributed import Client, progress\n",
    "import dask.dataframe as ddf\n",
    "from scipy.stats import mannwhitneyu\n",
    "from matplotlib.pyplot import savefig"
   ]
  },
  {
   "cell_type": "code",
   "execution_count": 9,
   "metadata": {},
   "outputs": [
    {
     "name": "stderr",
     "output_type": "stream",
     "text": [
      "/home/eric/.virtualenvs/graspy/lib/python3.7/site-packages/graspy-0.2.0-py3.7.egg/graspy/utils/utils.py:149: UserWarning: All graphs have 0 vertices. Please double check if proper 'delimiter' is given.\n",
      "  warnings.warn(msg, UserWarning)\n",
      "/home/eric/.virtualenvs/graspy/lib/python3.7/site-packages/graspy-0.2.0-py3.7.egg/graspy/utils/utils.py:149: UserWarning: All graphs have 0 vertices. Please double check if proper 'delimiter' is given.\n",
      "  warnings.warn(msg, UserWarning)\n"
     ]
    }
   ],
   "source": [
    "dpath = '/data/hcp/dmri/'\n",
    "def get_sub(fname):\n",
    "    stext = os.path.basename(fname).split('_')\n",
    "    return('{}_{}'.format(stext[0], stext[1]))\n",
    "\n",
    "dmri_dict = {}\n",
    "for f in glob.glob(os.path.join(dpath, '*.edgelist')):\n",
    "    gr_dat = gp.utils.import_edgelist(f)\n",
    "    if gr_dat.shape == (70, 70):\n",
    "        dmri_dict[get_sub(f)] = gr_dat\n",
    "dmri_ar = np.dstack(list(dmri_dict.values()))"
   ]
  },
  {
   "cell_type": "code",
   "execution_count": 52,
   "metadata": {},
   "outputs": [],
   "source": [
    "fpath = '/data/hcp/fmri/'\n",
    "def get_sub(fname):\n",
    "    stext = os.path.basename(fname).split('_')\n",
    "    return('{}_{}'.format(stext[0], stext[1]))\n",
    "\n",
    "fmri_dict = {}\n",
    "for f in glob.glob(os.path.join(fpath, '*.edgelist')):\n",
    "    gr_dat = gp.utils.import_edgelist(f)\n",
    "    if gr_dat.shape == (70, 70):\n",
    "        fmri_dict[get_sub(f)] = gr_dat\n",
    "fmri_ar = np.dstack(list(fmri_dict.values()))"
   ]
  },
  {
   "cell_type": "code",
   "execution_count": 53,
   "metadata": {},
   "outputs": [
    {
     "name": "stderr",
     "output_type": "stream",
     "text": [
      "/home/eric/.virtualenvs/graspy/lib/python3.7/site-packages/distributed/node.py:155: UserWarning: Port 8787 is already in use.\n",
      "Perhaps you already have a cluster running?\n",
      "Hosting the HTTP server on port 44267 instead\n",
      "  http_address[\"port\"], self.http_server.port\n"
     ]
    },
    {
     "data": {
      "text/html": [
       "<table style=\"border: 2px solid white;\">\n",
       "<tr>\n",
       "<td style=\"vertical-align: top; border: 0px solid white\">\n",
       "<h3 style=\"text-align: left;\">Client</h3>\n",
       "<ul style=\"text-align: left; list-style: none; margin: 0; padding: 0;\">\n",
       "  <li><b>Scheduler: </b>tcp://127.0.0.1:42563</li>\n",
       "  <li><b>Dashboard: </b><a href='http://127.0.0.1:44267/status' target='_blank'>http://127.0.0.1:44267/status</a></li>\n",
       "</ul>\n",
       "</td>\n",
       "<td style=\"vertical-align: top; border: 0px solid white\">\n",
       "<h3 style=\"text-align: left;\">Cluster</h3>\n",
       "<ul style=\"text-align: left; list-style:none; margin: 0; padding: 0;\">\n",
       "  <li><b>Workers: </b>6</li>\n",
       "  <li><b>Cores: </b>6</li>\n",
       "  <li><b>Memory: </b>33.51 GB</li>\n",
       "</ul>\n",
       "</td>\n",
       "</tr>\n",
       "</table>"
      ],
      "text/plain": [
       "<Client: 'tcp://127.0.0.1:42563' processes=6 threads=6, memory=33.51 GB>"
      ]
     },
     "execution_count": 53,
     "metadata": {},
     "output_type": "execute_result"
    }
   ],
   "source": [
    "ncores = 6\n",
    "client = Client(threads_per_worker=1, n_workers=ncores)\n",
    "client"
   ]
  },
  {
   "cell_type": "code",
   "execution_count": 54,
   "metadata": {},
   "outputs": [],
   "source": [
    "def modular_edges(n):\n",
    "    \"\"\"\n",
    "    A function for generating modular sbm edge communities.\n",
    "    \"\"\"\n",
    "    m = int(n/2)\n",
    "    edge_comm = np.zeros((n,n))\n",
    "    for i in range(n):\n",
    "        for j in range(n):\n",
    "            if ( (i<m) & (j<m)) or ( (i>=m ) & (j>=m) ):\n",
    "                edge_comm[i,j] = 1\n",
    "            else:\n",
    "                edge_comm[i,j] = 2   \n",
    "    return edge_comm\n",
    "\n",
    "def diag_edges(n):\n",
    "    \"\"\"\n",
    "    A function for generating diagonal SIEM edge communities.\n",
    "    \"\"\"\n",
    "    m = int(n/2)\n",
    "    edge_comm = np.zeros((n,n))\n",
    "    for i in range(n):\n",
    "        for j in range(n):\n",
    "            if (i == j + m) or (j == i + m):\n",
    "                edge_comm[i,j] = 1\n",
    "            else:\n",
    "                edge_comm[i,j] = 2\n",
    "    return edge_comm\n",
    "\n",
    "def mww(G, C):\n",
    "    A = G[C == 1]\n",
    "    B = G[C == 2]\n",
    "    return(mannwhitneyu(A, B, alternative='two-sided')[1])"
   ]
  },
  {
   "cell_type": "code",
   "execution_count": 55,
   "metadata": {},
   "outputs": [],
   "source": [
    "def run_exp(row):\n",
    "    if row[0] == \"dMRI\":\n",
    "        A = dmri_dict[row[1]]  # grab connectome using ID\n",
    "    elif row[0] == \"fMRI\":\n",
    "        A = fmri_dict[row[1]]\n",
    "    test_name = row[2] # grab name of the test\n",
    "    if test_name == \"Homophily\":\n",
    "        C = modular_edges(A.shape[0])\n",
    "    elif test_name == \"Homotopy\":\n",
    "        C = diag_edges(A.shape[0])\n",
    "    pval = mww(A, C)\n",
    "    return (row[0], row[1], row[2], pval)"
   ]
  },
  {
   "cell_type": "code",
   "execution_count": 56,
   "metadata": {},
   "outputs": [
    {
     "name": "stdout",
     "output_type": "stream",
     "text": [
      "  Modality                ID  Test Name\n",
      "0     dMRI  sub-381543_ses-1  Homophily\n",
      "1     dMRI  sub-381543_ses-1   Homotopy\n",
      "2     dMRI  sub-205826_ses-1  Homophily\n",
      "3     dMRI  sub-205826_ses-1   Homotopy\n",
      "4     dMRI  sub-206828_ses-1  Homophily\n"
     ]
    }
   ],
   "source": [
    "exps = []\n",
    "for modality in [\"dMRI\", \"fMRI\"]:\n",
    "    if modality == \"dMRI\":\n",
    "        conn_dict = dmri_dict\n",
    "    elif modality == \"fMRI\":\n",
    "        conn_dict = fmri_dict\n",
    "    for key in conn_dict.keys():\n",
    "        for test in [\"Homophily\", \"Homotopy\"]:\n",
    "            exps.append([modality, key, test])\n",
    "sim_exps = pd.DataFrame(exps, columns=[\"Modality\", \"ID\", \"Test Name\"])\n",
    "print(sim_exps.head())"
   ]
  },
  {
   "cell_type": "code",
   "execution_count": 57,
   "metadata": {},
   "outputs": [
    {
     "data": {
      "text/html": [
       "<div><strong>Dask DataFrame Structure:</strong></div>\n",
       "<div>\n",
       "<style scoped>\n",
       "    .dataframe tbody tr th:only-of-type {\n",
       "        vertical-align: middle;\n",
       "    }\n",
       "\n",
       "    .dataframe tbody tr th {\n",
       "        vertical-align: top;\n",
       "    }\n",
       "\n",
       "    .dataframe thead th {\n",
       "        text-align: right;\n",
       "    }\n",
       "</style>\n",
       "<table border=\"1\" class=\"dataframe\">\n",
       "  <thead>\n",
       "    <tr style=\"text-align: right;\">\n",
       "      <th></th>\n",
       "      <th>0</th>\n",
       "      <th>1</th>\n",
       "      <th>2</th>\n",
       "      <th>3</th>\n",
       "    </tr>\n",
       "    <tr>\n",
       "      <th>npartitions=9</th>\n",
       "      <th></th>\n",
       "      <th></th>\n",
       "      <th></th>\n",
       "      <th></th>\n",
       "    </tr>\n",
       "  </thead>\n",
       "  <tbody>\n",
       "    <tr>\n",
       "      <th>0</th>\n",
       "      <td>object</td>\n",
       "      <td>object</td>\n",
       "      <td>object</td>\n",
       "      <td>float64</td>\n",
       "    </tr>\n",
       "    <tr>\n",
       "      <th>417</th>\n",
       "      <td>...</td>\n",
       "      <td>...</td>\n",
       "      <td>...</td>\n",
       "      <td>...</td>\n",
       "    </tr>\n",
       "    <tr>\n",
       "      <th>...</th>\n",
       "      <td>...</td>\n",
       "      <td>...</td>\n",
       "      <td>...</td>\n",
       "      <td>...</td>\n",
       "    </tr>\n",
       "    <tr>\n",
       "      <th>3336</th>\n",
       "      <td>...</td>\n",
       "      <td>...</td>\n",
       "      <td>...</td>\n",
       "      <td>...</td>\n",
       "    </tr>\n",
       "    <tr>\n",
       "      <th>3745</th>\n",
       "      <td>...</td>\n",
       "      <td>...</td>\n",
       "      <td>...</td>\n",
       "      <td>...</td>\n",
       "    </tr>\n",
       "  </tbody>\n",
       "</table>\n",
       "</div>\n",
       "<div>Dask Name: apply, 18 tasks</div>"
      ],
      "text/plain": [
       "Dask DataFrame Structure:\n",
       "                    0       1       2        3\n",
       "npartitions=9                                 \n",
       "0              object  object  object  float64\n",
       "417               ...     ...     ...      ...\n",
       "...               ...     ...     ...      ...\n",
       "3336              ...     ...     ...      ...\n",
       "3745              ...     ...     ...      ...\n",
       "Dask Name: apply, 18 tasks"
      ]
     },
     "execution_count": 57,
     "metadata": {},
     "output_type": "execute_result"
    }
   ],
   "source": [
    "sim_exps = ddf.from_pandas(sim_exps, npartitions=ncores*1.5)\n",
    "sim_results = sim_exps.apply(lambda x: run_exp(x), axis=1, result_type='expand',\n",
    "                             meta={0: str, 1: str, 2: str, 3: float})\n",
    "sim_results"
   ]
  },
  {
   "cell_type": "code",
   "execution_count": 58,
   "metadata": {},
   "outputs": [],
   "source": [
    "sim_results = sim_results.compute(scheduler=\"multiprocessing\")\n",
    "sim_results = sim_results.rename(columns={0: \"Modality\", 1: \"ID\", 2: \"Test Name\", 3: \"p_val\"})\n",
    "sim_results.to_csv('./data/hcp_singlegraph_results.csv')"
   ]
  },
  {
   "cell_type": "code",
   "execution_count": 59,
   "metadata": {},
   "outputs": [],
   "source": [
    "np.savetxt('./data/hcp_dmri_avg.csv', dmri_ar.mean(axis=2), delimiter=',')\n",
    "np.savetxt('./data/hcp_fmri_avg.csv', fmri_ar.mean(axis=2), delimiter=',')"
   ]
  },
  {
   "cell_type": "code",
   "execution_count": 61,
   "metadata": {},
   "outputs": [
    {
     "data": {
      "text/html": [
       "<div>\n",
       "<style scoped>\n",
       "    .dataframe tbody tr th:only-of-type {\n",
       "        vertical-align: middle;\n",
       "    }\n",
       "\n",
       "    .dataframe tbody tr th {\n",
       "        vertical-align: top;\n",
       "    }\n",
       "\n",
       "    .dataframe thead th {\n",
       "        text-align: right;\n",
       "    }\n",
       "</style>\n",
       "<table border=\"1\" class=\"dataframe\">\n",
       "  <thead>\n",
       "    <tr style=\"text-align: right;\">\n",
       "      <th></th>\n",
       "      <th>Modality</th>\n",
       "      <th>ID</th>\n",
       "      <th>Test Name</th>\n",
       "      <th>p_val</th>\n",
       "    </tr>\n",
       "  </thead>\n",
       "  <tbody>\n",
       "    <tr>\n",
       "      <th>0</th>\n",
       "      <td>dMRI</td>\n",
       "      <td>sub-381543_ses-1</td>\n",
       "      <td>Homophily</td>\n",
       "      <td>5.505558e-98</td>\n",
       "    </tr>\n",
       "    <tr>\n",
       "      <th>1</th>\n",
       "      <td>dMRI</td>\n",
       "      <td>sub-381543_ses-1</td>\n",
       "      <td>Homotopy</td>\n",
       "      <td>4.790909e-07</td>\n",
       "    </tr>\n",
       "    <tr>\n",
       "      <th>2</th>\n",
       "      <td>dMRI</td>\n",
       "      <td>sub-205826_ses-1</td>\n",
       "      <td>Homophily</td>\n",
       "      <td>4.126077e-87</td>\n",
       "    </tr>\n",
       "    <tr>\n",
       "      <th>3</th>\n",
       "      <td>dMRI</td>\n",
       "      <td>sub-205826_ses-1</td>\n",
       "      <td>Homotopy</td>\n",
       "      <td>2.126401e-08</td>\n",
       "    </tr>\n",
       "    <tr>\n",
       "      <th>4</th>\n",
       "      <td>dMRI</td>\n",
       "      <td>sub-206828_ses-1</td>\n",
       "      <td>Homophily</td>\n",
       "      <td>6.652131e-124</td>\n",
       "    </tr>\n",
       "    <tr>\n",
       "      <th>...</th>\n",
       "      <td>...</td>\n",
       "      <td>...</td>\n",
       "      <td>...</td>\n",
       "      <td>...</td>\n",
       "    </tr>\n",
       "    <tr>\n",
       "      <th>3741</th>\n",
       "      <td>fMRI</td>\n",
       "      <td>sub-158540_ses-1</td>\n",
       "      <td>Homotopy</td>\n",
       "      <td>1.304032e-01</td>\n",
       "    </tr>\n",
       "    <tr>\n",
       "      <th>3742</th>\n",
       "      <td>fMRI</td>\n",
       "      <td>sub-153732_ses-1</td>\n",
       "      <td>Homophily</td>\n",
       "      <td>5.224379e-12</td>\n",
       "    </tr>\n",
       "    <tr>\n",
       "      <th>3743</th>\n",
       "      <td>fMRI</td>\n",
       "      <td>sub-153732_ses-1</td>\n",
       "      <td>Homotopy</td>\n",
       "      <td>7.667613e-01</td>\n",
       "    </tr>\n",
       "    <tr>\n",
       "      <th>3744</th>\n",
       "      <td>fMRI</td>\n",
       "      <td>sub-465852_ses-1</td>\n",
       "      <td>Homophily</td>\n",
       "      <td>9.124389e-03</td>\n",
       "    </tr>\n",
       "    <tr>\n",
       "      <th>3745</th>\n",
       "      <td>fMRI</td>\n",
       "      <td>sub-465852_ses-1</td>\n",
       "      <td>Homotopy</td>\n",
       "      <td>4.769492e-01</td>\n",
       "    </tr>\n",
       "  </tbody>\n",
       "</table>\n",
       "<p>3746 rows × 4 columns</p>\n",
       "</div>"
      ],
      "text/plain": [
       "     Modality                ID  Test Name          p_val\n",
       "0        dMRI  sub-381543_ses-1  Homophily   5.505558e-98\n",
       "1        dMRI  sub-381543_ses-1   Homotopy   4.790909e-07\n",
       "2        dMRI  sub-205826_ses-1  Homophily   4.126077e-87\n",
       "3        dMRI  sub-205826_ses-1   Homotopy   2.126401e-08\n",
       "4        dMRI  sub-206828_ses-1  Homophily  6.652131e-124\n",
       "...       ...               ...        ...            ...\n",
       "3741     fMRI  sub-158540_ses-1   Homotopy   1.304032e-01\n",
       "3742     fMRI  sub-153732_ses-1  Homophily   5.224379e-12\n",
       "3743     fMRI  sub-153732_ses-1   Homotopy   7.667613e-01\n",
       "3744     fMRI  sub-465852_ses-1  Homophily   9.124389e-03\n",
       "3745     fMRI  sub-465852_ses-1   Homotopy   4.769492e-01\n",
       "\n",
       "[3746 rows x 4 columns]"
      ]
     },
     "execution_count": 61,
     "metadata": {},
     "output_type": "execute_result"
    }
   ],
   "source": [
    "sim_results"
   ]
  },
  {
   "cell_type": "code",
   "execution_count": 91,
   "metadata": {},
   "outputs": [
    {
     "data": {
      "image/png": "[encoded data removed]",
      "text/plain": [
       "<Figure size 720x720 with 4 Axes>"
      ]
     },
     "metadata": {
      "needs_background": "light"
     },
     "output_type": "display_data"
    }
   ],
   "source": [
    "dmri_conn = gp.plot.heatmap(np.log2(dmri_ar.mean(axis=2) + .5), title=\"(I) Average dMRI Connectome, N=1059\", inner_hier_labels=[\"Right\" if i > 35 else \"Left\" for i in range(1, 71)])\n",
    "savefig('./hcp_dmri.svg', format='svg')"
   ]
  },
  {
   "cell_type": "code",
   "execution_count": null,
   "metadata": {},
   "outputs": [],
   "source": []
  },
  {
   "cell_type": "code",
   "execution_count": null,
   "metadata": {},
   "outputs": [],
   "source": []
  },
  {
   "cell_type": "code",
   "execution_count": null,
   "metadata": {},
   "outputs": [],
   "source": []
  },
  {
   "cell_type": "code",
   "execution_count": null,
   "metadata": {},
   "outputs": [],
   "source": []
  },
  {
   "cell_type": "code",
   "execution_count": null,
   "metadata": {},
   "outputs": [],
   "source": []
  }
 ],
 "metadata": {
  "kernelspec": {
   "display_name": "graspy",
   "language": "python",
   "name": "graspy"
  },
  "language_info": {
   "codemirror_mode": {
    "name": "ipython",
    "version": 3
   },
   "file_extension": ".py",
   "mimetype": "text/x-python",
   "name": "python",
   "nbconvert_exporter": "python",
   "pygments_lexer": "ipython3",
   "version": "3.7.8"
  }
 },
 "nbformat": 4,
 "nbformat_minor": 4
}
