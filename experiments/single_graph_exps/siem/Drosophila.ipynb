{
 "cells": [
  {
   "cell_type": "code",
   "execution_count": 2,
   "metadata": {},
   "outputs": [],
   "source": [
    "import graspy as gp\n",
    "import glob\n",
    "import os, sys\n",
    "import numpy as np\n",
    "import pandas as pd\n",
    "import multiprocessing as multiproc\n",
    "import dask\n",
    "from dask.distributed import Client, progress\n",
    "import dask.dataframe as ddf\n",
    "from scipy.stats import mannwhitneyu\n",
    "from matplotlib.pyplot import savefig\n",
    "import networkx as nx"
   ]
  },
  {
   "cell_type": "code",
   "execution_count": 170,
   "metadata": {},
   "outputs": [],
   "source": [
    "gr = nx.read_graphml('./data/G.graphml')\n",
    "A = nx.to_numpy_matrix(gr)\n",
    "node_hemi = nx.get_node_attributes(gr, 'Hemisphere')\n",
    "node_pair = nx.get_node_attributes(gr, 'Pair')\n",
    "n=A.shape[0]"
   ]
  },
  {
   "cell_type": "code",
   "execution_count": 158,
   "metadata": {},
   "outputs": [],
   "source": [
    "def make_edgecomm_from_dict(dict_nodes):\n",
    "    C = np.zeros((len(dict_nodes), len(dict_nodes)))\n",
    "    for i, (keyi, vali) in enumerate(dict_nodes.items()):\n",
    "        for j, (keyj, valj) in enumerate(dict_nodes.items()):\n",
    "            if i != j:\n",
    "                if vali == valj:\n",
    "                    C[i,j] = 1\n",
    "                else:\n",
    "                    C[i,j] = 2\n",
    "    return C"
   ]
  },
  {
   "cell_type": "code",
   "execution_count": 159,
   "metadata": {},
   "outputs": [],
   "source": [
    "Rowmtx = np.zeros((n,n))\n",
    "Colmtx = np.zeros((n,n))\n",
    "vtx_order = node_hemi\n",
    "for i in range(1, n+1):\n",
    "    Rowmtx[i-1,:] = i\n",
    "    Colmtx[:,i-1] = i\n",
    "    \n",
    "C_hemi = make_edgecomm_from_dict(node_hemi)\n",
    "C_pair = make_edgecomm_from_dict(node_pair)\n",
    "    \n",
    "A_df = pd.DataFrame({\"Value\": np.array(A).flatten(), \n",
    "                     \"Row\": Rowmtx.astype(int).flatten(),\n",
    "                     \"Column\": Colmtx.astype(int).flatten(),\n",
    "                     \"Homophilic\": C_hemi.astype(int).flatten(),\n",
    "                     \"Homotopic\": C_pair.astype(int).flatten()})\n",
    "\n",
    "A_df.to_csv('./data/dros_edges.csv')"
   ]
  },
  {
   "cell_type": "code",
   "execution_count": 160,
   "metadata": {},
   "outputs": [],
   "source": [
    "def mww(G, C, alternative='two-sided'):\n",
    "    A = G[C == 1]\n",
    "    B = G[C == 2]\n",
    "    return(mannwhitneyu(A, B, alternative=alternative)[1])"
   ]
  },
  {
   "cell_type": "code",
   "execution_count": 161,
   "metadata": {},
   "outputs": [
    {
     "data": {
      "text/plain": [
       "0.0"
      ]
     },
     "execution_count": 161,
     "metadata": {},
     "output_type": "execute_result"
    }
   ],
   "source": [
    "mww(np.array(A), C_hemi, alternative='greater')"
   ]
  },
  {
   "cell_type": "code",
   "execution_count": 162,
   "metadata": {},
   "outputs": [
    {
     "data": {
      "text/plain": [
       "0.0"
      ]
     },
     "execution_count": 162,
     "metadata": {},
     "output_type": "execute_result"
    }
   ],
   "source": [
    "mww(np.array(A), C_pair, alternative='greater')"
   ]
  },
  {
   "cell_type": "code",
   "execution_count": 163,
   "metadata": {},
   "outputs": [],
   "source": [
    "vertex_dict = {key:{\"Name\": key, \"Hemisphere\": node_hemi[key], \"Region\": node_pair[key]} for key in node_hemi.keys()}"
   ]
  },
  {
   "cell_type": "code",
   "execution_count": 164,
   "metadata": {},
   "outputs": [],
   "source": [
    "vertex_data = {}\n",
    "for sub in vertex_dict.values():              # Python 3: use d.values()\n",
    "    for key, value in sub.items():  # Python 3: use d.items()\n",
    "        vertex_data.setdefault(key, []).append(value)"
   ]
  },
  {
   "cell_type": "code",
   "execution_count": 165,
   "metadata": {},
   "outputs": [
    {
     "data": {
      "text/html": [
       "<div>\n",
       "<style scoped>\n",
       "    .dataframe tbody tr th:only-of-type {\n",
       "        vertical-align: middle;\n",
       "    }\n",
       "\n",
       "    .dataframe tbody tr th {\n",
       "        vertical-align: top;\n",
       "    }\n",
       "\n",
       "    .dataframe thead th {\n",
       "        text-align: right;\n",
       "    }\n",
       "</style>\n",
       "<table border=\"1\" class=\"dataframe\">\n",
       "  <thead>\n",
       "    <tr style=\"text-align: right;\">\n",
       "      <th></th>\n",
       "      <th>Name</th>\n",
       "      <th>Hemisphere</th>\n",
       "      <th>Region</th>\n",
       "    </tr>\n",
       "  </thead>\n",
       "  <tbody>\n",
       "    <tr>\n",
       "      <th>0</th>\n",
       "      <td>4493199</td>\n",
       "      <td>left</td>\n",
       "      <td>13a PN</td>\n",
       "    </tr>\n",
       "    <tr>\n",
       "      <th>1</th>\n",
       "      <td>8244823</td>\n",
       "      <td>right</td>\n",
       "      <td>13a PN</td>\n",
       "    </tr>\n",
       "    <tr>\n",
       "      <th>2</th>\n",
       "      <td>7865696</td>\n",
       "      <td>left</td>\n",
       "      <td>1a PN</td>\n",
       "    </tr>\n",
       "    <tr>\n",
       "      <th>3</th>\n",
       "      <td>8252067</td>\n",
       "      <td>right</td>\n",
       "      <td>1a PN</td>\n",
       "    </tr>\n",
       "    <tr>\n",
       "      <th>4</th>\n",
       "      <td>7865652</td>\n",
       "      <td>left</td>\n",
       "      <td>22c PN</td>\n",
       "    </tr>\n",
       "  </tbody>\n",
       "</table>\n",
       "</div>"
      ],
      "text/plain": [
       "      Name Hemisphere  Region\n",
       "0  4493199       left  13a PN\n",
       "1  8244823      right  13a PN\n",
       "2  7865696       left   1a PN\n",
       "3  8252067      right   1a PN\n",
       "4  7865652       left  22c PN"
      ]
     },
     "execution_count": 165,
     "metadata": {},
     "output_type": "execute_result"
    }
   ],
   "source": [
    "vertex_df = pd.DataFrame(vertex_data)\n",
    "vertex_df.head()"
   ]
  },
  {
   "cell_type": "code",
   "execution_count": 166,
   "metadata": {},
   "outputs": [],
   "source": [
    "vertex_df.to_csv('./data/dros_vertices.csv')"
   ]
  },
  {
   "cell_type": "code",
   "execution_count": 190,
   "metadata": {},
   "outputs": [
    {
     "name": "stdout",
     "output_type": "stream",
     "text": [
      "(321, 321)\n",
      "(319, 319)\n"
     ]
    }
   ],
   "source": [
    "e = gp.models.SBMEstimator()\n",
    "vlabs = np.array(list(node_hemi.values()))\n",
    "left_right_vertices = np.array([vlab in [\"left\", \"right\"] for vlab in vlabs])\n",
    "print(A.shape)\n",
    "A = np.delete(A, np.where(left_right_vertices == False), axis=0)\n",
    "A = np.delete(A, np.where(left_right_vertices == False), axis=1)\n",
    "print(A.shape)"
   ]
  },
  {
   "cell_type": "code",
   "execution_count": 191,
   "metadata": {},
   "outputs": [
    {
     "data": {
      "text/plain": [
       "319"
      ]
     },
     "execution_count": 191,
     "metadata": {},
     "output_type": "execute_result"
    }
   ],
   "source": [
    "vlabs_int = [0 if vlab == \"left\" else 1 for vlab in vlabs[left_right_vertices]]\n",
    "len(vlabs_int)"
   ]
  },
  {
   "cell_type": "code",
   "execution_count": 196,
   "metadata": {},
   "outputs": [
    {
     "data": {
      "text/plain": [
       "(0.0, 'abba')"
      ]
     },
     "execution_count": 196,
     "metadata": {},
     "output_type": "execute_result"
    }
   ],
   "source": [
    "e.estimate_block_structure(A, np.array(vlabs_int), [\"abba\", \"abca\", \"abbd\", \"abcd\"], test_method=\"anova\")"
   ]
  },
  {
   "cell_type": "code",
   "execution_count": null,
   "metadata": {},
   "outputs": [],
   "source": []
  },
  {
   "cell_type": "code",
   "execution_count": null,
   "metadata": {},
   "outputs": [],
   "source": []
  },
  {
   "cell_type": "code",
   "execution_count": null,
   "metadata": {},
   "outputs": [],
   "source": []
  },
  {
   "cell_type": "code",
   "execution_count": null,
   "metadata": {},
   "outputs": [],
   "source": []
  }
 ],
 "metadata": {
  "kernelspec": {
   "display_name": "graspy",
   "language": "python",
   "name": "graspy"
  },
  "language_info": {
   "codemirror_mode": {
    "name": "ipython",
    "version": 3
   },
   "file_extension": ".py",
   "mimetype": "text/x-python",
   "name": "python",
   "nbconvert_exporter": "python",
   "pygments_lexer": "ipython3",
   "version": "3.7.8"
  }
 },
 "nbformat": 4,
 "nbformat_minor": 4
}
