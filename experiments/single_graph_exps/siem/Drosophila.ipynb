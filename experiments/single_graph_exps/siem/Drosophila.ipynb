{
 "cells": [
  {
   "cell_type": "code",
   "execution_count": 2,
   "metadata": {},
   "outputs": [],
   "source": [
    "import graspy as gp\n",
    "import glob\n",
    "import os, sys\n",
    "import numpy as np\n",
    "import pandas as pd\n",
    "import multiprocessing as multiproc\n",
    "import dask\n",
    "from dask.distributed import Client, progress\n",
    "import dask.dataframe as ddf\n",
    "from scipy.stats import mannwhitneyu\n",
    "from matplotlib.pyplot import savefig\n",
    "import networkx as nx"
   ]
  },
  {
   "cell_type": "code",
   "execution_count": 90,
   "metadata": {},
   "outputs": [],
   "source": [
    "gr = nx.read_graphml('./data/G.graphml')\n",
    "A = nx.to_numpy_matrix(gr)\n",
    "node_hemi = nx.get_node_attributes(gr, 'Hemisphere')\n",
    "node_pair = nx.get_node_attributes(gr, 'Pair')\n",
    "n=A.shape[0]"
   ]
  },
  {
   "cell_type": "code",
   "execution_count": 91,
   "metadata": {},
   "outputs": [],
   "source": [
    "def make_edgecomm_from_dict(dict_nodes):\n",
    "    C = np.zeros((len(dict_nodes), len(dict_nodes)))\n",
    "    for i, (keyi, vali) in enumerate(dict_nodes.items()):\n",
    "        for j, (keyj, valj) in enumerate(dict_nodes.items()):\n",
    "            if i != j:\n",
    "                if vali == valj:\n",
    "                    C[i,j] = 1\n",
    "                else:\n",
    "                    C[i,j] = 2\n",
    "    return C"
   ]
  },
  {
   "cell_type": "code",
   "execution_count": 112,
   "metadata": {},
   "outputs": [],
   "source": [
    "Rowmtx = np.zeros((n,n))\n",
    "Colmtx = np.zeros((n,n))\n",
    "vtx_order = node_hemi\n",
    "for i in range(1, n+1):\n",
    "    Rowmtx[i-1,:] = i\n",
    "    Colmtx[:,i-1] = i\n",
    "    \n",
    "C_hemi = make_edgecomm_from_dict(node_hemi)\n",
    "C_pair = make_edgecomm_from_dict(node_pair)\n",
    "    \n",
    "A_df = pd.DataFrame({\"Value\": np.array(A).flatten(), \n",
    "                     \"Row\": Rowmtx.astype(int).flatten(),\n",
    "                     \"Column\": Colmtx.astype(int).flatten(),\n",
    "                     \"Homophilic\": C_hemi.astype(int).flatten(),\n",
    "                     \"Homotopic\": C_pair.astype(int).flatten()})\n",
    "\n",
    "A_df.to_csv('./data/dros_edges.csv')"
   ]
  },
  {
   "cell_type": "code",
   "execution_count": 105,
   "metadata": {},
   "outputs": [],
   "source": [
    "def mww(G, C, alternative='two-sided'):\n",
    "    A = G[C == 1]\n",
    "    B = G[C == 2]\n",
    "    return(mannwhitneyu(A, B, alternative=alternative)[1])"
   ]
  },
  {
   "cell_type": "code",
   "execution_count": 110,
   "metadata": {},
   "outputs": [
    {
     "data": {
      "text/plain": [
       "0.0"
      ]
     },
     "execution_count": 110,
     "metadata": {},
     "output_type": "execute_result"
    }
   ],
   "source": [
    "mww(np.array(A), C_hemi, alternative='greater')"
   ]
  },
  {
   "cell_type": "code",
   "execution_count": 111,
   "metadata": {},
   "outputs": [
    {
     "data": {
      "text/plain": [
       "0.0"
      ]
     },
     "execution_count": 111,
     "metadata": {},
     "output_type": "execute_result"
    }
   ],
   "source": [
    "mww(np.array(A), C_pair, alternative='greater')"
   ]
  },
  {
   "cell_type": "code",
   "execution_count": null,
   "metadata": {},
   "outputs": [],
   "source": []
  },
  {
   "cell_type": "code",
   "execution_count": null,
   "metadata": {},
   "outputs": [],
   "source": []
  },
  {
   "cell_type": "code",
   "execution_count": null,
   "metadata": {},
   "outputs": [],
   "source": []
  }
 ],
 "metadata": {
  "kernelspec": {
   "display_name": "graspy",
   "language": "python",
   "name": "graspy"
  },
  "language_info": {
   "codemirror_mode": {
    "name": "ipython",
    "version": 3
   },
   "file_extension": ".py",
   "mimetype": "text/x-python",
   "name": "python",
   "nbconvert_exporter": "python",
   "pygments_lexer": "ipython3",
   "version": "3.7.8"
  }
 },
 "nbformat": 4,
 "nbformat_minor": 4
}
