{
 "cells": [
  {
   "cell_type": "markdown",
   "metadata": {},
   "source": [
    "# Simulation 1\n",
    "\n",
    "Vivek Gopalakrishnan | June 26, 2019\n",
    "\n",
    "\n",
    "## Purpose\n",
    "\n",
    "To determine if an edge is significantly different across 2 populations, should \n",
    "you use a T-test or a Wilcoxon signed-rank test?\n",
    "\n",
    "\n",
    "## Setup\n",
    "\n",
    "- In this experiment, we use the indpendent edge (IE) model. \n",
    "- According to this model, the weight of each edge is given by an independent\n",
    "Bernoulli randomn variable, i.e. $\\Pr{(A_{ij} = 1)} = p_{ij}$. \n",
    "- The matrix of all $p_{ij}$'s is called the P matrix.\n",
    "- We generate two samples from different IE models. Each model has a\n",
    "symmetric P matrix with the same shape (therefore, each simulated graph\n",
    "has the same number of nodes).\n",
    "\n",
    "\n",
    "## Simulation\n",
    "\n",
    "### Procedure\n",
    "\n",
    "1. Let \n",
    "$\\mathbf{b}$ be a vector of length $n$ linearly \n",
    "increasing over the range $[\\epsilon, 1-\\epsilon]$.\n",
    "\n",
    "2. Let \n",
    "$\\mathbf{P_1}$ be a grid determined by $\\mathbf{b}$, i.e. \n",
    "$\\mathbf{P_1}(1,1) = \\mathbf{b}_1, \\mathbf{P_1}(1,2) = \\mathbf{b}_2, ...$ .\n",
    "\n",
    "3. Let \n",
    "$\n",
    "\\mathbf{P_2}(u,v) = \\begin{cases} \n",
    "    \\mathbf{P_1}(u,v) + \\delta \\hspace{6mm} \\text{if} \\hspace{2mm} \\mathbf{P_1}(u,v) < 0.5 \\\\\n",
    "    \\mathbf{P_1}(u,v) - \\delta \\hspace{6mm} \\text{if} \\hspace{2mm} \\mathbf{P_1}(u,v) \\geq 0.5\n",
    "\\end{cases}\n",
    "$\n",
    "\n",
    "4. Sample\n",
    "$X_i \\stackrel{iid}{\\sim} \\text{IE}(\\mathbf{P_1})$ and \n",
    "$Y_i \\stackrel{iid}{\\sim} \\text{IE}(\\mathbf{P_2})$\n",
    "for $i=1,...,m$.\n",
    "\n",
    "Notice that $\\mathbf{P_1} \\in \\mathbb{R}^{n \\times n}$ \n",
    "and $\\mathbf{P_2} \\in \\mathbb{R}^{n \\times n}$.\n",
    "\n",
    "\n",
    "### Parameters\n",
    "- Sample size: $m = 10$\n",
    "- Number of vertices: $n = 100$\n",
    "- $\\epsilon = 0.01$\n",
    "\n",
    "\n",
    "## Testing\n",
    "\n",
    "For each edge $ij$, \n",
    "1. Use the T-test to test the null hypothesis $\\text{mean}(X_{ij}) = \\text{mean}(Y_{ij})$\n",
    "2. Use the Wilcoxon signed-rank test to test the null hypothesis $\\text{median}(X_{ij}) = \\text{median}(Y_{ij})$\n",
    "\n",
    "Plot the following:\n",
    "1. Power versus $\\mathbf{P}_{ij}$ when $\\delta = 0$\n",
    "2. Power versus $\\mathbf{P}_{ij}$ when $\\delta = 0.05$"
   ]
  },
  {
   "cell_type": "code",
   "execution_count": null,
   "metadata": {},
   "outputs": [],
   "source": []
  },
  {
   "cell_type": "code",
   "execution_count": null,
   "metadata": {},
   "outputs": [],
   "source": []
  }
 ],
 "metadata": {
  "kernelspec": {
   "display_name": "Python [conda env:graphstats]",
   "language": "python",
   "name": "conda-env-graphstats-py"
  },
  "language_info": {
   "codemirror_mode": {
    "name": "ipython",
    "version": 3
   },
   "file_extension": ".py",
   "mimetype": "text/x-python",
   "name": "python",
   "nbconvert_exporter": "python",
   "pygments_lexer": "ipython3",
   "version": "3.6.4"
  },
  "toc": {
   "base_numbering": 1,
   "nav_menu": {},
   "number_sections": false,
   "sideBar": false,
   "skip_h1_title": false,
   "title_cell": "Table of Contents",
   "title_sidebar": "Contents",
   "toc_cell": false,
   "toc_position": {},
   "toc_section_display": false,
   "toc_window_display": false
  },
  "varInspector": {
   "cols": {
    "lenName": 16,
    "lenType": 16,
    "lenVar": 40
   },
   "kernels_config": {
    "python": {
     "delete_cmd_postfix": "",
     "delete_cmd_prefix": "del ",
     "library": "var_list.py",
     "varRefreshCmd": "print(var_dic_list())"
    },
    "r": {
     "delete_cmd_postfix": ") ",
     "delete_cmd_prefix": "rm(",
     "library": "var_list.r",
     "varRefreshCmd": "cat(var_dic_list()) "
    }
   },
   "types_to_exclude": [
    "module",
    "function",
    "builtin_function_or_method",
    "instance",
    "_Feature"
   ],
   "window_display": false
  }
 },
 "nbformat": 4,
 "nbformat_minor": 2
}
