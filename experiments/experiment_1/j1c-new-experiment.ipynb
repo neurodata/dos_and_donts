{
 "cells": [
  {
   "cell_type": "code",
   "execution_count": 1,
   "metadata": {},
   "outputs": [],
   "source": [
    "from itertools import product\n",
    "\n",
    "import numpy as np\n",
    "from graspy.simulations import er_np, sbm\n",
    "from graspy.plot import heatmap\n",
    "from scipy.stats import ttest_ind\n",
    "import pandas as pd\n",
    "\n",
    "from joblib import Parallel, delayed\n",
    "import warnings\n",
    "warnings.filterwarnings(\"ignore\")\n",
    "%matplotlib inline"
   ]
  },
  {
   "cell_type": "code",
   "execution_count": 2,
   "metadata": {},
   "outputs": [],
   "source": [
    "def generate_data(m = 1, n = [5, 15], p = 0.5, delta = 0, seed = None):\n",
    "    np.random.seed(seed)\n",
    "    p1 = [[p, p],\n",
    "          [p, p]]\n",
    "    p2 = [[p + delta, p],\n",
    "          [p, p]]\n",
    "    \n",
    "    pop1 = []\n",
    "    pop2 = []\n",
    "    for _ in np.arange(m):\n",
    "        pop1.append(sbm(n, p1))\n",
    "        pop2.append(sbm(n, p2))\n",
    "    \n",
    "    pop1 = np.stack(pop1)\n",
    "    pop2 = np.stack(pop2)\n",
    "    return pop1, pop2\n",
    "\n",
    "def compute_pvalue(pop1, pop2):\n",
    "    _, pvals = ttest_ind(pop1, pop2, axis=0)\n",
    "    np.nan_to_num(pvals, copy=False)\n",
    "    \n",
    "    return pvals\n",
    "\n",
    "def compute_trustworthiness(different_n, pvals):\n",
    "    idx = np.triu_indices(different_n, k=1)\n",
    "    res = pvals[idx]\n",
    "    \n",
    "    fraction_correct = (res <=0.05).mean()\n",
    "    all_correct = np.all(res <= 0.05)\n",
    "    \n",
    "    return fraction_correct, all_correct"
   ]
  },
  {
   "cell_type": "code",
   "execution_count": 3,
   "metadata": {},
   "outputs": [],
   "source": [
    "def run_experiment(m, delta, seed, reps):\n",
    "    fraction_corrects = []\n",
    "    all_corrects = []\n",
    "    \n",
    "    for i in range(reps):\n",
    "        pop1, pop2 = generate_data(m = m, n = n, p = p, delta=delta, seed = seed+i)\n",
    "        pvals = compute_pvalue(pop1, pop2)\n",
    "        fraction_correct, all_correct = compute_trustworthiness(block_1, pvals)\n",
    "        \n",
    "        fraction_corrects.append(fraction_correct)\n",
    "        all_corrects.append(all_correct)\n",
    "    \n",
    "    # to_append = pd.Series([p, delta, m, fraction_correct, all_correct], index=cols)\n",
    "    to_append = [p, delta, m, np.mean(fraction_corrects), np.mean(all_corrects)]\n",
    "\n",
    "    return to_append"
   ]
  },
  {
   "cell_type": "code",
   "execution_count": 4,
   "metadata": {},
   "outputs": [],
   "source": [
    "# for delta, m in product(deltas, ms):\n",
    "#     pop1, pop2 = generate_data(m = m, n = n, p = p, delta=delta)\n",
    "#     pvals = compute_pvalue(pop1, pop2)\n",
    "#     fraction_correct, all_correct = compute_trustworthiness(block_1, pvals)\n",
    "    \n",
    "#     to_append = pd.Series([p, delta, m, fraction_correct, all_correct], index=cols)\n",
    "#     res_df.append(to_append, ignore_index=True)"
   ]
  },
  {
   "cell_type": "code",
   "execution_count": 5,
   "metadata": {},
   "outputs": [],
   "source": [
    "block_1 = 5 # different probability\n",
    "block_2 = 15\n",
    "n = [block_1, block_2]\n",
    "p = 0.5\n",
    "deltas = np.linspace(0, 1 - p, 100)\n",
    "ms = np.linspace(10, 1000, 100)\n",
    "\n",
    "reps=500\n",
    "\n",
    "cols =  ['p', 'delta', 'm', 'fraction_correct', 'all_correct']\n",
    "#res_df = pd.DataFrame(columns = cols) "
   ]
  },
  {
   "cell_type": "code",
   "execution_count": null,
   "metadata": {
    "scrolled": false
   },
   "outputs": [
    {
     "name": "stderr",
     "output_type": "stream",
     "text": [
      "[Parallel(n_jobs=-2)]: Using backend LokyBackend with 47 concurrent workers.\n"
     ]
    }
   ],
   "source": [
    "args = [(m, delta, seed*reps, reps) for seed, (m, delta) in enumerate(product(ms, deltas))]\n",
    "\n",
    "res = Parallel(n_jobs=-2, verbose=1)(\n",
    "    delayed(run_experiment)(\n",
    "        *arg\n",
    "    ) for arg in args\n",
    ")"
   ]
  },
  {
   "cell_type": "code",
   "execution_count": 19,
   "metadata": {},
   "outputs": [
    {
     "data": {
      "text/plain": [
       "<matplotlib.axes._subplots.AxesSubplot at 0x7f860619b9e8>"
      ]
     },
     "execution_count": 19,
     "metadata": {},
     "output_type": "execute_result"
    },
    {
     "data": {
      "image/png": "[encoded data removed]",
      "text/plain": [
       "<Figure size 720x720 with 2 Axes>"
      ]
     },
     "metadata": {
      "needs_background": "light"
     },
     "output_type": "display_data"
    }
   ],
   "source": [
    "heatmap(arr)"
   ]
  },
  {
   "cell_type": "code",
   "execution_count": null,
   "metadata": {},
   "outputs": [],
   "source": []
  }
 ],
 "metadata": {
  "kernelspec": {
   "display_name": "Python 3",
   "language": "python",
   "name": "python3"
  },
  "language_info": {
   "codemirror_mode": {
    "name": "ipython",
    "version": 3
   },
   "file_extension": ".py",
   "mimetype": "text/x-python",
   "name": "python",
   "nbconvert_exporter": "python",
   "pygments_lexer": "ipython3",
   "version": "3.7.2"
  }
 },
 "nbformat": 4,
 "nbformat_minor": 2
}
