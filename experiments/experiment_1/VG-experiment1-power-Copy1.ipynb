{
 "cells": [
  {
   "cell_type": "markdown",
   "metadata": {},
   "source": [
    "# Simulation 1\n",
    "\n",
    "Vivek Gopalakrishnan | June 26, 2019\n",
    "\n",
    "\n",
    "## Purpose\n",
    "\n",
    "To determine if an edge is significantly different across 2 populations, should \n",
    "you use a T-test, the Mann Whitney U Test, or Fisher's Exact Test?\n",
    "\n",
    "\n",
    "## Setup\n",
    "\n",
    "- In this experiment, we use the indpendent edge (IE) model. \n",
    "- According to this model, the weight of each edge is given by an independent\n",
    "Bernoulli randomn variable, i.e. $\\Pr{(A_{ij} = 1)} = p_{ij}$. \n",
    "- The matrix of all $p_{ij}$'s is called the P matrix.\n",
    "- We generate two samples from different IE models. Each model has a\n",
    "symmetric P matrix with the same shape (therefore, each simulated graph\n",
    "has the same number of nodes).\n",
    "\n",
    "\n",
    "## Simulation\n",
    "\n",
    "### Procedure\n",
    "\n",
    "1. Let \n",
    "$\\mathbf{b}$ be a vector of length $n$ linearly \n",
    "increasing over the range $[\\epsilon, 1-\\epsilon]$.\n",
    "\n",
    "2. Let \n",
    "$\\mathbf{P_1}$ be a grid determined by $\\mathbf{b}$, i.e. \n",
    "$\\mathbf{P_1}(1,1) = \\mathbf{b}_1, \\mathbf{P_1}(1,2) = \\mathbf{b}_2, ...$ .\n",
    "\n",
    "3. Let \n",
    "$\n",
    "\\mathbf{P_2}(u,v) = \\begin{cases} \n",
    "    \\mathbf{P_1}(u,v) + \\delta \\hspace{6mm} \\text{if} \\hspace{2mm} \\mathbf{P_1}(u,v) < 0.5 \\\\\n",
    "    \\mathbf{P_1}(u,v) - \\delta \\hspace{6mm} \\text{if} \\hspace{2mm} \\mathbf{P_1}(u,v) \\geq 0.5\n",
    "\\end{cases}\n",
    "$\n",
    "\n",
    "4. Sample\n",
    "$X_i \\stackrel{iid}{\\sim} \\text{IE}(\\mathbf{P_1})$ and \n",
    "$Y_i \\stackrel{iid}{\\sim} \\text{IE}(\\mathbf{P_2})$\n",
    "for $i=1,...,m$.\n",
    "\n",
    "Notice that $\\mathbf{P_1} \\in \\mathbb{R}^{n \\times n}$ \n",
    "and $\\mathbf{P_2} \\in \\mathbb{R}^{n \\times n}$.\n",
    "\n",
    "\n",
    "## Testing\n",
    "\n",
    "For each edge $ij$, \n",
    "1. Use the T-test to test the null hypothesis $\\text{mean}(X_{ij}) = \\text{mean}(Y_{ij})$\n",
    "2. Use Kruskal-Wallis to test the null hypothesis $\\text{median}(X_{ij}) = \\text{median}(Y_{ij})$\n",
    "3. Use Fisher's Exact Test to get the exact probability of observing any combination of edges\n",
    "\n",
    "Plot the power versus $\\mathbf{P}_{ij}$.\n",
    "\n",
    "### Notes about Kruskal-Wallis\n",
    "- Kruskal-Wallis is the multisample generalization of the 2-sample Mann-Whitney\n",
    "U test.\n",
    "- Kruskal-Wallis doesn't assume that the samples are paired like Wilcoxon does."
   ]
  },
  {
   "cell_type": "code",
   "execution_count": 1,
   "metadata": {},
   "outputs": [],
   "source": [
    "import matplotlib.pyplot as plt\n",
    "import numpy as np\n",
    "import pandas as pd\n",
    "import seaborn as sns\n",
    "from graspy.utils import is_symmetric\n",
    "from scipy.stats import ttest_ind, mannwhitneyu, fisher_exact\n",
    "\n",
    "from src.simulations import IndependentEdge\n",
    "\n",
    "%matplotlib inline"
   ]
  },
  {
   "cell_type": "markdown",
   "metadata": {},
   "source": [
    "## Simulation 1\n",
    "\n",
    "Estimate the power of the tests. Do this by making the null hypothesis false.\n",
    "\n",
    "### Parameters\n",
    "- Sample size: $m = 1000$\n",
    "- Number of vertices: $n = 10$\n",
    "- $\\epsilon = 0.001$\n",
    "- $\\delta = 0.05$"
   ]
  },
  {
   "cell_type": "code",
   "execution_count": 2,
   "metadata": {},
   "outputs": [],
   "source": [
    "# Initialize generative class\n",
    "ie = IndependentEdge(sample_size=1000, n_vertices=10, epsilon=0.001, delta=0.05)"
   ]
  },
  {
   "cell_type": "code",
   "execution_count": 3,
   "metadata": {},
   "outputs": [
    {
     "name": "stderr",
     "output_type": "stream",
     "text": [
      "100%|██████████| 250/250 [08:20<00:00,  1.99s/it]\n"
     ]
    }
   ],
   "source": [
    "# Execute the simulation\n",
    "pvals = ie.calculate_pvals(scipy_methods=[ttest_ind, mannwhitneyu, fisher_exact],\n",
    "                           n_iter=250)\n",
    "\n",
    "power = ie.calculate_proportion_positive(pvals)"
   ]
  },
  {
   "cell_type": "code",
   "execution_count": 4,
   "metadata": {},
   "outputs": [
    {
     "data": {
      "text/html": [
       "<div>\n",
       "<style scoped>\n",
       "    .dataframe tbody tr th:only-of-type {\n",
       "        vertical-align: middle;\n",
       "    }\n",
       "\n",
       "    .dataframe tbody tr th {\n",
       "        vertical-align: top;\n",
       "    }\n",
       "\n",
       "    .dataframe thead th {\n",
       "        text-align: right;\n",
       "    }\n",
       "</style>\n",
       "<table border=\"1\" class=\"dataframe\">\n",
       "  <thead>\n",
       "    <tr style=\"text-align: right;\">\n",
       "      <th></th>\n",
       "      <th>$p_{ij}$</th>\n",
       "      <th>test</th>\n",
       "      <th>Power</th>\n",
       "    </tr>\n",
       "  </thead>\n",
       "  <tbody>\n",
       "    <tr>\n",
       "      <th>0</th>\n",
       "      <td>0.001000</td>\n",
       "      <td>t-test</td>\n",
       "      <td>1.000</td>\n",
       "    </tr>\n",
       "    <tr>\n",
       "      <th>1</th>\n",
       "      <td>0.011081</td>\n",
       "      <td>t-test</td>\n",
       "      <td>1.000</td>\n",
       "    </tr>\n",
       "    <tr>\n",
       "      <th>2</th>\n",
       "      <td>0.021162</td>\n",
       "      <td>t-test</td>\n",
       "      <td>1.000</td>\n",
       "    </tr>\n",
       "    <tr>\n",
       "      <th>3</th>\n",
       "      <td>0.031242</td>\n",
       "      <td>t-test</td>\n",
       "      <td>1.000</td>\n",
       "    </tr>\n",
       "    <tr>\n",
       "      <th>4</th>\n",
       "      <td>0.041323</td>\n",
       "      <td>t-test</td>\n",
       "      <td>0.992</td>\n",
       "    </tr>\n",
       "  </tbody>\n",
       "</table>\n",
       "</div>"
      ],
      "text/plain": [
       "   $p_{ij}$    test  Power\n",
       "0  0.001000  t-test  1.000\n",
       "1  0.011081  t-test  1.000\n",
       "2  0.021162  t-test  1.000\n",
       "3  0.031242  t-test  1.000\n",
       "4  0.041323  t-test  0.992"
      ]
     },
     "execution_count": 4,
     "metadata": {},
     "output_type": "execute_result"
    }
   ],
   "source": [
    "# Store the data in a Seaborn-compatible format\n",
    "df = pd.DataFrame({\n",
    "    r\"$p_{ij}$\": ie.p1.flatten(),\n",
    "    \"t-test\": power[0].flatten(),\n",
    "    \"mann-whitney\": power[1].flatten(),\n",
    "    \"fisher\": power[2].flatten(),\n",
    "}).melt(\n",
    "    id_vars=[r\"$p_{ij}$\"], \n",
    "    value_vars=[\"t-test\", \"mann-whitney\", \"fisher\"],\n",
    "    var_name=\"test\", \n",
    "    value_name=\"Power\",\n",
    ")\n",
    "\n",
    "df.head()"
   ]
  },
  {
   "cell_type": "code",
   "execution_count": 5,
   "metadata": {},
   "outputs": [
    {
     "data": {
      "image/png": "[encoded data removed]",
      "text/plain": [
       "<Figure size 468.475x360 with 1 Axes>"
      ]
     },
     "metadata": {},
     "output_type": "display_data"
    }
   ],
   "source": [
    "# Plot the power as a function of the connection strength\n",
    "sns.set()\n",
    "ax = sns.relplot(\n",
    "    x=r\"$p_{ij}$\",\n",
    "    y=\"Power\",\n",
    "    hue=\"test\",\n",
    "    data=df,\n",
    "    legend=\"full\",\n",
    "    kind=\"line\",\n",
    ")\n",
    "plt.show()"
   ]
  },
  {
   "cell_type": "code",
   "execution_count": null,
   "metadata": {},
   "outputs": [],
   "source": []
  }
 ],
 "metadata": {
  "kernelspec": {
   "display_name": "Python [conda env:dnd] *",
   "language": "python",
   "name": "conda-env-dnd-py"
  },
  "language_info": {
   "codemirror_mode": {
    "name": "ipython",
    "version": 3
   },
   "file_extension": ".py",
   "mimetype": "text/x-python",
   "name": "python",
   "nbconvert_exporter": "python",
   "pygments_lexer": "ipython3",
   "version": "3.7.3"
  },
  "toc": {
   "base_numbering": 1,
   "nav_menu": {},
   "number_sections": false,
   "sideBar": false,
   "skip_h1_title": false,
   "title_cell": "Table of Contents",
   "title_sidebar": "Contents",
   "toc_cell": false,
   "toc_position": {},
   "toc_section_display": false,
   "toc_window_display": false
  },
  "varInspector": {
   "cols": {
    "lenName": 16,
    "lenType": 16,
    "lenVar": 40
   },
   "kernels_config": {
    "python": {
     "delete_cmd_postfix": "",
     "delete_cmd_prefix": "del ",
     "library": "var_list.py",
     "varRefreshCmd": "print(var_dic_list())"
    },
    "r": {
     "delete_cmd_postfix": ") ",
     "delete_cmd_prefix": "rm(",
     "library": "var_list.r",
     "varRefreshCmd": "cat(var_dic_list()) "
    }
   },
   "types_to_exclude": [
    "module",
    "function",
    "builtin_function_or_method",
    "instance",
    "_Feature"
   ],
   "window_display": false
  }
 },
 "nbformat": 4,
 "nbformat_minor": 2
}
