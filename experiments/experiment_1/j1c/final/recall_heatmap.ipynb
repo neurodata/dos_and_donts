{
 "cells": [
  {
   "cell_type": "code",
   "execution_count": 1,
   "metadata": {},
   "outputs": [
    {
     "name": "stderr",
     "output_type": "stream",
     "text": [
      "/Users/j1c/miniconda3/envs/graspy/lib/python3.7/site-packages/sklearn/utils/deprecation.py:144: FutureWarning: The sklearn.mixture.gaussian_mixture module is  deprecated in version 0.22 and will be removed in version 0.24. The corresponding classes / functions should instead be imported from sklearn.mixture. Anything that cannot be imported from sklearn.mixture is now part of the private API.\n",
      "  warnings.warn(message, FutureWarning)\n"
     ]
    },
    {
     "data": {
      "application/javascript": [
       "\n",
       "            setTimeout(function() {\n",
       "                var nbb_cell_id = 1;\n",
       "                var nbb_unformatted_code = \"%load_ext nb_black\\n\\nfrom itertools import product\\nfrom functools import partial\\n\\nimport matplotlib.pyplot as plt\\nimport numpy as np\\nimport pandas as pd\\nimport seaborn as sns\\n\\nfrom joblib import Parallel, delayed\\nfrom graspy.plot import heatmap\\nfrom scipy.stats import ttest_ind\\n\\nfrom src import generate_binary_sbms, compute_pr_at_k\\n\\n%matplotlib inline\";\n",
       "                var nbb_formatted_code = \"%load_ext nb_black\\n\\nfrom itertools import product\\nfrom functools import partial\\n\\nimport matplotlib.pyplot as plt\\nimport numpy as np\\nimport pandas as pd\\nimport seaborn as sns\\n\\nfrom joblib import Parallel, delayed\\nfrom graspy.plot import heatmap\\nfrom scipy.stats import ttest_ind\\n\\nfrom src import generate_binary_sbms, compute_pr_at_k\\n\\n%matplotlib inline\";\n",
       "                var nbb_cells = Jupyter.notebook.get_cells();\n",
       "                for (var i = 0; i < nbb_cells.length; ++i) {\n",
       "                    if (nbb_cells[i].input_prompt_number == nbb_cell_id) {\n",
       "                        if (nbb_cells[i].get_text() == nbb_unformatted_code) {\n",
       "                             nbb_cells[i].set_text(nbb_formatted_code);\n",
       "                        }\n",
       "                        break;\n",
       "                    }\n",
       "                }\n",
       "            }, 500);\n",
       "            "
      ],
      "text/plain": [
       "<IPython.core.display.Javascript object>"
      ]
     },
     "metadata": {},
     "output_type": "display_data"
    }
   ],
   "source": [
    "%load_ext nb_black\n",
    "\n",
    "from itertools import product\n",
    "from functools import partial\n",
    "\n",
    "import matplotlib.pyplot as plt\n",
    "import numpy as np\n",
    "import pandas as pd\n",
    "import seaborn as sns\n",
    "\n",
    "from joblib import Parallel, delayed\n",
    "from graspy.plot import heatmap\n",
    "from scipy.stats import ttest_ind\n",
    "\n",
    "from src import generate_binary_sbms, compute_pr_at_k\n",
    "\n",
    "%matplotlib inline"
   ]
  },
  {
   "cell_type": "code",
   "execution_count": 3,
   "metadata": {},
   "outputs": [
    {
     "data": {
      "application/javascript": [
       "\n",
       "            setTimeout(function() {\n",
       "                var nbb_cell_id = 3;\n",
       "                var nbb_unformatted_code = \"def compute_ttest(pop1, pop2):\\n    statistics, pvals = ttest_ind(pop1, pop2, axis=0)\\n    # np.nan_to_num(statistics, copy=False)\\n\\n    return statistics, pvals\";\n",
       "                var nbb_formatted_code = \"def compute_ttest(pop1, pop2):\\n    statistics, pvals = ttest_ind(pop1, pop2, axis=0)\\n    # np.nan_to_num(statistics, copy=False)\\n\\n    return statistics, pvals\";\n",
       "                var nbb_cells = Jupyter.notebook.get_cells();\n",
       "                for (var i = 0; i < nbb_cells.length; ++i) {\n",
       "                    if (nbb_cells[i].input_prompt_number == nbb_cell_id) {\n",
       "                        if (nbb_cells[i].get_text() == nbb_unformatted_code) {\n",
       "                             nbb_cells[i].set_text(nbb_formatted_code);\n",
       "                        }\n",
       "                        break;\n",
       "                    }\n",
       "                }\n",
       "            }, 500);\n",
       "            "
      ],
      "text/plain": [
       "<IPython.core.display.Javascript object>"
      ]
     },
     "metadata": {},
     "output_type": "display_data"
    }
   ],
   "source": [
    "def compute_ttest(pop1, pop2):\n",
    "    statistics, pvals = ttest_ind(pop1, pop2, axis=0)\n",
    "    # np.nan_to_num(statistics, copy=False)\n",
    "\n",
    "    return statistics, pvals\n",
    "\n",
    "def run_experiment(m, block_1, block_2, p, delta, k, reps):\n",
    "    precisions = []\n",
    "    recalls = []\n",
    "    for i in np.arange(reps):\n",
    "        tmp_precisions = []\n",
    "        tmp_recalls = []\n",
    "        X, Y, true_labels = generate_binary_sbms(\n",
    "            m=m, block_1=block_1, block_2=block_2, p=p, delta=delta\n",
    "        )\n",
    "        test_statistics, pvals = compute_ttest(X, Y)\n",
    "\n",
    "        precision, recall = compute_pr_at_k(pvals, k, true_labels)\n",
    "        precisions.append(precision)\n",
    "        recalls.append(recall)\n",
    "\n",
    "    precisions = np.array(precisions).mean(axis=0)\n",
    "    recalls = np.array(recalls).mean(axis=0)\n",
    "\n",
    "    to_append = [p, delta, m, *precisions, *recalls]\n",
    "\n",
    "    return to_append"
   ]
  },
  {
   "cell_type": "code",
   "execution_count": 2,
   "metadata": {},
   "outputs": [
    {
     "data": {
      "application/javascript": [
       "\n",
       "            setTimeout(function() {\n",
       "                var nbb_cell_id = 2;\n",
       "                var nbb_unformatted_code = \"# Experiment Parameters\\n# Constants\\nblock_1 = 5\\nblock_2 = 15\\np = 0.5\\nreps = 100\\nks = range(5, 11)\\n\\n# Varying\\nspacing = 100\\ndeltas = np.linspace(0, 1 - p, spacing + 1)\\nms = np.linspace(10, 500, spacing + 1)[1:]  # Dont want 0 samples\";\n",
       "                var nbb_formatted_code = \"# Experiment Parameters\\n# Constants\\nblock_1 = 5\\nblock_2 = 15\\np = 0.5\\nreps = 100\\nks = range(5, 11)\\n\\n# Varying\\nspacing = 100\\ndeltas = np.linspace(0, 1 - p, spacing + 1)\\nms = np.linspace(10, 500, spacing + 1)[1:]  # Dont want 0 samples\";\n",
       "                var nbb_cells = Jupyter.notebook.get_cells();\n",
       "                for (var i = 0; i < nbb_cells.length; ++i) {\n",
       "                    if (nbb_cells[i].input_prompt_number == nbb_cell_id) {\n",
       "                        if (nbb_cells[i].get_text() == nbb_unformatted_code) {\n",
       "                             nbb_cells[i].set_text(nbb_formatted_code);\n",
       "                        }\n",
       "                        break;\n",
       "                    }\n",
       "                }\n",
       "            }, 500);\n",
       "            "
      ],
      "text/plain": [
       "<IPython.core.display.Javascript object>"
      ]
     },
     "metadata": {},
     "output_type": "display_data"
    }
   ],
   "source": [
    "# Experiment Parameters\n",
    "# Constants\n",
    "block_1 = 5\n",
    "block_2 = 15\n",
    "p = 0.5\n",
    "reps = 100\n",
    "ks = range(5, 11)\n",
    "\n",
    "# Varying\n",
    "spacing = 100\n",
    "deltas = np.linspace(0, 1 - p, spacing + 1)\n",
    "ms = np.linspace(10, 500, spacing + 1)[1:]  # Dont want 0 samples"
   ]
  },
  {
   "cell_type": "code",
   "execution_count": 6,
   "metadata": {
    "scrolled": false
   },
   "outputs": [
    {
     "name": "stderr",
     "output_type": "stream",
     "text": [
      "[Parallel(n_jobs=-2)]: Using backend LokyBackend with 95 concurrent workers.\n",
      "[Parallel(n_jobs=-2)]: Done  10 tasks      | elapsed:    4.3s\n",
      "[Parallel(n_jobs=-2)]: Done 260 tasks      | elapsed:   10.6s\n",
      "[Parallel(n_jobs=-2)]: Done 610 tasks      | elapsed:   30.1s\n",
      "[Parallel(n_jobs=-2)]: Done 1060 tasks      | elapsed:  1.0min\n",
      "[Parallel(n_jobs=-2)]: Done 1610 tasks      | elapsed:  2.0min\n",
      "[Parallel(n_jobs=-2)]: Done 2260 tasks      | elapsed:  3.6min\n",
      "[Parallel(n_jobs=-2)]: Done 3010 tasks      | elapsed:  6.0min\n",
      "[Parallel(n_jobs=-2)]: Done 3860 tasks      | elapsed:  9.4min\n",
      "[Parallel(n_jobs=-2)]: Done 4810 tasks      | elapsed: 14.1min\n",
      "[Parallel(n_jobs=-2)]: Done 5860 tasks      | elapsed: 20.5min\n",
      "[Parallel(n_jobs=-2)]: Done 7010 tasks      | elapsed: 28.7min\n",
      "[Parallel(n_jobs=-2)]: Done 9610 tasks      | elapsed: 52.6min\n",
      "[Parallel(n_jobs=-2)]: Done 10100 out of 10100 | elapsed: 57.6min finished\n"
     ]
    },
    {
     "data": {
      "application/javascript": [
       "\n",
       "            setTimeout(function() {\n",
       "                var nbb_cell_id = 6;\n",
       "                var nbb_unformatted_code = \"partial_func = partial(\\n    run_experiment, block_1=block_1, block_2=block_2, p=p, k=ks, reps=reps\\n)\\n\\nargs = [dict(m=m, delta=delta) for m, delta in product(ms, deltas)]\\n\\nres = Parallel(n_jobs=-2, verbose=1)(delayed(partial_func)(**arg) for arg in args)\";\n",
       "                var nbb_formatted_code = \"partial_func = partial(\\n    run_experiment, block_1=block_1, block_2=block_2, p=p, k=ks, reps=reps\\n)\\n\\nargs = [dict(m=m, delta=delta) for m, delta in product(ms, deltas)]\\n\\nres = Parallel(n_jobs=-2, verbose=1)(delayed(partial_func)(**arg) for arg in args)\";\n",
       "                var nbb_cells = Jupyter.notebook.get_cells();\n",
       "                for (var i = 0; i < nbb_cells.length; ++i) {\n",
       "                    if (nbb_cells[i].input_prompt_number == nbb_cell_id) {\n",
       "                        if (nbb_cells[i].get_text() == nbb_unformatted_code) {\n",
       "                             nbb_cells[i].set_text(nbb_formatted_code);\n",
       "                        }\n",
       "                        break;\n",
       "                    }\n",
       "                }\n",
       "            }, 500);\n",
       "            "
      ],
      "text/plain": [
       "<IPython.core.display.Javascript object>"
      ]
     },
     "metadata": {},
     "output_type": "display_data"
    }
   ],
   "source": [
    "partial_func = partial(\n",
    "    run_experiment, block_1=block_1, block_2=block_2, p=p, k=ks, reps=reps\n",
    ")\n",
    "\n",
    "args = [dict(m=m, delta=delta) for m, delta in product(ms, deltas)]\n",
    "\n",
    "res = Parallel(n_jobs=-2, verbose=1)(delayed(partial_func)(**arg) for arg in args)"
   ]
  },
  {
   "cell_type": "code",
   "execution_count": 8,
   "metadata": {},
   "outputs": [
    {
     "data": {
      "application/javascript": [
       "\n",
       "            setTimeout(function() {\n",
       "                var nbb_cell_id = 8;\n",
       "                var nbb_unformatted_code = \"cols = [\\n    \\\"p\\\",\\n    \\\"delta\\\",\\n    \\\"m\\\",\\n    *[f\\\"precision_at_{k}\\\" for k in ks],\\n    *[f\\\"recall_at_{k}\\\" for k in ks],\\n]\\nres_df = pd.DataFrame(res, columns=cols)\\n\\nres_df.to_csv(f\\\"{today}_results.csv\\\", index=False)\";\n",
       "                var nbb_formatted_code = \"cols = [\\n    \\\"p\\\",\\n    \\\"delta\\\",\\n    \\\"m\\\",\\n    *[f\\\"precision_at_{k}\\\" for k in ks],\\n    *[f\\\"recall_at_{k}\\\" for k in ks],\\n]\\nres_df = pd.DataFrame(res, columns=cols)\\n\\nres_df.to_csv(f\\\"{today}_results.csv\\\", index=False)\";\n",
       "                var nbb_cells = Jupyter.notebook.get_cells();\n",
       "                for (var i = 0; i < nbb_cells.length; ++i) {\n",
       "                    if (nbb_cells[i].input_prompt_number == nbb_cell_id) {\n",
       "                        if (nbb_cells[i].get_text() == nbb_unformatted_code) {\n",
       "                             nbb_cells[i].set_text(nbb_formatted_code);\n",
       "                        }\n",
       "                        break;\n",
       "                    }\n",
       "                }\n",
       "            }, 500);\n",
       "            "
      ],
      "text/plain": [
       "<IPython.core.display.Javascript object>"
      ]
     },
     "metadata": {},
     "output_type": "display_data"
    }
   ],
   "source": [
    "cols = [\n",
    "    \"p\",\n",
    "    \"delta\",\n",
    "    \"m\",\n",
    "    *[f\"precision_at_{k}\" for k in ks],\n",
    "    *[f\"recall_at_{k}\" for k in ks],\n",
    "]\n",
    "res_df = pd.DataFrame(res, columns=cols)\n",
    "\n",
    "res_df.to_csv(f\"{today}_results.csv\", index=False)"
   ]
  },
  {
   "cell_type": "markdown",
   "metadata": {},
   "source": [
    "# Figures"
   ]
  },
  {
   "cell_type": "code",
   "execution_count": 3,
   "metadata": {},
   "outputs": [
    {
     "data": {
      "text/html": [
       "<div>\n",
       "<style scoped>\n",
       "    .dataframe tbody tr th:only-of-type {\n",
       "        vertical-align: middle;\n",
       "    }\n",
       "\n",
       "    .dataframe tbody tr th {\n",
       "        vertical-align: top;\n",
       "    }\n",
       "\n",
       "    .dataframe thead th {\n",
       "        text-align: right;\n",
       "    }\n",
       "</style>\n",
       "<table border=\"1\" class=\"dataframe\">\n",
       "  <thead>\n",
       "    <tr style=\"text-align: right;\">\n",
       "      <th></th>\n",
       "      <th>p</th>\n",
       "      <th>delta</th>\n",
       "      <th>m</th>\n",
       "      <th>precision_at_5</th>\n",
       "      <th>precision_at_6</th>\n",
       "      <th>precision_at_7</th>\n",
       "      <th>precision_at_8</th>\n",
       "      <th>precision_at_9</th>\n",
       "      <th>precision_at_10</th>\n",
       "      <th>recall_at_5</th>\n",
       "      <th>recall_at_6</th>\n",
       "      <th>recall_at_7</th>\n",
       "      <th>recall_at_8</th>\n",
       "      <th>recall_at_9</th>\n",
       "      <th>recall_at_10</th>\n",
       "    </tr>\n",
       "  </thead>\n",
       "  <tbody>\n",
       "    <tr>\n",
       "      <th>0</th>\n",
       "      <td>0.5</td>\n",
       "      <td>0.000</td>\n",
       "      <td>14.9</td>\n",
       "      <td>0.078</td>\n",
       "      <td>0.076667</td>\n",
       "      <td>0.068571</td>\n",
       "      <td>0.06750</td>\n",
       "      <td>0.064444</td>\n",
       "      <td>0.061</td>\n",
       "      <td>0.039</td>\n",
       "      <td>0.046</td>\n",
       "      <td>0.048</td>\n",
       "      <td>0.054</td>\n",
       "      <td>0.058</td>\n",
       "      <td>0.061</td>\n",
       "    </tr>\n",
       "    <tr>\n",
       "      <th>1</th>\n",
       "      <td>0.5</td>\n",
       "      <td>0.005</td>\n",
       "      <td>14.9</td>\n",
       "      <td>0.042</td>\n",
       "      <td>0.046667</td>\n",
       "      <td>0.054286</td>\n",
       "      <td>0.05625</td>\n",
       "      <td>0.057778</td>\n",
       "      <td>0.058</td>\n",
       "      <td>0.021</td>\n",
       "      <td>0.028</td>\n",
       "      <td>0.038</td>\n",
       "      <td>0.045</td>\n",
       "      <td>0.052</td>\n",
       "      <td>0.058</td>\n",
       "    </tr>\n",
       "    <tr>\n",
       "      <th>2</th>\n",
       "      <td>0.5</td>\n",
       "      <td>0.010</td>\n",
       "      <td>14.9</td>\n",
       "      <td>0.054</td>\n",
       "      <td>0.053333</td>\n",
       "      <td>0.051429</td>\n",
       "      <td>0.05375</td>\n",
       "      <td>0.055556</td>\n",
       "      <td>0.056</td>\n",
       "      <td>0.027</td>\n",
       "      <td>0.032</td>\n",
       "      <td>0.036</td>\n",
       "      <td>0.043</td>\n",
       "      <td>0.050</td>\n",
       "      <td>0.056</td>\n",
       "    </tr>\n",
       "    <tr>\n",
       "      <th>3</th>\n",
       "      <td>0.5</td>\n",
       "      <td>0.015</td>\n",
       "      <td>14.9</td>\n",
       "      <td>0.070</td>\n",
       "      <td>0.065000</td>\n",
       "      <td>0.065714</td>\n",
       "      <td>0.06375</td>\n",
       "      <td>0.063333</td>\n",
       "      <td>0.062</td>\n",
       "      <td>0.035</td>\n",
       "      <td>0.039</td>\n",
       "      <td>0.046</td>\n",
       "      <td>0.051</td>\n",
       "      <td>0.057</td>\n",
       "      <td>0.062</td>\n",
       "    </tr>\n",
       "    <tr>\n",
       "      <th>4</th>\n",
       "      <td>0.5</td>\n",
       "      <td>0.020</td>\n",
       "      <td>14.9</td>\n",
       "      <td>0.072</td>\n",
       "      <td>0.068333</td>\n",
       "      <td>0.071429</td>\n",
       "      <td>0.06750</td>\n",
       "      <td>0.068889</td>\n",
       "      <td>0.068</td>\n",
       "      <td>0.036</td>\n",
       "      <td>0.041</td>\n",
       "      <td>0.050</td>\n",
       "      <td>0.054</td>\n",
       "      <td>0.062</td>\n",
       "      <td>0.068</td>\n",
       "    </tr>\n",
       "  </tbody>\n",
       "</table>\n",
       "</div>"
      ],
      "text/plain": [
       "     p  delta     m  precision_at_5  precision_at_6  precision_at_7  \\\n",
       "0  0.5  0.000  14.9           0.078        0.076667        0.068571   \n",
       "1  0.5  0.005  14.9           0.042        0.046667        0.054286   \n",
       "2  0.5  0.010  14.9           0.054        0.053333        0.051429   \n",
       "3  0.5  0.015  14.9           0.070        0.065000        0.065714   \n",
       "4  0.5  0.020  14.9           0.072        0.068333        0.071429   \n",
       "\n",
       "   precision_at_8  precision_at_9  precision_at_10  recall_at_5  recall_at_6  \\\n",
       "0         0.06750        0.064444            0.061        0.039        0.046   \n",
       "1         0.05625        0.057778            0.058        0.021        0.028   \n",
       "2         0.05375        0.055556            0.056        0.027        0.032   \n",
       "3         0.06375        0.063333            0.062        0.035        0.039   \n",
       "4         0.06750        0.068889            0.068        0.036        0.041   \n",
       "\n",
       "   recall_at_7  recall_at_8  recall_at_9  recall_at_10  \n",
       "0        0.048        0.054        0.058         0.061  \n",
       "1        0.038        0.045        0.052         0.058  \n",
       "2        0.036        0.043        0.050         0.056  \n",
       "3        0.046        0.051        0.057         0.062  \n",
       "4        0.050        0.054        0.062         0.068  "
      ]
     },
     "execution_count": 3,
     "metadata": {},
     "output_type": "execute_result"
    },
    {
     "data": {
      "application/javascript": [
       "\n",
       "            setTimeout(function() {\n",
       "                var nbb_cell_id = 3;\n",
       "                var nbb_unformatted_code = \"res_df = pd.read_csv(\\\"../20200206_results.csv\\\")\\n\\nres_df.head()\";\n",
       "                var nbb_formatted_code = \"res_df = pd.read_csv(\\\"../20200206_results.csv\\\")\\n\\nres_df.head()\";\n",
       "                var nbb_cells = Jupyter.notebook.get_cells();\n",
       "                for (var i = 0; i < nbb_cells.length; ++i) {\n",
       "                    if (nbb_cells[i].input_prompt_number == nbb_cell_id) {\n",
       "                        if (nbb_cells[i].get_text() == nbb_unformatted_code) {\n",
       "                             nbb_cells[i].set_text(nbb_formatted_code);\n",
       "                        }\n",
       "                        break;\n",
       "                    }\n",
       "                }\n",
       "            }, 500);\n",
       "            "
      ],
      "text/plain": [
       "<IPython.core.display.Javascript object>"
      ]
     },
     "metadata": {},
     "output_type": "display_data"
    }
   ],
   "source": [
    "res_df = pd.read_csv(\"../20200206_results.csv\")\n",
    "\n",
    "res_df.head()"
   ]
  },
  {
   "cell_type": "code",
   "execution_count": 4,
   "metadata": {},
   "outputs": [
    {
     "data": {
      "application/javascript": [
       "\n",
       "            setTimeout(function() {\n",
       "                var nbb_cell_id = 4;\n",
       "                var nbb_unformatted_code = \"# Remove delta == 0\\nres_df = res_df[res_df.delta != 0]\";\n",
       "                var nbb_formatted_code = \"# Remove delta == 0\\nres_df = res_df[res_df.delta != 0]\";\n",
       "                var nbb_cells = Jupyter.notebook.get_cells();\n",
       "                for (var i = 0; i < nbb_cells.length; ++i) {\n",
       "                    if (nbb_cells[i].input_prompt_number == nbb_cell_id) {\n",
       "                        if (nbb_cells[i].get_text() == nbb_unformatted_code) {\n",
       "                             nbb_cells[i].set_text(nbb_formatted_code);\n",
       "                        }\n",
       "                        break;\n",
       "                    }\n",
       "                }\n",
       "            }, 500);\n",
       "            "
      ],
      "text/plain": [
       "<IPython.core.display.Javascript object>"
      ]
     },
     "metadata": {},
     "output_type": "display_data"
    }
   ],
   "source": [
    "# Remove delta == 0\n",
    "res_df = res_df[res_df.delta != 0]"
   ]
  },
  {
   "cell_type": "code",
   "execution_count": 19,
   "metadata": {
    "scrolled": false
   },
   "outputs": [
    {
     "data": {
      "image/png": "[encoded data removed]",
      "text/plain": [
       "<Figure size 496.8x432 with 2 Axes>"
      ]
     },
     "metadata": {
      "needs_background": "light"
     },
     "output_type": "display_data"
    },
    {
     "data": {
      "application/javascript": [
       "\n",
       "            setTimeout(function() {\n",
       "                var nbb_cell_id = 19;\n",
       "                var nbb_unformatted_code = \"fmt = lambda x: \\\"{:.2f}\\\".format(x)\\n\\np = 0.5\\nspacing = 100\\ndeltas = np.linspace(0, 1 - p, spacing + 1)[::20]\\ndeltas[0] += 0.005\\nms = np.linspace(0, 500, spacing + 1)[::20] * 2\\nms[0] += 20\\n\\nwith sns.plotting_context(\\\"talk\\\", font_scale=1.1):\\n    fig, ax = plt.subplots(\\n        1,\\n        2,\\n        gridspec_kw={\\\"width_ratios\\\": [1, 0.05]},\\n        figsize=(6.9, 6),\\n        constrained_layout=True,\\n    )\\n\\n    sns.heatmap(\\n        np.flipud(res_df[f\\\"precision_at_10\\\"].values.reshape(spacing, -1)),\\n        ax=ax[0],\\n        square=True,\\n        center=0,\\n        cmap=\\\"RdBu_r\\\",\\n        cbar_kws=dict(shrink=0.7),\\n        xticklabels=[fmt(d) for d in deltas],\\n        yticklabels=[\\\"{:.0f}\\\".format(m) for m in ms],\\n        cbar_ax=ax[-1],\\n        vmin=0,\\n        vmax=1,\\n    )\\n    ax[0].set_xticks(np.arange(0, ax[0].get_xlim()[1] + 1, 20))\\n    ax[0].set_yticks(np.arange(0, ax[0].get_ylim()[0] + 1, 20)[::-1])\\n    ax[0].set_ylabel(\\\"Sample Size\\\")\\n    ax[0].set_xlabel(\\\"Effect Size\\\", labelpad=15)\\n    # ax[0].set_title(\\\"Recall@10\\\", fontsize=25)\\n\\n    fig.text(0.5, 1.03, \\\"Recall@10\\\", fontsize=25, va=\\\"center\\\", ha=\\\"center\\\")\\n\\n    fig.savefig(\\\"./exp1_final.png\\\", dpi=300, bbox_inches=\\\"tight\\\")\\n    fig.savefig(\\\"./exp1_final.pdf\\\", bbox_inches=\\\"tight\\\")\";\n",
       "                var nbb_formatted_code = \"fmt = lambda x: \\\"{:.2f}\\\".format(x)\\n\\np = 0.5\\nspacing = 100\\ndeltas = np.linspace(0, 1 - p, spacing + 1)[::20]\\ndeltas[0] += 0.005\\nms = np.linspace(0, 500, spacing + 1)[::20] * 2\\nms[0] += 20\\n\\nwith sns.plotting_context(\\\"talk\\\", font_scale=1.1):\\n    fig, ax = plt.subplots(\\n        1,\\n        2,\\n        gridspec_kw={\\\"width_ratios\\\": [1, 0.05]},\\n        figsize=(6.9, 6),\\n        constrained_layout=True,\\n    )\\n\\n    sns.heatmap(\\n        np.flipud(res_df[f\\\"precision_at_10\\\"].values.reshape(spacing, -1)),\\n        ax=ax[0],\\n        square=True,\\n        center=0,\\n        cmap=\\\"RdBu_r\\\",\\n        cbar_kws=dict(shrink=0.7),\\n        xticklabels=[fmt(d) for d in deltas],\\n        yticklabels=[\\\"{:.0f}\\\".format(m) for m in ms],\\n        cbar_ax=ax[-1],\\n        vmin=0,\\n        vmax=1,\\n    )\\n    ax[0].set_xticks(np.arange(0, ax[0].get_xlim()[1] + 1, 20))\\n    ax[0].set_yticks(np.arange(0, ax[0].get_ylim()[0] + 1, 20)[::-1])\\n    ax[0].set_ylabel(\\\"Sample Size\\\")\\n    ax[0].set_xlabel(\\\"Effect Size\\\", labelpad=15)\\n    # ax[0].set_title(\\\"Recall@10\\\", fontsize=25)\\n\\n    fig.text(0.5, 1.03, \\\"Recall@10\\\", fontsize=25, va=\\\"center\\\", ha=\\\"center\\\")\\n\\n    fig.savefig(\\\"./exp1_final.png\\\", dpi=300, bbox_inches=\\\"tight\\\")\\n    fig.savefig(\\\"./exp1_final.pdf\\\", bbox_inches=\\\"tight\\\")\";\n",
       "                var nbb_cells = Jupyter.notebook.get_cells();\n",
       "                for (var i = 0; i < nbb_cells.length; ++i) {\n",
       "                    if (nbb_cells[i].input_prompt_number == nbb_cell_id) {\n",
       "                        if (nbb_cells[i].get_text() == nbb_unformatted_code) {\n",
       "                             nbb_cells[i].set_text(nbb_formatted_code);\n",
       "                        }\n",
       "                        break;\n",
       "                    }\n",
       "                }\n",
       "            }, 500);\n",
       "            "
      ],
      "text/plain": [
       "<IPython.core.display.Javascript object>"
      ]
     },
     "metadata": {},
     "output_type": "display_data"
    }
   ],
   "source": [
    "fmt = lambda x: \"{:.2f}\".format(x)\n",
    "\n",
    "p = 0.5\n",
    "spacing = 100\n",
    "deltas = np.linspace(0, 1 - p, spacing + 1)[::20]\n",
    "deltas[0] += 0.005\n",
    "ms = np.linspace(0, 500, spacing + 1)[::20] * 2\n",
    "ms[0] += 20\n",
    "\n",
    "with sns.plotting_context(\"talk\", font_scale=1.1):\n",
    "    fig, ax = plt.subplots(\n",
    "        1,\n",
    "        2,\n",
    "        gridspec_kw={\"width_ratios\": [1, 0.05]},\n",
    "        figsize=(6.9, 6),\n",
    "        constrained_layout=True,\n",
    "    )\n",
    "\n",
    "    sns.heatmap(\n",
    "        np.flipud(res_df[f\"precision_at_10\"].values.reshape(spacing, -1)),\n",
    "        ax=ax[0],\n",
    "        square=True,\n",
    "        center=0,\n",
    "        cmap=\"RdBu_r\",\n",
    "        cbar_kws=dict(shrink=0.7),\n",
    "        xticklabels=[fmt(d) for d in deltas],\n",
    "        yticklabels=[\"{:.0f}\".format(m) for m in ms],\n",
    "        cbar_ax=ax[-1],\n",
    "        vmin=0,\n",
    "        vmax=1,\n",
    "    )\n",
    "    ax[0].set_xticks(np.arange(0, ax[0].get_xlim()[1] + 1, 20))\n",
    "    ax[0].set_yticks(np.arange(0, ax[0].get_ylim()[0] + 1, 20)[::-1])\n",
    "    ax[0].set_ylabel(\"Sample Size\")\n",
    "    ax[0].set_xlabel(\"Effect Size\", labelpad=15)\n",
    "    # ax[0].set_title(\"Recall@10\", fontsize=25)\n",
    "\n",
    "    fig.text(0.5, 1.03, \"Recall@10\", fontsize=25, va=\"center\", ha=\"center\")\n",
    "\n",
    "    fig.savefig(\"./exp1_final.png\", dpi=300, bbox_inches=\"tight\")\n",
    "    fig.savefig(\"./exp1_final.pdf\", bbox_inches=\"tight\")"
   ]
  },
  {
   "cell_type": "code",
   "execution_count": null,
   "metadata": {},
   "outputs": [],
   "source": []
  }
 ],
 "metadata": {
  "kernelspec": {
   "display_name": "Python 3",
   "language": "python",
   "name": "python3"
  },
  "language_info": {
   "codemirror_mode": {
    "name": "ipython",
    "version": 3
   },
   "file_extension": ".py",
   "mimetype": "text/x-python",
   "name": "python",
   "nbconvert_exporter": "python",
   "pygments_lexer": "ipython3",
   "version": "3.7.2"
  }
 },
 "nbformat": 4,
 "nbformat_minor": 2
}
