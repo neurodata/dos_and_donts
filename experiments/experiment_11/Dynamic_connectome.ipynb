{
 "cells": [
  {
   "cell_type": "code",
   "execution_count": 1,
   "metadata": {},
   "outputs": [],
   "source": [
    "import numpy as np\n",
    "from statsmodels.tsa.arima_process import ArmaProcess\n",
    "\n",
    "from sklearn.metrics.pairwise import euclidean_distances\n",
    "from sklearn.utils import check_X_y\n",
    "\n",
    "import matplotlib.pyplot as plt\n",
    "import seaborn as sns\n",
    "\n",
    "from joblib import Parallel, delayed\n",
    "\n",
    "%matplotlib inline"
   ]
  },
  {
   "cell_type": "code",
   "execution_count": 2,
   "metadata": {},
   "outputs": [],
   "source": [
    "def discr_stat(\n",
    "    X, Y, dissimilarity=\"euclidean\", remove_isolates=True, return_rdfs=False\n",
    "):\n",
    "    \"\"\"\n",
    "    Computes the discriminability statistic.\n",
    "    Parameters\n",
    "    ----------\n",
    "    X : array, shape (n_samples, n_features) or (n_samples, n_samples)\n",
    "        Input data. If dissimilarity=='precomputed', the input should be the dissimilarity matrix.\n",
    "    Y : 1d-array, shape (n_samples)\n",
    "        Input labels.\n",
    "    dissimilarity : str, {\"euclidean\" (default), \"precomputed\"}\n",
    "        Dissimilarity measure to use:\n",
    "        - 'euclidean':\n",
    "            Pairwise Euclidean distances between points in the dataset.\n",
    "        - 'precomputed':\n",
    "            Pre-computed dissimilarities.\n",
    "    remove_isolates : bool, optional, default=True\n",
    "        Whether to remove data that have single label.\n",
    "    return_rdfs : bool, optional, default=False\n",
    "        Whether to return rdf for all data points.\n",
    "    Returns\n",
    "    -------\n",
    "    stat : float\n",
    "        Discriminability statistic. \n",
    "    rdfs : array, shape (n_samples, max{len(id)})\n",
    "        Rdfs for each sample. Only returned if ``return_rdfs==True``.\n",
    "    \"\"\"\n",
    "    check_X_y(X, Y, accept_sparse=True)\n",
    "\n",
    "    uniques, counts = np.unique(Y, return_counts=True)\n",
    "    if (counts != 1).sum() <= 1:\n",
    "        msg = \"You have passed a vector containing only a single unique sample id.\"\n",
    "        raise ValueError(msg)\n",
    "    if remove_isolates:\n",
    "        idx = np.isin(Y, uniques[counts != 1])\n",
    "        labels = Y[idx]\n",
    "\n",
    "        if dissimilarity == \"euclidean\":\n",
    "            X = X[idx]\n",
    "        else:\n",
    "            X = X[np.ix_(idx, idx)]\n",
    "    else:\n",
    "        labels = Y\n",
    "\n",
    "    if dissimilarity == \"euclidean\":\n",
    "        dissimilarities = euclidean_distances(X)\n",
    "    else:\n",
    "        dissimilarities = X\n",
    "\n",
    "    rdfs = _discr_rdf(dissimilarities, labels)\n",
    "    stat = np.nanmean(rdfs)\n",
    "\n",
    "    if return_rdfs:\n",
    "        return stat, rdfs\n",
    "    else:\n",
    "        return stat\n",
    "\n",
    "\n",
    "def _discr_rdf(dissimilarities, labels):\n",
    "    \"\"\"\n",
    "    A function for computing the reliability density function of a dataset.\n",
    "\n",
    "    Parameters\n",
    "    ----------\n",
    "    dissimilarities : array, shape (n_samples, n_features) or (n_samples, n_samples)\n",
    "        Input data. If dissimilarity=='precomputed', the input should be the \n",
    "        dissimilarity matrix.\n",
    "\n",
    "    labels : 1d-array, shape (n_samples)\n",
    "        Input labels.\n",
    "\n",
    "    Returns\n",
    "    -------\n",
    "    out : array, shape (n_samples, max{len(id)})\n",
    "        Rdfs for each sample. Only returned if ``return_rdfs==True``.\n",
    "    \"\"\"\n",
    "    check_X_y(dissimilarities, labels, accept_sparse=True)\n",
    "\n",
    "    rdfs = []\n",
    "    for i, label in enumerate(labels):\n",
    "        di = dissimilarities[i]\n",
    "\n",
    "        # All other samples except its own label\n",
    "        idx = labels == label\n",
    "        Dij = di[~idx]\n",
    "\n",
    "        # All samples except itself\n",
    "        idx[i] = False\n",
    "        Dii = di[idx]\n",
    "\n",
    "        rdf = [1 - ((Dij < d).sum() + 0.5 * (Dij == d).sum()) / Dij.size for d in Dii]\n",
    "        rdfs.append(rdf)\n",
    "\n",
    "    out = np.full((len(rdfs), max(map(len, rdfs))), np.nan)\n",
    "    for i, rdf in enumerate(rdfs):\n",
    "        out[i, : len(rdf)] = rdf\n",
    "\n",
    "    return out"
   ]
  },
  {
   "cell_type": "code",
   "execution_count": 3,
   "metadata": {},
   "outputs": [],
   "source": [
    "def sample_data(time_steps=300, n_features=100, n_samples=10, n_repeats=10, seed=None):\n",
    "    if seed is not None:\n",
    "        np.random.seed(seed)\n",
    "        \n",
    "    out = []\n",
    "    phis = np.random.uniform(-1, 1, size=n_samples)\n",
    "    for phi in phis:\n",
    "        # print(phi)\n",
    "        ar = np.array([1, phi])\n",
    "        ma = np.array([1])\n",
    "\n",
    "        generator = ArmaProcess(ar, ma)\n",
    "        X = generator.generate_sample((n_repeats, time_steps, n_features), axis=1)\n",
    "\n",
    "        out += [np.corrcoef(x.T) for x in X]\n",
    "        \n",
    "    out = np.array(out).reshape(n_samples * n_repeats, -1)\n",
    "    out = out.reshape(n_samples * n_repeats, -1)\n",
    "    \n",
    "    # out = euclidean_distances(out)\n",
    "    \n",
    "    labels = np.repeat(np.arange(1, n_samples + 1), n_repeats)\n",
    "    \n",
    "    return out, labels"
   ]
  },
  {
   "cell_type": "code",
   "execution_count": 4,
   "metadata": {},
   "outputs": [],
   "source": [
    "def compute_disc():\n",
    "    X, y = sample_data()\n",
    "    \n",
    "    stat = discr_stat(X, y)\n",
    "    \n",
    "    return stat"
   ]
  },
  {
   "cell_type": "code",
   "execution_count": 5,
   "metadata": {},
   "outputs": [
    {
     "data": {
      "text/plain": [
       "0.5017037037037038"
      ]
     },
     "execution_count": 5,
     "metadata": {},
     "output_type": "execute_result"
    }
   ],
   "source": [
    "compute_disc()"
   ]
  },
  {
   "cell_type": "code",
   "execution_count": 6,
   "metadata": {
    "scrolled": true
   },
   "outputs": [
    {
     "name": "stderr",
     "output_type": "stream",
     "text": [
      "[Parallel(n_jobs=56)]: Using backend LokyBackend with 56 concurrent workers.\n",
      "[Parallel(n_jobs=56)]: Done  88 tasks      | elapsed:    3.5s\n",
      "[Parallel(n_jobs=56)]: Done 338 tasks      | elapsed:    5.2s\n",
      "[Parallel(n_jobs=56)]: Done 688 tasks      | elapsed:    7.6s\n",
      "[Parallel(n_jobs=56)]: Done 1000 out of 1000 | elapsed:    9.6s finished\n"
     ]
    }
   ],
   "source": [
    "res = Parallel(56, verbose=1)(delayed(compute_disc)() for _ in range(1000))"
   ]
  },
  {
   "cell_type": "code",
   "execution_count": 7,
   "metadata": {},
   "outputs": [
    {
     "data": {
      "image/png": "[encoded data removed]",
      "text/plain": [
       "<Figure size 720x432 with 1 Axes>"
      ]
     },
     "metadata": {
      "needs_background": "light"
     },
     "output_type": "display_data"
    }
   ],
   "source": [
    "with sns.plotting_context('talk'):\n",
    "    fig, ax = plt.subplots(figsize=(10, 6))\n",
    "    \n",
    "    ax.hist(res)\n",
    "    ax.set_title(\"Distribution of Discriminability Statistic\")\n",
    "    ax.set_xlabel(\"Discriminability Statistic\")\n",
    "    ax.set_ylabel(\"Frequency\")\n",
    "    \n",
    "    fig.savefig(\"discr_dist.pdf\", dpi=300, bbox_inches='tight')"
   ]
  },
  {
   "cell_type": "code",
   "execution_count": null,
   "metadata": {},
   "outputs": [],
   "source": []
  }
 ],
 "metadata": {
  "kernelspec": {
   "display_name": "Python 3",
   "language": "python",
   "name": "python3"
  },
  "language_info": {
   "codemirror_mode": {
    "name": "ipython",
    "version": 3
   },
   "file_extension": ".py",
   "mimetype": "text/x-python",
   "name": "python",
   "nbconvert_exporter": "python",
   "pygments_lexer": "ipython3",
   "version": "3.6.6"
  }
 },
 "nbformat": 4,
 "nbformat_minor": 2
}
