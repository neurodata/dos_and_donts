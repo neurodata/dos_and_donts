{
 "cells": [
  {
   "cell_type": "code",
   "execution_count": 1,
   "metadata": {},
   "outputs": [
    {
     "data": {
      "application/javascript": [
       "\n",
       "            setTimeout(function() {\n",
       "                var nbb_cell_id = 1;\n",
       "                var nbb_unformatted_code = \"%load_ext nb_black\";\n",
       "                var nbb_formatted_code = \"%load_ext nb_black\";\n",
       "                var nbb_cells = Jupyter.notebook.get_cells();\n",
       "                for (var i = 0; i < nbb_cells.length; ++i) {\n",
       "                    if (nbb_cells[i].input_prompt_number == nbb_cell_id) {\n",
       "                        if (nbb_cells[i].get_text() == nbb_unformatted_code) {\n",
       "                             nbb_cells[i].set_text(nbb_formatted_code);\n",
       "                        }\n",
       "                        break;\n",
       "                    }\n",
       "                }\n",
       "            }, 500);\n",
       "            "
      ],
      "text/plain": [
       "<IPython.core.display.Javascript object>"
      ]
     },
     "metadata": {},
     "output_type": "display_data"
    }
   ],
   "source": [
    "%load_ext nb_black"
   ]
  },
  {
   "cell_type": "code",
   "execution_count": 2,
   "metadata": {},
   "outputs": [
    {
     "name": "stderr",
     "output_type": "stream",
     "text": [
      "/Users/j1c/miniconda3/envs/graspy/lib/python3.7/site-packages/sklearn/utils/deprecation.py:144: FutureWarning: The sklearn.mixture.gaussian_mixture module is  deprecated in version 0.22 and will be removed in version 0.24. The corresponding classes / functions should instead be imported from sklearn.mixture. Anything that cannot be imported from sklearn.mixture is now part of the private API.\n",
      "  warnings.warn(message, FutureWarning)\n"
     ]
    },
    {
     "data": {
      "application/javascript": [
       "\n",
       "            setTimeout(function() {\n",
       "                var nbb_cell_id = 2;\n",
       "                var nbb_unformatted_code = \"from functools import partial\\nfrom itertools import product\\n\\nimport numpy as np\\nimport pandas as pd\\nimport seaborn as sns\\nfrom graspy.plot import heatmap\\nfrom graspy.simulations import er_np, sbm\\nfrom joblib import Parallel, delayed\\nfrom sklearn.metrics import adjusted_rand_score\\n\\nfrom mgc.ksample import KSample\\n\\nfrom src import generate_binary_sbms, estimate_embeddings\";\n",
       "                var nbb_formatted_code = \"from functools import partial\\nfrom itertools import product\\n\\nimport numpy as np\\nimport pandas as pd\\nimport seaborn as sns\\nfrom graspy.plot import heatmap\\nfrom graspy.simulations import er_np, sbm\\nfrom joblib import Parallel, delayed\\nfrom sklearn.metrics import adjusted_rand_score\\n\\nfrom mgc.ksample import KSample\\n\\nfrom src import generate_binary_sbms, estimate_embeddings\";\n",
       "                var nbb_cells = Jupyter.notebook.get_cells();\n",
       "                for (var i = 0; i < nbb_cells.length; ++i) {\n",
       "                    if (nbb_cells[i].input_prompt_number == nbb_cell_id) {\n",
       "                        if (nbb_cells[i].get_text() == nbb_unformatted_code) {\n",
       "                             nbb_cells[i].set_text(nbb_formatted_code);\n",
       "                        }\n",
       "                        break;\n",
       "                    }\n",
       "                }\n",
       "            }, 500);\n",
       "            "
      ],
      "text/plain": [
       "<IPython.core.display.Javascript object>"
      ]
     },
     "metadata": {},
     "output_type": "display_data"
    }
   ],
   "source": [
    "from functools import partial\n",
    "from itertools import product\n",
    "\n",
    "import numpy as np\n",
    "import pandas as pd\n",
    "import seaborn as sns\n",
    "from graspy.plot import heatmap\n",
    "from graspy.simulations import er_np, sbm\n",
    "from joblib import Parallel, delayed\n",
    "from sklearn.metrics import adjusted_rand_score\n",
    "\n",
    "from mgc.ksample import KSample\n",
    "\n",
    "from src import generate_binary_sbms, estimate_embeddings"
   ]
  },
  {
   "cell_type": "code",
   "execution_count": 8,
   "metadata": {},
   "outputs": [
    {
     "data": {
      "application/javascript": [
       "\n",
       "            setTimeout(function() {\n",
       "                var nbb_cell_id = 8;\n",
       "                var nbb_unformatted_code = \"def run_experiment(m, block_1, block_2, p, delta, n_components, reps):\\n    omni_corrects = np.zeros((reps, block_1 + block_2))\\n    mase_corrects = np.zeros((reps, block_1 + block_2))\\n\\n    for i in np.arange(reps).astype(int):\\n        pop1, pop2, true_labels = generate_binary_sbms(\\n            m=m, block_1=block_1, block_2=block_2, p=p, delta=delta\\n        )\\n        mase_corrects_tmp = []\\n        omni_corrects_tmp = []\\n\\n        for method in [\\\"mase\\\", \\\"omni\\\"]:\\n            embeddings = estimate_embeddings(pop1, pop2, method, n_components, sample_space=True)\\n            for j in range(block_1 + block_2):\\n                test_stat, pval = KSample(\\\"Dcorr\\\").test(\\n                    embeddings[:m, j, :], embeddings[m:, j, :]\\n                )\\n\\n                if method == \\\"mase\\\":\\n                    mase_corrects[i, j] = pval\\n                else:\\n                    omni_corrects[i, j] = pval\\n\\n    omni_powers = (omni_corrects <= 0.05).mean(axis=0)\\n    mase_powers = (mase_corrects <= 0.05).mean(axis=0)\\n\\n    to_append = [m, p, delta, *omni_powers, *mase_powers]\\n    return to_append\";\n",
       "                var nbb_formatted_code = \"def run_experiment(m, block_1, block_2, p, delta, n_components, reps):\\n    omni_corrects = np.zeros((reps, block_1 + block_2))\\n    mase_corrects = np.zeros((reps, block_1 + block_2))\\n\\n    for i in np.arange(reps).astype(int):\\n        pop1, pop2, true_labels = generate_binary_sbms(\\n            m=m, block_1=block_1, block_2=block_2, p=p, delta=delta\\n        )\\n        mase_corrects_tmp = []\\n        omni_corrects_tmp = []\\n\\n        for method in [\\\"mase\\\", \\\"omni\\\"]:\\n            embeddings = estimate_embeddings(\\n                pop1, pop2, method, n_components, sample_space=True\\n            )\\n            for j in range(block_1 + block_2):\\n                test_stat, pval = KSample(\\\"Dcorr\\\").test(\\n                    embeddings[:m, j, :], embeddings[m:, j, :]\\n                )\\n\\n                if method == \\\"mase\\\":\\n                    mase_corrects[i, j] = pval\\n                else:\\n                    omni_corrects[i, j] = pval\\n\\n    omni_powers = (omni_corrects <= 0.05).mean(axis=0)\\n    mase_powers = (mase_corrects <= 0.05).mean(axis=0)\\n\\n    to_append = [m, p, delta, *omni_powers, *mase_powers]\\n    return to_append\";\n",
       "                var nbb_cells = Jupyter.notebook.get_cells();\n",
       "                for (var i = 0; i < nbb_cells.length; ++i) {\n",
       "                    if (nbb_cells[i].input_prompt_number == nbb_cell_id) {\n",
       "                        if (nbb_cells[i].get_text() == nbb_unformatted_code) {\n",
       "                             nbb_cells[i].set_text(nbb_formatted_code);\n",
       "                        }\n",
       "                        break;\n",
       "                    }\n",
       "                }\n",
       "            }, 500);\n",
       "            "
      ],
      "text/plain": [
       "<IPython.core.display.Javascript object>"
      ]
     },
     "metadata": {},
     "output_type": "display_data"
    }
   ],
   "source": [
    "def run_experiment(m, block_1, block_2, p, delta, n_components, reps):\n",
    "    omni_corrects = np.zeros((reps, block_1 + block_2))\n",
    "    mase_corrects = np.zeros((reps, block_1 + block_2))\n",
    "\n",
    "    for i in np.arange(reps).astype(int):\n",
    "        pop1, pop2, true_labels = generate_binary_sbms(\n",
    "            m=m, block_1=block_1, block_2=block_2, p=p, delta=delta\n",
    "        )\n",
    "        mase_corrects_tmp = []\n",
    "        omni_corrects_tmp = []\n",
    "\n",
    "        for method in [\"mase\", \"omni\"]:\n",
    "            embeddings = estimate_embeddings(\n",
    "                pop1, pop2, method, n_components, sample_space=True\n",
    "            )\n",
    "            for j in range(block_1 + block_2):\n",
    "                test_stat, pval = KSample(\"Dcorr\").test(\n",
    "                    embeddings[:m, j, :], embeddings[m:, j, :]\n",
    "                )\n",
    "\n",
    "                if method == \"mase\":\n",
    "                    mase_corrects[i, j] = pval\n",
    "                else:\n",
    "                    omni_corrects[i, j] = pval\n",
    "\n",
    "    omni_powers = (omni_corrects <= 0.05).mean(axis=0)\n",
    "    mase_powers = (mase_corrects <= 0.05).mean(axis=0)\n",
    "\n",
    "    to_append = [m, p, delta, *omni_powers, *mase_powers]\n",
    "    return to_append"
   ]
  },
  {
   "cell_type": "code",
   "execution_count": 9,
   "metadata": {},
   "outputs": [
    {
     "data": {
      "application/javascript": [
       "\n",
       "            setTimeout(function() {\n",
       "                var nbb_cell_id = 9;\n",
       "                var nbb_unformatted_code = \"spacing = 50\\n\\nblock_1 = 5  # different probability\\nblock_2 = 15\\np = 0.5\\ndeltas = np.linspace(1 - p, 1, spacing + 1)\\nn_components = 2\\nreps = 50\\nms = np.linspace(0, 250, spacing + 1)[1:].astype(int)\\n\\npartial_func = partial(\\n    run_experiment,\\n    block_1=block_1,\\n    block_2=block_2,\\n    p=p,\\n    reps=reps,\\n    n_components=n_components,\\n)\\n\\nargs = [dict(m=m, delta=delta) for m, delta in product(ms, deltas)]\\nargs = sum(zip(reversed(args), args), ())[: len(args)]\";\n",
       "                var nbb_formatted_code = \"spacing = 50\\n\\nblock_1 = 5  # different probability\\nblock_2 = 15\\np = 0.5\\ndeltas = np.linspace(1 - p, 1, spacing + 1)\\nn_components = 2\\nreps = 50\\nms = np.linspace(0, 250, spacing + 1)[1:].astype(int)\\n\\npartial_func = partial(\\n    run_experiment,\\n    block_1=block_1,\\n    block_2=block_2,\\n    p=p,\\n    reps=reps,\\n    n_components=n_components,\\n)\\n\\nargs = [dict(m=m, delta=delta) for m, delta in product(ms, deltas)]\\nargs = sum(zip(reversed(args), args), ())[: len(args)]\";\n",
       "                var nbb_cells = Jupyter.notebook.get_cells();\n",
       "                for (var i = 0; i < nbb_cells.length; ++i) {\n",
       "                    if (nbb_cells[i].input_prompt_number == nbb_cell_id) {\n",
       "                        if (nbb_cells[i].get_text() == nbb_unformatted_code) {\n",
       "                             nbb_cells[i].set_text(nbb_formatted_code);\n",
       "                        }\n",
       "                        break;\n",
       "                    }\n",
       "                }\n",
       "            }, 500);\n",
       "            "
      ],
      "text/plain": [
       "<IPython.core.display.Javascript object>"
      ]
     },
     "metadata": {},
     "output_type": "display_data"
    }
   ],
   "source": [
    "spacing = 50\n",
    "\n",
    "block_1 = 5  # different probability\n",
    "block_2 = 15\n",
    "p = 0.5\n",
    "deltas = np.linspace(1 - p, 1, spacing + 1)\n",
    "n_components = 2\n",
    "reps = 25\n",
    "ms = np.linspace(0, 250, spacing + 1)[1:].astype(int)\n",
    "\n",
    "partial_func = partial(\n",
    "    run_experiment,\n",
    "    block_1=block_1,\n",
    "    block_2=block_2,\n",
    "    p=p,\n",
    "    reps=reps,\n",
    "    n_components=n_components,\n",
    ")\n",
    "\n",
    "args = [dict(m=m, delta=delta) for m, delta in product(ms, deltas)]\n",
    "args = sum(zip(reversed(args), args), ())[: len(args)]"
   ]
  },
  {
   "cell_type": "code",
   "execution_count": 16,
   "metadata": {},
   "outputs": [
    {
     "name": "stderr",
     "output_type": "stream",
     "text": [
      "[Parallel(n_jobs=-1)]: Using backend LokyBackend with 12 concurrent workers.\n",
      "[Parallel(n_jobs=-1)]: Done   2 out of   2 | elapsed:  2.8min finished\n"
     ]
    },
    {
     "data": {
      "application/javascript": [
       "\n",
       "            setTimeout(function() {\n",
       "                var nbb_cell_id = 16;\n",
       "                var nbb_unformatted_code = \"res = Parallel(n_jobs=-1, verbose=1)(delayed(partial_func)(**arg) for arg in args)\";\n",
       "                var nbb_formatted_code = \"res = Parallel(n_jobs=-1, verbose=1)(delayed(partial_func)(**arg) for arg in args)\";\n",
       "                var nbb_cells = Jupyter.notebook.get_cells();\n",
       "                for (var i = 0; i < nbb_cells.length; ++i) {\n",
       "                    if (nbb_cells[i].input_prompt_number == nbb_cell_id) {\n",
       "                        if (nbb_cells[i].get_text() == nbb_unformatted_code) {\n",
       "                             nbb_cells[i].set_text(nbb_formatted_code);\n",
       "                        }\n",
       "                        break;\n",
       "                    }\n",
       "                }\n",
       "            }, 500);\n",
       "            "
      ],
      "text/plain": [
       "<IPython.core.display.Javascript object>"
      ]
     },
     "metadata": {},
     "output_type": "display_data"
    }
   ],
   "source": [
    "res = Parallel(n_jobs=-1, verbose=5)(delayed(partial_func)(**arg) for arg in args)"
   ]
  },
  {
   "cell_type": "code",
   "execution_count": null,
   "metadata": {},
   "outputs": [],
   "source": [
    "cols = [\n",
    "    \"m\",\n",
    "    \"p\",\n",
    "    \"delta\",\n",
    "    *[f\"omni_power_node={i}\" for i in range(block_1 + block_2)],\n",
    "    *[f\"mase_power_node={i}\" for i in range(block_1 + block_2)],\n",
    "]\n",
    "res_df = pd.DataFrame(res, columns=cols)\n",
    "res_df.to_csv(\n",
    "    f\"./results/20200216_weighted_correct_nodes_{task_index}.csv\", index=False\n",
    ")"
   ]
  }
 ],
 "metadata": {
  "kernelspec": {
   "display_name": "Python 3",
   "language": "python",
   "name": "python3"
  },
  "language_info": {
   "codemirror_mode": {
    "name": "ipython",
    "version": 3
   },
   "file_extension": ".py",
   "mimetype": "text/x-python",
   "name": "python",
   "nbconvert_exporter": "python",
   "pygments_lexer": "ipython3",
   "version": "3.7.2"
  }
 },
 "nbformat": 4,
 "nbformat_minor": 2
}
