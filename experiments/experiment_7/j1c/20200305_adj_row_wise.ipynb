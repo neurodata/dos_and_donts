{
 "cells": [
  {
   "cell_type": "code",
   "execution_count": 1,
   "metadata": {},
   "outputs": [
    {
     "data": {
      "application/javascript": [
       "\n",
       "            setTimeout(function() {\n",
       "                var nbb_cell_id = 1;\n",
       "                var nbb_unformatted_code = \"%load_ext nb_black\";\n",
       "                var nbb_formatted_code = \"%load_ext nb_black\";\n",
       "                var nbb_cells = Jupyter.notebook.get_cells();\n",
       "                for (var i = 0; i < nbb_cells.length; ++i) {\n",
       "                    if (nbb_cells[i].input_prompt_number == nbb_cell_id) {\n",
       "                        if (nbb_cells[i].get_text() == nbb_unformatted_code) {\n",
       "                             nbb_cells[i].set_text(nbb_formatted_code);\n",
       "                        }\n",
       "                        break;\n",
       "                    }\n",
       "                }\n",
       "            }, 500);\n",
       "            "
      ],
      "text/plain": [
       "<IPython.core.display.Javascript object>"
      ]
     },
     "metadata": {},
     "output_type": "display_data"
    }
   ],
   "source": [
    "%load_ext nb_black"
   ]
  },
  {
   "cell_type": "code",
   "execution_count": 2,
   "metadata": {},
   "outputs": [
    {
     "name": "stderr",
     "output_type": "stream",
     "text": [
      "/home/ubuntu/env/miniconda3/envs/dnd/lib/python3.8/site-packages/sklearn/utils/deprecation.py:144: FutureWarning: The sklearn.mixture.gaussian_mixture module is  deprecated in version 0.22 and will be removed in version 0.24. The corresponding classes / functions should instead be imported from sklearn.mixture. Anything that cannot be imported from sklearn.mixture is now part of the private API.\n",
      "  warnings.warn(message, FutureWarning)\n"
     ]
    },
    {
     "data": {
      "application/javascript": [
       "\n",
       "            setTimeout(function() {\n",
       "                var nbb_cell_id = 2;\n",
       "                var nbb_unformatted_code = \"from functools import partial\\nfrom itertools import product\\n\\nimport numpy as np\\nimport pandas as pd\\nimport seaborn as sns\\nfrom joblib import Parallel, delayed\\nfrom hyppo.ksample import Hotelling, KSample\\n\\nfrom src import generate_binary_sbms\";\n",
       "                var nbb_formatted_code = \"from functools import partial\\nfrom itertools import product\\n\\nimport numpy as np\\nimport pandas as pd\\nimport seaborn as sns\\nfrom joblib import Parallel, delayed\\nfrom hyppo.ksample import Hotelling, KSample\\n\\nfrom src import generate_binary_sbms\";\n",
       "                var nbb_cells = Jupyter.notebook.get_cells();\n",
       "                for (var i = 0; i < nbb_cells.length; ++i) {\n",
       "                    if (nbb_cells[i].input_prompt_number == nbb_cell_id) {\n",
       "                        if (nbb_cells[i].get_text() == nbb_unformatted_code) {\n",
       "                             nbb_cells[i].set_text(nbb_formatted_code);\n",
       "                        }\n",
       "                        break;\n",
       "                    }\n",
       "                }\n",
       "            }, 500);\n",
       "            "
      ],
      "text/plain": [
       "<IPython.core.display.Javascript object>"
      ]
     },
     "metadata": {},
     "output_type": "display_data"
    }
   ],
   "source": [
    "from functools import partial\n",
    "from itertools import product\n",
    "\n",
    "import numpy as np\n",
    "import pandas as pd\n",
    "import seaborn as sns\n",
    "from joblib import Parallel, delayed\n",
    "from hyppo.ksample import Hotelling, KSample\n",
    "\n",
    "from src import generate_binary_sbms"
   ]
  },
  {
   "cell_type": "code",
   "execution_count": 6,
   "metadata": {},
   "outputs": [
    {
     "data": {
      "application/javascript": [
       "\n",
       "            setTimeout(function() {\n",
       "                var nbb_cell_id = 6;\n",
       "                var nbb_unformatted_code = \"def run_experiment(m, block_1, block_2, p, delta, reps, tests, alpha=0.05,):\\n    total_n = block_1 + block_2\\n\\n    # only do it for relevant nodes\\n    pvals = np.zeros((reps, 2, len(tests)))\\n\\n    for i in range(reps):\\n        X, Y, labels = generate_binary_sbms(m, block_1, block_2, p, delta)\\n        for idx, j in enumerate([0, 19]):\\n            for k, test in enumerate(tests):\\n                X_nodes = np.delete(X[:, j, :], j, axis=1)\\n                Y_nodes = np.delete(Y[:, j, :], j, axis=1)\\n                try:\\n                    res = test.test(X_nodes, Y_nodes, reps=500)\\n                    pvals[i, idx, k] = res[1]\\n                except:\\n                    pvals[i, idx, k] = 1\\n\\n    pvals = (pvals <= (alpha / total_n)).mean(axis=0)\\n    to_append = [m, p, delta, *pvals]\\n\\n    return to_append\";\n",
       "                var nbb_formatted_code = \"def run_experiment(\\n    m, block_1, block_2, p, delta, reps, tests, alpha=0.05,\\n):\\n    total_n = block_1 + block_2\\n\\n    # only do it for relevant nodes\\n    pvals = np.zeros((reps, 2, len(tests)))\\n\\n    for i in range(reps):\\n        X, Y, labels = generate_binary_sbms(m, block_1, block_2, p, delta)\\n        for idx, j in enumerate([0, 19]):\\n            for k, test in enumerate(tests):\\n                X_nodes = np.delete(X[:, j, :], j, axis=1)\\n                Y_nodes = np.delete(Y[:, j, :], j, axis=1)\\n                try:\\n                    res = test.test(X_nodes, Y_nodes, reps=500)\\n                    pvals[i, idx, k] = res[1]\\n                except:\\n                    pvals[i, idx, k] = 1\\n\\n    pvals = (pvals <= (alpha / total_n)).mean(axis=0)\\n    to_append = [m, p, delta, *pvals]\\n\\n    return to_append\";\n",
       "                var nbb_cells = Jupyter.notebook.get_cells();\n",
       "                for (var i = 0; i < nbb_cells.length; ++i) {\n",
       "                    if (nbb_cells[i].input_prompt_number == nbb_cell_id) {\n",
       "                        if (nbb_cells[i].get_text() == nbb_unformatted_code) {\n",
       "                             nbb_cells[i].set_text(nbb_formatted_code);\n",
       "                        }\n",
       "                        break;\n",
       "                    }\n",
       "                }\n",
       "            }, 500);\n",
       "            "
      ],
      "text/plain": [
       "<IPython.core.display.Javascript object>"
      ]
     },
     "metadata": {},
     "output_type": "display_data"
    }
   ],
   "source": [
    "def run_experiment(\n",
    "    m, block_1, block_2, p, delta, reps, tests, alpha=0.05,\n",
    "):\n",
    "    total_n = block_1 + block_2\n",
    "\n",
    "    # only do it for relevant nodes\n",
    "    pvals = np.zeros((reps, 2, len(tests)))\n",
    "\n",
    "    for i in range(reps):\n",
    "        X, Y, labels = generate_binary_sbms(m, block_1, block_2, p, delta)\n",
    "        for idx, j in enumerate([0, 19]):\n",
    "            for k, test in enumerate(tests):\n",
    "                X_nodes = np.delete(X[:, j, :], j, axis=1)\n",
    "                Y_nodes = np.delete(Y[:, j, :], j, axis=1)\n",
    "                try:\n",
    "                    res = test.test(X_nodes, Y_nodes, reps=500)\n",
    "                    pval = res[1]\n",
    "                    if np.isnan(res[1]):\n",
    "                        pval = 1\n",
    "                    pvals[i, idx, k] = res[1]\n",
    "                except:\n",
    "                    pvals[i, idx, k] = 1\n",
    "\n",
    "    powers = np.nanmean(pvals <= (alpha / total_n), axis=0)\n",
    "    to_append = [m, p, delta, *powers.reshape(-1)]\n",
    "\n",
    "    return to_append"
   ]
  },
  {
   "cell_type": "code",
   "execution_count": 5,
   "metadata": {},
   "outputs": [
    {
     "name": "stderr",
     "output_type": "stream",
     "text": [
      "[Parallel(n_jobs=-2)]: Using backend LokyBackend with 63 concurrent workers.\n",
      "[Parallel(n_jobs=-2)]: Done   2 tasks      | elapsed:  4.0min\n",
      "[Parallel(n_jobs=-2)]: Done  74 tasks      | elapsed: 421.6min\n",
      "[Parallel(n_jobs=-2)]: Done 162 tasks      | elapsed: 452.8min\n",
      "[Parallel(n_jobs=-2)]: Done 266 tasks      | elapsed: 874.8min\n",
      "[Parallel(n_jobs=-2)]: Done 386 tasks      | elapsed: 1287.2min\n",
      "[Parallel(n_jobs=-2)]: Done 522 tasks      | elapsed: 1681.8min\n",
      "[Parallel(n_jobs=-2)]: Done 674 tasks      | elapsed: 2103.2min\n",
      "[Parallel(n_jobs=-2)]: Done 842 tasks      | elapsed: 2709.0min\n",
      "[Parallel(n_jobs=-2)]: Done 1026 tasks      | elapsed: 3132.4min\n",
      "[Parallel(n_jobs=-2)]: Done 1226 tasks      | elapsed: 3669.1min\n",
      "[Parallel(n_jobs=-2)]: Done 1442 tasks      | elapsed: 4159.7min\n",
      "[Parallel(n_jobs=-2)]: Done 1674 tasks      | elapsed: 4699.3min\n",
      "[Parallel(n_jobs=-2)]: Done 1922 tasks      | elapsed: 5245.2min\n",
      "[Parallel(n_jobs=-2)]: Done 2186 tasks      | elapsed: 5815.1min\n",
      "[Parallel(n_jobs=-2)]: Done 2550 out of 2550 | elapsed: 6528.6min finished\n"
     ]
    }
   ],
   "source": [
    "# Experiment Parameters\n",
    "# Constants\n",
    "block_1 = 5\n",
    "block_2 = 15\n",
    "p = 0.5\n",
    "reps = 50\n",
    "tests = [KSample(\"MGC\"), Hotelling()]\n",
    "\n",
    "# Varying\n",
    "spacing = 50\n",
    "deltas = np.linspace(0, 1 - p, spacing + 1)\n",
    "ms = np.linspace(0, 500, spacing + 1)[1:]\n",
    "\n",
    "args = [dict(m=m, delta=delta) for m, delta in product(ms, deltas)]\n",
    "args = args[0::2]\n",
    "args = sum(zip(reversed(args), args), ())[: len(args)]\n",
    "\n",
    "partial_func = partial(\n",
    "    run_experiment, block_1=block_1, block_2=block_2, p=p, reps=reps, tests=tests,\n",
    ")\n",
    "\n",
    "res = Parallel(n_jobs=-2, verbose=7)(delayed(partial_func)(**arg) for arg in args)"
   ]
  },
  {
   "cell_type": "code",
   "execution_count": 12,
   "metadata": {},
   "outputs": [],
   "source": [
    "new_res = []\n",
    "\n",
    "for r in res:\n",
    "    constants = r[:3]\n",
    "    results = [b for a in r[5:] for b in a]\n",
    "    new_res.append(constants + results)"
   ]
  },
  {
   "cell_type": "code",
   "execution_count": 17,
   "metadata": {},
   "outputs": [
    {
     "data": {
      "text/plain": [
       "21"
      ]
     },
     "execution_count": 17,
     "metadata": {},
     "output_type": "execute_result"
    }
   ],
   "source": [
    "len(new_res[0])"
   ]
  },
  {
   "cell_type": "code",
   "execution_count": null,
   "metadata": {},
   "outputs": [],
   "source": [
    "cols = ['m', 'p', 'delta', ]"
   ]
  }
 ],
 "metadata": {
  "kernelspec": {
   "display_name": "Python 3",
   "language": "python",
   "name": "python3"
  },
  "language_info": {
   "codemirror_mode": {
    "name": "ipython",
    "version": 3
   },
   "file_extension": ".py",
   "mimetype": "text/x-python",
   "name": "python",
   "nbconvert_exporter": "python",
   "pygments_lexer": "ipython3",
   "version": "3.8.1"
  }
 },
 "nbformat": 4,
 "nbformat_minor": 2
}
