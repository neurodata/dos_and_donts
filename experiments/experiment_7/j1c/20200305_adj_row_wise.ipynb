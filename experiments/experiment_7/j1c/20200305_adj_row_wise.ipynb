{
 "cells": [
  {
   "cell_type": "code",
   "execution_count": 1,
   "metadata": {},
   "outputs": [
    {
     "data": {
      "application/javascript": [
       "\n",
       "            setTimeout(function() {\n",
       "                var nbb_cell_id = 1;\n",
       "                var nbb_unformatted_code = \"%load_ext nb_black\";\n",
       "                var nbb_formatted_code = \"%load_ext nb_black\";\n",
       "                var nbb_cells = Jupyter.notebook.get_cells();\n",
       "                for (var i = 0; i < nbb_cells.length; ++i) {\n",
       "                    if (nbb_cells[i].input_prompt_number == nbb_cell_id) {\n",
       "                        if (nbb_cells[i].get_text() == nbb_unformatted_code) {\n",
       "                             nbb_cells[i].set_text(nbb_formatted_code);\n",
       "                        }\n",
       "                        break;\n",
       "                    }\n",
       "                }\n",
       "            }, 500);\n",
       "            "
      ],
      "text/plain": [
       "<IPython.core.display.Javascript object>"
      ]
     },
     "metadata": {},
     "output_type": "display_data"
    }
   ],
   "source": [
    "%load_ext nb_black"
   ]
  },
  {
   "cell_type": "code",
   "execution_count": 1,
   "metadata": {},
   "outputs": [
    {
     "name": "stderr",
     "output_type": "stream",
     "text": [
      "/home/ubuntu/env/miniconda3/envs/dnd/lib/python3.8/site-packages/sklearn/utils/deprecation.py:144: FutureWarning: The sklearn.mixture.gaussian_mixture module is  deprecated in version 0.22 and will be removed in version 0.24. The corresponding classes / functions should instead be imported from sklearn.mixture. Anything that cannot be imported from sklearn.mixture is now part of the private API.\n",
      "  warnings.warn(message, FutureWarning)\n"
     ]
    }
   ],
   "source": [
    "from functools import partial\n",
    "from itertools import product\n",
    "\n",
    "import numpy as np\n",
    "import pandas as pd\n",
    "import seaborn as sns\n",
    "from joblib import Parallel, delayed\n",
    "from hyppo.ksample import Hotelling, KSample\n",
    "\n",
    "from src import generate_binary_sbms"
   ]
  },
  {
   "cell_type": "code",
   "execution_count": 2,
   "metadata": {},
   "outputs": [],
   "source": [
    "def run_experiment(\n",
    "    m, block_1, block_2, p, delta, reps, tests, alpha=0.05,\n",
    "):\n",
    "    total_n = block_1 + block_2\n",
    "\n",
    "    # only do it for relevant nodes\n",
    "    pvals = np.zeros((reps, 2, len(tests)))\n",
    "\n",
    "    for i in range(reps):\n",
    "        X, Y, labels = generate_binary_sbms(m, block_1, block_2, p, delta)\n",
    "        for idx, j in enumerate([0, 19]):\n",
    "            for k, test in enumerate(tests):\n",
    "                X_nodes = np.delete(X[:, j, :], j, axis=1)\n",
    "                Y_nodes = np.delete(Y[:, j, :], j, axis=1)\n",
    "                try:\n",
    "                    res = test.test(X_nodes, Y_nodes, reps=500)\n",
    "                    pval = res[1]\n",
    "                    if np.isnan(res[1]):\n",
    "                        pval = 1\n",
    "                    pvals[i, idx, k] = res[1]\n",
    "                except:\n",
    "                    pvals[i, idx, k] = 1\n",
    "\n",
    "    powers = np.nanmean(pvals <= (alpha / total_n), axis=0)\n",
    "    to_append = [m, p, delta, *powers.reshape(-1)]\n",
    "\n",
    "    return to_append"
   ]
  },
  {
   "cell_type": "code",
   "execution_count": 3,
   "metadata": {},
   "outputs": [
    {
     "name": "stderr",
     "output_type": "stream",
     "text": [
      "[Parallel(n_jobs=-2)]: Using backend LokyBackend with 95 concurrent workers.\n",
      "[Parallel(n_jobs=-2)]: Done  10 tasks      | elapsed:  2.4min\n",
      "[Parallel(n_jobs=-2)]: Done  98 tasks      | elapsed: 232.6min\n",
      "[Parallel(n_jobs=-2)]: Done 202 tasks      | elapsed: 273.5min\n",
      "[Parallel(n_jobs=-2)]: Done 322 tasks      | elapsed: 446.1min\n",
      "[Parallel(n_jobs=-2)]: Done 541 out of 638 | elapsed: 662.6min remaining: 118.8min\n",
      "[Parallel(n_jobs=-2)]: Done 633 out of 638 | elapsed: 720.4min remaining:  5.7min\n",
      "[Parallel(n_jobs=-2)]: Done 638 out of 638 | elapsed: 726.3min finished\n"
     ]
    }
   ],
   "source": [
    "# Experiment Parameters\n",
    "# Constants\n",
    "block_1 = 5\n",
    "block_2 = 15\n",
    "p = 0.5\n",
    "reps = 50\n",
    "tests = [KSample(\"MGC\"), Hotelling()]\n",
    "\n",
    "# Varying\n",
    "spacing = 50\n",
    "deltas = np.linspace(0, 1 - p, spacing + 1)\n",
    "ms = np.linspace(0, 500, spacing + 1)[1:]\n",
    "\n",
    "args = [dict(m=m, delta=delta) for m, delta in product(ms, deltas)]\n",
    "args = sum(zip(reversed(args), args), ())[: len(args)]\n",
    "\n",
    "partial_func = partial(\n",
    "    run_experiment, block_1=block_1, block_2=block_2, p=p, reps=reps, tests=tests,\n",
    ")\n",
    "\n",
    "res = Parallel(n_jobs=-2, verbose=7)(delayed(partial_func)(**arg) for arg in args)"
   ]
  },
  {
   "cell_type": "code",
   "execution_count": null,
   "metadata": {},
   "outputs": [],
   "source": [
    "cols = ['m', 'p', 'delta', 'mgc_node_1', 'hotelling_node_1', 'mgc_node_20', 'hotelling_node_20']\n",
    "df = pd.DataFrame(res, columns=cols)\n",
    "df.to_csv('./results/20200305_adj_row_wise.csv', index=False)"
   ]
  },
  {
   "cell_type": "code",
   "execution_count": 11,
   "metadata": {},
   "outputs": [],
   "source": [
    "res_df.to_csv('./results/20200305_adj_row_wise.csv')"
   ]
  },
  {
   "cell_type": "code",
   "execution_count": null,
   "metadata": {},
   "outputs": [],
   "source": []
  }
 ],
 "metadata": {
  "kernelspec": {
   "display_name": "Python 3",
   "language": "python",
   "name": "python3"
  },
  "language_info": {
   "codemirror_mode": {
    "name": "ipython",
    "version": 3
   },
   "file_extension": ".py",
   "mimetype": "text/x-python",
   "name": "python",
   "nbconvert_exporter": "python",
   "pygments_lexer": "ipython3",
   "version": "3.8.1"
  }
 },
 "nbformat": 4,
 "nbformat_minor": 2
}
