{
 "cells": [
  {
   "cell_type": "code",
   "execution_count": 1,
   "metadata": {},
   "outputs": [
    {
     "name": "stderr",
     "output_type": "stream",
     "text": [
      "/home/ubuntu/env/miniconda3/envs/dnd/lib/python3.8/site-packages/sklearn/utils/deprecation.py:144: FutureWarning: The sklearn.mixture.gaussian_mixture module is  deprecated in version 0.22 and will be removed in version 0.24. The corresponding classes / functions should instead be imported from sklearn.mixture. Anything that cannot be imported from sklearn.mixture is now part of the private API.\n",
      "  warnings.warn(message, FutureWarning)\n"
     ]
    }
   ],
   "source": [
    "from functools import partial\n",
    "from itertools import product\n",
    "\n",
    "import numpy as np\n",
    "import pandas as pd\n",
    "from graspy.embed import OmnibusEmbed, selectSVD\n",
    "from joblib import Parallel, delayed\n",
    "\n",
    "from hyppo.ksample import KSample\n",
    "\n",
    "from src import generate_binary_sbms"
   ]
  },
  {
   "cell_type": "code",
   "execution_count": 2,
   "metadata": {},
   "outputs": [],
   "source": [
    "def estimate_omnimase(X, Y, n_components, sample_space=True):\n",
    "    graphs = np.vstack([X, Y])\n",
    "    n = X.shape[1]\n",
    "    \n",
    "    omni = OmnibusEmbed(n_components)\n",
    "    omni.fit(graphs)\n",
    "    \n",
    "    Xhat = np.swapaxes(omni.latent_left_, 0, 1).reshape(n, -1)\n",
    "    latent_left, _, _ = selectSVD(Xhat, n_components)\n",
    "    \n",
    "    \n",
    "    if sample_space:\n",
    "        scores = latent_left.T @ graphs @ latent_left\n",
    "        U, D, V = np.linalg.svd(scores)\n",
    "        root_scores = U @ np.stack([np.diag(np.sqrt(diag)) for diag in D]) @ V\n",
    "        embeddings = latent_left @ root_scores\n",
    "        \n",
    "        return embeddings\n",
    "\n",
    "    return latent_left"
   ]
  },
  {
   "cell_type": "code",
   "execution_count": 3,
   "metadata": {},
   "outputs": [],
   "source": [
    "def run_experiment(m, block_1, block_2, p, delta, n_components, reps):\n",
    "    corrects = np.zeros((reps, block_1 + block_2))\n",
    "\n",
    "    for i in np.arange(reps).astype(int):\n",
    "        pop1, pop2, true_labels = generate_binary_sbms(\n",
    "            m=m, block_1=block_1, block_2=block_2, p=p, delta=delta\n",
    "        )\n",
    "\n",
    "        embeddings = estimate_omnimase(\n",
    "            pop1, pop2, n_components, sample_space=True\n",
    "        )\n",
    "        for j, vert in enumerate(range(0, block_1 + block_2, block_1 + block_2 - 1)):\n",
    "            test_stat, pval = KSample(\"Dcorr\").test(\n",
    "                embeddings[:m, vert, :], embeddings[m:, vert, :], reps=200\n",
    "            )\n",
    "            \n",
    "            corrects[i, j] = pval\n",
    "            \n",
    "    corrects = (corrects <= 0.05).mean(axis=0)\n",
    "\n",
    "    to_append = [m, p, delta, *corrects]\n",
    "    return to_append"
   ]
  },
  {
   "cell_type": "code",
   "execution_count": 4,
   "metadata": {},
   "outputs": [],
   "source": [
    "spacing = 50\n",
    "\n",
    "block_1 = 5  # different probability\n",
    "block_2 = 15\n",
    "p = 0.5\n",
    "deltas = np.linspace(0, 1 - p, spacing + 1)\n",
    "n_components = 2\n",
    "reps = 25\n",
    "ms = np.linspace(0, 500, spacing + 1)[1:].astype(int)\n",
    "\n",
    "partial_func = partial(\n",
    "    run_experiment,\n",
    "    block_1=block_1,\n",
    "    block_2=block_2,\n",
    "    p=p,\n",
    "    reps=reps,\n",
    "    n_components=n_components,\n",
    ")\n",
    "\n",
    "args = [dict(m=m, delta=delta) for m, delta in product(ms, deltas)]\n",
    "args = sum(zip(reversed(args), args), ())[: len(args)]"
   ]
  },
  {
   "cell_type": "code",
   "execution_count": 5,
   "metadata": {},
   "outputs": [
    {
     "name": "stderr",
     "output_type": "stream",
     "text": [
      "[Parallel(n_jobs=-1)]: Using backend LokyBackend with 128 concurrent workers.\n",
      "[Parallel(n_jobs=-1)]: Done  32 tasks      | elapsed:   28.9s\n",
      "[Parallel(n_jobs=-1)]: Done 194 tasks      | elapsed: 80.4min\n",
      "[Parallel(n_jobs=-1)]: Done 392 tasks      | elapsed: 142.9min\n",
      "[Parallel(n_jobs=-1)]: Done 626 tasks      | elapsed: 160.6min\n",
      "[Parallel(n_jobs=-1)]: Done 896 tasks      | elapsed: 249.9min\n",
      "[Parallel(n_jobs=-1)]: Done 1202 tasks      | elapsed: 314.2min\n",
      "[Parallel(n_jobs=-1)]: Done 1544 tasks      | elapsed: 368.1min\n",
      "[Parallel(n_jobs=-1)]: Done 1922 tasks      | elapsed: 433.9min\n",
      "[Parallel(n_jobs=-1)]: Done 2550 out of 2550 | elapsed: 519.1min finished\n"
     ]
    }
   ],
   "source": [
    "res = Parallel(n_jobs=-1, verbose=5)(delayed(partial_func)(**arg) for arg in args)"
   ]
  },
  {
   "cell_type": "code",
   "execution_count": 14,
   "metadata": {},
   "outputs": [],
   "source": [
    "res_arr = np.array(res)[:, :5]"
   ]
  },
  {
   "cell_type": "code",
   "execution_count": 16,
   "metadata": {},
   "outputs": [],
   "source": [
    "df = pd.DataFrame(res_arr, columns=['m', 'p', 'delta', 'correct', 'incorrect'])"
   ]
  },
  {
   "cell_type": "code",
   "execution_count": 17,
   "metadata": {},
   "outputs": [
    {
     "data": {
      "text/html": [
       "<div>\n",
       "<style scoped>\n",
       "    .dataframe tbody tr th:only-of-type {\n",
       "        vertical-align: middle;\n",
       "    }\n",
       "\n",
       "    .dataframe tbody tr th {\n",
       "        vertical-align: top;\n",
       "    }\n",
       "\n",
       "    .dataframe thead th {\n",
       "        text-align: right;\n",
       "    }\n",
       "</style>\n",
       "<table border=\"1\" class=\"dataframe\">\n",
       "  <thead>\n",
       "    <tr style=\"text-align: right;\">\n",
       "      <th></th>\n",
       "      <th>m</th>\n",
       "      <th>p</th>\n",
       "      <th>delta</th>\n",
       "      <th>correct</th>\n",
       "      <th>incorrect</th>\n",
       "    </tr>\n",
       "  </thead>\n",
       "  <tbody>\n",
       "    <tr>\n",
       "      <th>0</th>\n",
       "      <td>500.0</td>\n",
       "      <td>0.5</td>\n",
       "      <td>0.50</td>\n",
       "      <td>1.00</td>\n",
       "      <td>1.00</td>\n",
       "    </tr>\n",
       "    <tr>\n",
       "      <th>1</th>\n",
       "      <td>10.0</td>\n",
       "      <td>0.5</td>\n",
       "      <td>0.00</td>\n",
       "      <td>0.04</td>\n",
       "      <td>0.04</td>\n",
       "    </tr>\n",
       "    <tr>\n",
       "      <th>2</th>\n",
       "      <td>500.0</td>\n",
       "      <td>0.5</td>\n",
       "      <td>0.49</td>\n",
       "      <td>1.00</td>\n",
       "      <td>1.00</td>\n",
       "    </tr>\n",
       "    <tr>\n",
       "      <th>3</th>\n",
       "      <td>10.0</td>\n",
       "      <td>0.5</td>\n",
       "      <td>0.01</td>\n",
       "      <td>0.16</td>\n",
       "      <td>0.12</td>\n",
       "    </tr>\n",
       "    <tr>\n",
       "      <th>4</th>\n",
       "      <td>500.0</td>\n",
       "      <td>0.5</td>\n",
       "      <td>0.48</td>\n",
       "      <td>1.00</td>\n",
       "      <td>1.00</td>\n",
       "    </tr>\n",
       "  </tbody>\n",
       "</table>\n",
       "</div>"
      ],
      "text/plain": [
       "       m    p  delta  correct  incorrect\n",
       "0  500.0  0.5   0.50     1.00       1.00\n",
       "1   10.0  0.5   0.00     0.04       0.04\n",
       "2  500.0  0.5   0.49     1.00       1.00\n",
       "3   10.0  0.5   0.01     0.16       0.12\n",
       "4  500.0  0.5   0.48     1.00       1.00"
      ]
     },
     "execution_count": 17,
     "metadata": {},
     "output_type": "execute_result"
    }
   ],
   "source": [
    "df.head()"
   ]
  },
  {
   "cell_type": "code",
   "execution_count": 18,
   "metadata": {},
   "outputs": [],
   "source": [
    "df.to_csv(\"./results/20200313_omnimase.csv\", index=False)"
   ]
  },
  {
   "cell_type": "code",
   "execution_count": null,
   "metadata": {},
   "outputs": [],
   "source": []
  }
 ],
 "metadata": {
  "kernelspec": {
   "display_name": "Python 3",
   "language": "python",
   "name": "python3"
  },
  "language_info": {
   "codemirror_mode": {
    "name": "ipython",
    "version": 3
   },
   "file_extension": ".py",
   "mimetype": "text/x-python",
   "name": "python",
   "nbconvert_exporter": "python",
   "pygments_lexer": "ipython3",
   "version": "3.8.1"
  }
 },
 "nbformat": 4,
 "nbformat_minor": 4
}
