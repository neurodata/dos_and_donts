{
 "cells": [
  {
   "cell_type": "code",
   "execution_count": 71,
   "metadata": {},
   "outputs": [],
   "source": [
    "from itertools import product\n",
    "import graspy as gp\n",
    "import numpy as np\n",
    "from hyppo.ksample import KSample\n",
    "from scipy.stats import foldnorm, truncnorm\n",
    "\n",
    "import matplotlib.pyplot as plt\n",
    "import seaborn as sns\n",
    "\n",
    "from src import estimate_embeddings\n",
    "%matplotlib inline"
   ]
  },
  {
   "cell_type": "code",
   "execution_count": 4,
   "metadata": {},
   "outputs": [],
   "source": [
    "def generate_2_block_dirichlet(alpha_1, alpha_2, block_size):\n",
    "    X = np.random.dirichlet(alpha_1, block_size)\n",
    "    Y = np.random.dirichlet(alpha_2, block_size)\n",
    "    out = np.vstack([X, Y])\n",
    "    \n",
    "    return out\n",
    "\n",
    "def generate_graphs(latent_positions, num_graphs):\n",
    "    pmat = gp.simulations.p_from_latent(latent_positions, loops=False)\n",
    "    graphs = np.array([gp.simulations.sample_edges(pmat, loops=False) for _ in range(num_graphs)])\n",
    "    return graphs\n",
    "\n",
    "def generate_dirichlet_graphs(alpha_1, alpha_2, block_size, num_graphs, resample_latent=True):\n",
    "    if resample_latent:\n",
    "        X = []\n",
    "        Y = []\n",
    "        \n",
    "        for _ in range(num_graphs):\n",
    "            latent_positions_1 = generate_2_block_dirichlet(alpha_1, alpha_1, block_size)\n",
    "            latent_positions_2 = generate_2_block_dirichlet(alpha_1, alpha_2, block_size)\n",
    "\n",
    "            X.append(generate_graphs(latent_positions_1, 1))\n",
    "            Y.append(generate_graphs(latent_positions_2, 1))\n",
    "            \n",
    "        X = np.vstack(X)\n",
    "        Y = np.vstack(Y) \n",
    "    else:\n",
    "        latent_positions_1 = generate_2_block_dirichlet(alpha_1, alpha_1, block_size)\n",
    "        latent_positions_2 = generate_2_block_dirichlet(alpha_1, alpha_2, block_size)\n",
    "        \n",
    "        X = generate_graphs(latent_positions_1, num_graphs)\n",
    "        Y = generate_graphs(latent_positions_2, num_graphs)\n",
    "\n",
    "    return X, Y"
   ]
  },
  {
   "cell_type": "code",
   "execution_count": 69,
   "metadata": {},
   "outputs": [],
   "source": [
    "def experiment(m, n, effect_size, reps=25):\n",
    "    block_size = n // 2\n",
    "    m_per_pop = m // 2\n",
    "    \n",
    "    alpha_1 = [1, 1]\n",
    "    alpha_2 = [1, 1 + effect_size]\n",
    "    \n",
    "    pvals = np.zeros((reps, 2, n))\n",
    "\n",
    "    for i in range(reps):\n",
    "        X, Y = generate_dirichlet_graphs(alpha_1, alpha_2, block_size, m_per_pop)\n",
    "\n",
    "        for j, method in enumerate(['omni', 'mase']):\n",
    "            embeddings = estimate_embeddings(X, Y, method, 2, sample_space=True)\n",
    "            Xhat = embeddings[:m_per_pop]\n",
    "            Yhat = embeddings[m_per_pop:]\n",
    "            print(Xhat.shape, Yhat.shape)\n",
    "            for node in range(n):\n",
    "                test = KSample(\"Dcorr\").test(Xhat[:, node, :], Yhat[:, node, :], auto=True)\n",
    "                pvals[i, j, node] = test[1]\n",
    "                \n",
    "    pvals = pvals.mean(axis=0)\n",
    "    avg_pval_1 = pvals[:, :block_size].mean(axis=1)\n",
    "    avg_pval_2 = pvals[:, block_size:].mean(axis=1)\n",
    "\n",
    "    to_append = [m, n, effect_size, *avg_pval_1, *avg_pval_2]\n",
    "    return to_append"
   ]
  },
  {
   "cell_type": "code",
   "execution_count": 84,
   "metadata": {},
   "outputs": [],
   "source": [
    "ms = np.linspace(0, 200, 11)[1:]\n",
    "ns = np.linspace(0, 200, 11)[1:]\n",
    "effect_sizes = [0, 0.2, 10]\n",
    "\n",
    "args = [dict(m=m, n=n, effect_size=effect_size) for m, n, effect_size in product(ms, ns, effect_sizes)]\n",
    "args = sum(zip(reversed(args), args), ())[: len(args)]"
   ]
  },
  {
   "cell_type": "code",
   "execution_count": null,
   "metadata": {},
   "outputs": [],
   "source": [
    "res = Parallel(-1, 4)(delayed(experiment)(**arg) for arg in args)"
   ]
  }
 ],
 "metadata": {
  "kernelspec": {
   "display_name": "Python 3",
   "language": "python",
   "name": "python3"
  },
  "language_info": {
   "codemirror_mode": {
    "name": "ipython",
    "version": 3
   },
   "file_extension": ".py",
   "mimetype": "text/x-python",
   "name": "python",
   "nbconvert_exporter": "python",
   "pygments_lexer": "ipython3",
   "version": "3.8.1"
  }
 },
 "nbformat": 4,
 "nbformat_minor": 4
}
