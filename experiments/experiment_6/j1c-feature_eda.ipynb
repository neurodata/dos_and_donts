{
 "cells": [
  {
   "cell_type": "code",
   "execution_count": 47,
   "metadata": {},
   "outputs": [],
   "source": [
    "import numpy as np\n",
    "import pandas as pd\n",
    "import matplotlib.pyplot as plt\n",
    "from matplotlib.animation import FuncAnimation\n",
    "import networkx as nx\n",
    "import seaborn as sns\n",
    "\n",
    "from tqdm import tqdm_notebook as tqdm\n",
    "\n",
    "from joblib import Parallel, delayed"
   ]
  },
  {
   "cell_type": "code",
   "execution_count": null,
   "metadata": {},
   "outputs": [],
   "source": [
    "df = pd.read_pickle('./j1c-features.pkl', compression='gzip')\n",
    "\n",
    "for col in df.columns:\n",
    "    if np.issubdtype(df[col].dtype, np.floating):\n",
    "        df[col] = df[col].astype(np.float32)\n",
    "\n",
    "df = df.drop('diameter', 1)\n",
    "df = df.drop('degree_assortativity', 1)\n",
    "df = df.dropna()"
   ]
  },
  {
   "cell_type": "code",
   "execution_count": 2,
   "metadata": {},
   "outputs": [],
   "source": [
    "df = pd.read_pickle('./data/j1c-features-cleaned.pkl', compression='gzip')"
   ]
  },
  {
   "cell_type": "code",
   "execution_count": 3,
   "metadata": {},
   "outputs": [],
   "source": [
    "graphs = nx.read_graph6('./data/graph10.g6')"
   ]
  },
  {
   "cell_type": "code",
   "execution_count": 4,
   "metadata": {},
   "outputs": [],
   "source": [
    "graph_array = np.load('./data/vectorized_graphs.npz')['arr_0']"
   ]
  },
  {
   "cell_type": "code",
   "execution_count": 14,
   "metadata": {},
   "outputs": [],
   "source": [
    "def hexbin(\n",
    "    df,\n",
    "    ordering,\n",
    "    x_col=\"modularity\",\n",
    "    gridsize=40,\n",
    "    cmap=\"Blues\",\n",
    "    bins=\"log\",\n",
    "    title=None,\n",
    "    savefig=None,\n",
    "):\n",
    "    xlabel = ordering[x_col]\n",
    "    ordering = {key:val for key, val in ordering.items() if key != x_col}\n",
    "\n",
    "    ncols = 3\n",
    "    nrows = int(np.ceil(len(ordering) / ncols))\n",
    "    figsize = (4*nrows, 3*ncols)\n",
    "\n",
    "    fig, ax = plt.subplots(ncols=ncols, nrows=nrows, figsize=figsize, sharex=True)\n",
    "    ax = ax.ravel()\n",
    "\n",
    "    for idx, (col, y_label) in enumerate(ordering.items()):\n",
    "        ax[idx].hexbin(\n",
    "            x=df[x_col], y=df[col], cmap=cmap, gridsize=gridsize, bins=bins\n",
    "        )\n",
    "        sns.despine(ax=ax[idx])\n",
    "        # ax[idx].set_xlabel('Modularity', fontsize=20)\n",
    "        ax[idx].set_ylabel(y_label, fontsize=20)\n",
    "\n",
    "    for i in range(1, 4):\n",
    "        ax[-i].set_xlabel(xlabel, fontsize=20)\n",
    "\n",
    "    if len(ordering) != (ncols * nrows):\n",
    "        for i in range(1, len(ax) - len(ordering) + 1):\n",
    "            fig.delaxes(ax[-i])\n",
    "\n",
    "    fig.tight_layout()\n",
    "    \n",
    "    if title is not None:\n",
    "        fig.suptitle(title, y=1.02, fontsize=30)\n",
    "\n",
    "    if savefig is not None:\n",
    "        fig.savefig(f\"{savefig}.pdf\", dpi=300, bbox_inches='tight')\n",
    "    \n",
    "    plt.close()"
   ]
  },
  {
   "cell_type": "code",
   "execution_count": 19,
   "metadata": {},
   "outputs": [],
   "source": [
    "ORDERING = dict(\n",
    "    # num_edges = \"# Edges\",\n",
    "    density=\"Density\",\n",
    "    # total_triangles = '# Triangles',\n",
    "    triangle_ratio=\"Triangle Ratio\",\n",
    "    # is_planar=\"Is Planar Graph?\",\n",
    "    avg_shortest_path_length=\"Avg Shortest Path\",\n",
    "    global_clustering_coefficient=\"Global Clustering\",\n",
    "    avg_clustering_coefficient=\"Avg Clustering\",\n",
    "    # square_clustering=\"Square Clustering\",\n",
    "    global_efficiency=\"Global Efficiency\",\n",
    "    local_efficiency=\"Local Efficiency\",\n",
    "    # degree_assortativity = \"Degree Assortativity\",\n",
    "    # diameter = 'Diameter',\n",
    "    node_connectivity=\"Node Connectivity\",\n",
    "    modularity=\"Modularity\",\n",
    ")"
   ]
  },
  {
   "cell_type": "code",
   "execution_count": 15,
   "metadata": {},
   "outputs": [],
   "source": [
    "hexbin(df, ORDERING, savefig=\"./figures/j1c-all-graphs-hexbin\")"
   ]
  },
  {
   "cell_type": "code",
   "execution_count": 20,
   "metadata": {
    "scrolled": false
   },
   "outputs": [
    {
     "name": "stderr",
     "output_type": "stream",
     "text": [
      "/home/j1c/graphstats/venv/lib/python3.6/site-packages/ipykernel_launcher.py:12: FutureWarning: \n",
      "Passing list-likes to .loc or [] with any missing label will raise\n",
      "KeyError in the future, you can use .reindex() as an alternative.\n",
      "\n",
      "See the documentation here:\n",
      "https://pandas.pydata.org/pandas-docs/stable/indexing.html#deprecate-loc-reindex-listlike\n",
      "  if sys.path[0] == '':\n"
     ]
    }
   ],
   "source": [
    "np.random.seed(1)\n",
    "\n",
    "#df_ = df.reset_index(drop=True)\n",
    "\n",
    "for num_edge in np.unique(df.num_edges):\n",
    "    tmp = df[df.num_edges == num_edge]\n",
    "    \n",
    "    random_idx = np.random.choice(tmp.index)\n",
    "    norms = np.linalg.norm(graph_array - graph_array[random_idx], axis=1)\n",
    "    \n",
    "    mask = np.arange(1, graph_array.shape[0]+1)[norms <= 3]\n",
    "    tmp = df.loc[mask]\n",
    "\n",
    "    hexbin(\n",
    "        tmp, \n",
    "        ORDERING, \n",
    "        title=f\"Base Graph Edges={num_edge}, Threshold=3, n={tmp.shape[0]}\", \n",
    "        savefig=f\"./figures/norm_threshold/j1c_hexbin_{num_edge:02d}_base\"\n",
    "    )"
   ]
  },
  {
   "cell_type": "code",
   "execution_count": 16,
   "metadata": {},
   "outputs": [
    {
     "data": {
      "text/plain": [
       "(12005168, 45)"
      ]
     },
     "execution_count": 16,
     "metadata": {},
     "output_type": "execute_result"
    }
   ],
   "source": [
    "graph_array.shape"
   ]
  },
  {
   "cell_type": "code",
   "execution_count": 17,
   "metadata": {},
   "outputs": [
    {
     "data": {
      "text/plain": [
       "(12005167, 13)"
      ]
     },
     "execution_count": 17,
     "metadata": {},
     "output_type": "execute_result"
    }
   ],
   "source": [
    "df.shape"
   ]
  },
  {
   "cell_type": "code",
   "execution_count": 53,
   "metadata": {},
   "outputs": [
    {
     "data": {
      "text/plain": [
       "array([], dtype=int64)"
      ]
     },
     "execution_count": 53,
     "metadata": {},
     "output_type": "execute_result"
    }
   ],
   "source": [
    "np.arange(-3,)"
   ]
  },
  {
   "cell_type": "code",
   "execution_count": 61,
   "metadata": {},
   "outputs": [],
   "source": [
    "def histogram(X, ax, bins=20, log=True, title = None):    \n",
    "    ax.hist(X, bins=bins, log=log)\n",
    "\n",
    "    if title is not None:\n",
    "        ax.set_title(title, fontsize=14)\n",
    "\n",
    "def run_hist(num_edge):\n",
    "    tmp = df[df.num_edges == num_edge]\n",
    "\n",
    "    random_idx = np.random.choice(tmp.index)\n",
    "    norms = np.linalg.norm(graph_array - graph_array[random_idx], axis=1)\n",
    "    \n",
    "    # start fig\n",
    "    ncols = 3\n",
    "    nrows = int(np.ceil((len(ORDERING) + 1) / ncols))\n",
    "    figsize = (4*nrows, 3*ncols)\n",
    "    fig, ax = plt.subplots(ncols=ncols, nrows=nrows, figsize=figsize, sharex=True)\n",
    "    ax = ax.ravel()\n",
    "    \n",
    "    fig.suptitle(f\"Base Graph Edges={num_edge}\", y=1.03, fontsize=25)\n",
    "    \n",
    "    histogram(norms, ax[0], title=\"No Thresholding\")\n",
    "    ax[0].set_ylabel(\"Frequency\", fontsize=15)\n",
    "    \n",
    "    for idx, (col, title) in enumerate(ORDERING.items()):\n",
    "        idx += 1\n",
    "        \n",
    "        uniques, counts = np.unique(df[col], return_counts=True)\n",
    "        mode = uniques[np.argmax(counts)]\n",
    "        \n",
    "        subset = df[df[col] == mode].index\n",
    "        norms_tmp = norms[subset]\n",
    "        \n",
    "        histogram(\n",
    "            norms_tmp, \n",
    "            ax[idx],\n",
    "            title=f\"{title}={mode:.2f}, n={len(norms_tmp)}\"\n",
    "        )\n",
    "        \n",
    "        if idx % 3 == 0:\n",
    "            ax[idx].set_ylabel(\"Frequency\", fontsize=12)\n",
    "    \n",
    "    for i in np.arange(-3, 0):\n",
    "        ax[i].set_xlabel(\"Euclidean Distance\", fontsize=12)\n",
    "\n",
    "    fig.tight_layout()\n",
    "    \n",
    "    fname=f\"./figures/feature_threshold/j1c_histogram_{num_edge:02d}_base\"\n",
    "    fig.savefig(f\"{fname}.pdf\", dpi=300, bbox_inches='tight')\n",
    "    fig.savefig(f\"{fname}.png\", dpi=100, bbox_inches='tight')\n",
    "\n",
    "    \n",
    "    plt.close('all')"
   ]
  },
  {
   "cell_type": "code",
   "execution_count": 62,
   "metadata": {},
   "outputs": [
    {
     "name": "stderr",
     "output_type": "stream",
     "text": [
      "[Parallel(n_jobs=12)]: Using backend LokyBackend with 12 concurrent workers.\n",
      "[Parallel(n_jobs=12)]: Done  45 out of  45 | elapsed:  1.4min finished\n"
     ]
    }
   ],
   "source": [
    "np.random.seed(1)\n",
    "\n",
    "ORDERING = dict(\n",
    "    # num_edges = \"# Edges\",\n",
    "    density=\"Density\",\n",
    "    # total_triangles = '# Triangles',\n",
    "    triangle_ratio=\"Triangle Ratio\",\n",
    "    # is_planar=\"Is Planar Graph?\",\n",
    "    avg_shortest_path_length=\"Avg Shortest Path\",\n",
    "    global_clustering_coefficient=\"Global Clustering\",\n",
    "    avg_clustering_coefficient=\"Avg Clustering\",\n",
    "    # square_clustering=\"Square Clustering\",\n",
    "    global_efficiency=\"Global Efficiency\",\n",
    "    local_efficiency=\"Local Efficiency\",\n",
    "    # degree_assortativity = \"Degree Assortativity\",\n",
    "    # diameter = 'Diameter',\n",
    "    # node_connectivity=\"Node Connectivity\",\n",
    "    modularity=\"Modularity\",\n",
    ")\n",
    "\n",
    "_ = Parallel(n_jobs=12, verbose=1)(delayed(run_hist)(n) for n in np.unique(df.num_edges))"
   ]
  },
  {
   "cell_type": "code",
   "execution_count": null,
   "metadata": {},
   "outputs": [],
   "source": []
  }
 ],
 "metadata": {
  "kernelspec": {
   "display_name": "Python 3",
   "language": "python",
   "name": "python3"
  },
  "language_info": {
   "codemirror_mode": {
    "name": "ipython",
    "version": 3
   },
   "file_extension": ".py",
   "mimetype": "text/x-python",
   "name": "python",
   "nbconvert_exporter": "python",
   "pygments_lexer": "ipython3",
   "version": "3.6.6"
  }
 },
 "nbformat": 4,
 "nbformat_minor": 2
}
