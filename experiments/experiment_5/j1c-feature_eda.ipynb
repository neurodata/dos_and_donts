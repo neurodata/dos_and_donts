{
 "cells": [
  {
   "cell_type": "code",
   "execution_count": 54,
   "metadata": {},
   "outputs": [],
   "source": [
    "import numpy as np\n",
    "import pandas as pd\n",
    "import matplotlib.pyplot as plt\n",
    "import networkx as nx\n",
    "\n",
    "from itertools import product"
   ]
  },
  {
   "cell_type": "code",
   "execution_count": 2,
   "metadata": {},
   "outputs": [],
   "source": [
    "df = pd.read_pickle('./j1c-features.pkl', compression='gzip')"
   ]
  },
  {
   "cell_type": "code",
   "execution_count": 3,
   "metadata": {},
   "outputs": [
    {
     "data": {
      "text/plain": [
       "num_edges                             0\n",
       "is_planar                             0\n",
       "total_triangles                       0\n",
       "triangle_ratio                        0\n",
       "avg_shortest_path_length              1\n",
       "global_clustering_coefficient         0\n",
       "avg_clustering_coefficient            0\n",
       "diameter                         288597\n",
       "square_clustering                     0\n",
       "degree_assortativity                240\n",
       "density                               0\n",
       "node_connectivity                     0\n",
       "global_efficiency                     0\n",
       "local_efficiency                      0\n",
       "modularity                            1\n",
       "dtype: int64"
      ]
     },
     "execution_count": 3,
     "metadata": {},
     "output_type": "execute_result"
    }
   ],
   "source": [
    "df.isna().sum(axis=0)"
   ]
  },
  {
   "cell_type": "code",
   "execution_count": 4,
   "metadata": {
    "scrolled": true
   },
   "outputs": [
    {
     "data": {
      "text/plain": [
       "num_edges                          int64\n",
       "is_planar                           bool\n",
       "total_triangles                    int64\n",
       "triangle_ratio                   float64\n",
       "avg_shortest_path_length         float64\n",
       "global_clustering_coefficient    float64\n",
       "avg_clustering_coefficient       float64\n",
       "diameter                         float64\n",
       "square_clustering                float64\n",
       "degree_assortativity             float64\n",
       "density                          float64\n",
       "node_connectivity                  int64\n",
       "global_efficiency                float64\n",
       "local_efficiency                 float64\n",
       "modularity                       float64\n",
       "dtype: object"
      ]
     },
     "execution_count": 4,
     "metadata": {},
     "output_type": "execute_result"
    }
   ],
   "source": [
    "df.dtypes"
   ]
  },
  {
   "cell_type": "code",
   "execution_count": 5,
   "metadata": {},
   "outputs": [
    {
     "data": {
      "text/plain": [
       "num_edges                              46\n",
       "is_planar                               2\n",
       "total_triangles                       102\n",
       "triangle_ratio                        102\n",
       "avg_shortest_path_length              232\n",
       "global_clustering_coefficient        2428\n",
       "avg_clustering_coefficient          16632\n",
       "diameter                                9\n",
       "square_clustering                11769473\n",
       "degree_assortativity               486504\n",
       "density                                46\n",
       "node_connectivity                      10\n",
       "global_efficiency                    3129\n",
       "local_efficiency                    97902\n",
       "modularity                          14954\n",
       "dtype: int64"
      ]
     },
     "execution_count": 5,
     "metadata": {},
     "output_type": "execute_result"
    }
   ],
   "source": [
    "df.nunique()"
   ]
  },
  {
   "cell_type": "code",
   "execution_count": 3,
   "metadata": {},
   "outputs": [],
   "source": [
    "for col in df.columns:\n",
    "    if np.issubdtype(df[col].dtype, np.floating):\n",
    "        df[col] = df[col].astype(np.float32)"
   ]
  },
  {
   "cell_type": "code",
   "execution_count": 9,
   "metadata": {},
   "outputs": [
    {
     "data": {
      "text/plain": [
       "num_edges                          int64\n",
       "is_planar                           bool\n",
       "total_triangles                    int64\n",
       "triangle_ratio                   float32\n",
       "avg_shortest_path_length         float32\n",
       "global_clustering_coefficient    float32\n",
       "avg_clustering_coefficient       float32\n",
       "diameter                         float32\n",
       "square_clustering                float32\n",
       "degree_assortativity             float32\n",
       "density                          float32\n",
       "node_connectivity                  int64\n",
       "global_efficiency                float32\n",
       "local_efficiency                 float32\n",
       "modularity                       float32\n",
       "dtype: object"
      ]
     },
     "execution_count": 9,
     "metadata": {},
     "output_type": "execute_result"
    }
   ],
   "source": [
    "df.dtypes"
   ]
  },
  {
   "cell_type": "code",
   "execution_count": 11,
   "metadata": {},
   "outputs": [
    {
     "name": "stdout",
     "output_type": "stream",
     "text": [
      "num_edges\t46\n",
      "is_planar\t2\n",
      "total_triangles\t102\n",
      "triangle_ratio\t102\n",
      "avg_shortest_path_length\t233\n",
      "global_clustering_coefficient\t2428\n",
      "avg_clustering_coefficient\t5877\n",
      "diameter\t288606\n",
      "square_clustering\t8033386\n",
      "degree_assortativity\t85696\n",
      "density\t46\n",
      "node_connectivity\t10\n",
      "global_efficiency\t1175\n",
      "local_efficiency\t42624\n",
      "modularity\t2276\n"
     ]
    }
   ],
   "source": [
    "for col in df.columns:\n",
    "    print(col + '\\t' + str(np.unique(df[col]).size))"
   ]
  },
  {
   "cell_type": "code",
   "execution_count": 5,
   "metadata": {},
   "outputs": [],
   "source": [
    "df_ = df.drop(['diameter', 'square_clustering'], axis=1)"
   ]
  },
  {
   "cell_type": "code",
   "execution_count": 24,
   "metadata": {
    "scrolled": false
   },
   "outputs": [
    {
     "data": {
      "text/plain": [
       "(array([1.000000e+00, 0.000000e+00, 1.000000e+00, 0.000000e+00,\n",
       "        1.000000e+00, 1.000000e+00, 2.000000e+00, 1.000000e+00,\n",
       "        2.000000e+00, 1.000000e+00, 2.000000e+00, 6.000000e+00,\n",
       "        4.000000e+00, 6.000000e+00, 6.000000e+00, 9.000000e+00,\n",
       "        1.400000e+01, 1.700000e+01, 1.800000e+01, 6.000000e+00,\n",
       "        2.500000e+01, 2.800000e+01, 4.300000e+01, 4.100000e+01,\n",
       "        5.900000e+01, 7.100000e+01, 7.400000e+01, 9.800000e+01,\n",
       "        1.180000e+02, 6.700000e+01, 1.630000e+02, 1.800000e+02,\n",
       "        2.570000e+02, 2.570000e+02, 3.620000e+02, 4.560000e+02,\n",
       "        4.490000e+02, 6.460000e+02, 6.630000e+02, 4.690000e+02,\n",
       "        9.630000e+02, 1.098000e+03, 1.405000e+03, 1.352000e+03,\n",
       "        2.114000e+03, 2.606000e+03, 2.333000e+03, 3.721000e+03,\n",
       "        4.248000e+03, 3.087000e+03, 5.580000e+03, 6.702000e+03,\n",
       "        8.741000e+03, 9.646000e+03, 1.365700e+04, 1.946900e+04,\n",
       "        1.889400e+04, 2.996500e+04, 3.861700e+04, 3.494700e+04,\n",
       "        5.498500e+04, 6.390100e+04, 8.568600e+04, 8.977400e+04,\n",
       "        1.310440e+05, 1.899970e+05, 1.983790e+05, 3.231110e+05,\n",
       "        4.299360e+05, 3.958240e+05, 6.766320e+05, 8.414110e+05,\n",
       "        1.014729e+06, 6.747600e+05, 1.114622e+06, 1.150642e+06,\n",
       "        1.014291e+06, 1.031326e+06, 8.158370e+05, 1.050200e+05,\n",
       "        5.317630e+05, 3.652900e+05, 2.294060e+05, 1.302410e+05,\n",
       "        7.111100e+04, 3.460100e+04, 1.574900e+04, 6.756000e+03,\n",
       "        2.768000e+03, 4.000000e+00, 1.098000e+03, 4.280000e+02,\n",
       "        1.650000e+02, 6.600000e+01, 2.600000e+01, 1.100000e+01,\n",
       "        5.000000e+00, 2.000000e+00, 1.000000e+00, 1.000000e+00]),\n",
       " array([0.  , 0.01, 0.02, 0.03, 0.04, 0.05, 0.06, 0.07, 0.08, 0.09, 0.1 ,\n",
       "        0.11, 0.12, 0.13, 0.14, 0.15, 0.16, 0.17, 0.18, 0.19, 0.2 , 0.21,\n",
       "        0.22, 0.23, 0.24, 0.25, 0.26, 0.27, 0.28, 0.29, 0.3 , 0.31, 0.32,\n",
       "        0.33, 0.34, 0.35, 0.36, 0.37, 0.38, 0.39, 0.4 , 0.41, 0.42, 0.43,\n",
       "        0.44, 0.45, 0.46, 0.47, 0.48, 0.49, 0.5 , 0.51, 0.52, 0.53, 0.54,\n",
       "        0.55, 0.56, 0.57, 0.58, 0.59, 0.6 , 0.61, 0.62, 0.63, 0.64, 0.65,\n",
       "        0.66, 0.67, 0.68, 0.69, 0.7 , 0.71, 0.72, 0.73, 0.74, 0.75, 0.76,\n",
       "        0.77, 0.78, 0.79, 0.8 , 0.81, 0.82, 0.83, 0.84, 0.85, 0.86, 0.87,\n",
       "        0.88, 0.89, 0.9 , 0.91, 0.92, 0.93, 0.94, 0.95, 0.96, 0.97, 0.98,\n",
       "        0.99, 1.  ], dtype=float32),\n",
       " <a list of 100 Patch objects>)"
      ]
     },
     "execution_count": 24,
     "metadata": {},
     "output_type": "execute_result"
    },
    {
     "data": {
      "image/png": "[encoded data removed]",
      "text/plain": [
       "<Figure size 432x288 with 1 Axes>"
      ]
     },
     "metadata": {
      "needs_background": "light"
     },
     "output_type": "display_data"
    }
   ],
   "source": [
    "plt.hist(df.global_efficiency, bins=100)"
   ]
  },
  {
   "cell_type": "code",
   "execution_count": 26,
   "metadata": {},
   "outputs": [],
   "source": [
    "uniques, counts = np.unique(df.global_efficiency, return_counts=True)"
   ]
  },
  {
   "cell_type": "code",
   "execution_count": 27,
   "metadata": {},
   "outputs": [
    {
     "data": {
      "text/plain": [
       "658246"
      ]
     },
     "execution_count": 27,
     "metadata": {},
     "output_type": "execute_result"
    }
   ],
   "source": [
    "max(counts)"
   ]
  },
  {
   "cell_type": "code",
   "execution_count": 28,
   "metadata": {},
   "outputs": [
    {
     "data": {
      "text/plain": [
       "0.7777778"
      ]
     },
     "execution_count": 28,
     "metadata": {},
     "output_type": "execute_result"
    }
   ],
   "source": [
    "uniques[np.argmax(counts)]"
   ]
  },
  {
   "cell_type": "code",
   "execution_count": 30,
   "metadata": {},
   "outputs": [],
   "source": [
    "df2 = df[df.global_efficiency == uniques[np.argmax(counts)]]"
   ]
  },
  {
   "cell_type": "code",
   "execution_count": 32,
   "metadata": {},
   "outputs": [],
   "source": [
    "uniques, counts = np.unique(df2.global_clustering_coefficient, return_counts=True)"
   ]
  },
  {
   "cell_type": "code",
   "execution_count": 34,
   "metadata": {},
   "outputs": [],
   "source": [
    "def return_max_value(dataframe, col):\n",
    "    uniques, counts = np.unique(dataframe[col], return_counts=True)\n",
    "    \n",
    "    return uniques[np.argmax(counts)]"
   ]
  },
  {
   "cell_type": "code",
   "execution_count": 36,
   "metadata": {},
   "outputs": [],
   "source": [
    "df3 = df2[df2.global_clustering_coefficient == return_max_value(df2, 'global_clustering_coefficient')]"
   ]
  },
  {
   "cell_type": "code",
   "execution_count": 38,
   "metadata": {},
   "outputs": [
    {
     "data": {
      "text/plain": [
       "num_edges                            1\n",
       "is_planar                            1\n",
       "total_triangles                      1\n",
       "triangle_ratio                       1\n",
       "avg_shortest_path_length             1\n",
       "global_clustering_coefficient        1\n",
       "avg_clustering_coefficient         352\n",
       "diameter                             1\n",
       "square_clustering                21950\n",
       "degree_assortativity               143\n",
       "density                              1\n",
       "node_connectivity                    3\n",
       "global_efficiency                    1\n",
       "local_efficiency                  4210\n",
       "modularity                          55\n",
       "dtype: int64"
      ]
     },
     "execution_count": 38,
     "metadata": {},
     "output_type": "execute_result"
    }
   ],
   "source": [
    "df3.nunique()"
   ]
  },
  {
   "cell_type": "code",
   "execution_count": 40,
   "metadata": {},
   "outputs": [],
   "source": [
    "df4 = df3[df3.avg_clustering_coefficient == return_max_value(df3, 'avg_clustering_coefficient')]"
   ]
  },
  {
   "cell_type": "code",
   "execution_count": 41,
   "metadata": {},
   "outputs": [
    {
     "data": {
      "text/plain": [
       "num_edges                          1\n",
       "is_planar                          1\n",
       "total_triangles                    1\n",
       "triangle_ratio                     1\n",
       "avg_shortest_path_length           1\n",
       "global_clustering_coefficient      1\n",
       "avg_clustering_coefficient         1\n",
       "diameter                           1\n",
       "square_clustering                446\n",
       "degree_assortativity              22\n",
       "density                            1\n",
       "node_connectivity                  2\n",
       "global_efficiency                  1\n",
       "local_efficiency                 265\n",
       "modularity                        25\n",
       "dtype: int64"
      ]
     },
     "execution_count": 41,
     "metadata": {},
     "output_type": "execute_result"
    }
   ],
   "source": [
    "df4.nunique()"
   ]
  },
  {
   "cell_type": "code",
   "execution_count": 42,
   "metadata": {},
   "outputs": [
    {
     "data": {
      "text/plain": [
       "(446, 15)"
      ]
     },
     "execution_count": 42,
     "metadata": {},
     "output_type": "execute_result"
    }
   ],
   "source": [
    "df4.shape"
   ]
  },
  {
   "cell_type": "code",
   "execution_count": 43,
   "metadata": {},
   "outputs": [],
   "source": [
    "df5 = df4[df4.degree_assortativity == return_max_value(df4, 'degree_assortativity')]"
   ]
  },
  {
   "cell_type": "code",
   "execution_count": 44,
   "metadata": {},
   "outputs": [
    {
     "data": {
      "text/plain": [
       "(69, 15)"
      ]
     },
     "execution_count": 44,
     "metadata": {},
     "output_type": "execute_result"
    }
   ],
   "source": [
    "df5.shape"
   ]
  },
  {
   "cell_type": "code",
   "execution_count": 46,
   "metadata": {},
   "outputs": [
    {
     "data": {
      "text/plain": [
       "num_edges                         1\n",
       "is_planar                         1\n",
       "total_triangles                   1\n",
       "triangle_ratio                    1\n",
       "avg_shortest_path_length          1\n",
       "global_clustering_coefficient     1\n",
       "avg_clustering_coefficient        1\n",
       "diameter                          1\n",
       "square_clustering                69\n",
       "degree_assortativity              1\n",
       "density                           1\n",
       "node_connectivity                 1\n",
       "global_efficiency                 1\n",
       "local_efficiency                 55\n",
       "modularity                       18\n",
       "dtype: int64"
      ]
     },
     "execution_count": 46,
     "metadata": {},
     "output_type": "execute_result"
    }
   ],
   "source": [
    "df5.nunique()"
   ]
  },
  {
   "cell_type": "code",
   "execution_count": 47,
   "metadata": {},
   "outputs": [
    {
     "data": {
      "text/plain": [
       "(array([0.0728, 0.0992, 0.1   , 0.1008, 0.1024, 0.1112, 0.1224, 0.1272,\n",
       "        0.1288, 0.1296, 0.1336, 0.1352, 0.1368, 0.14  , 0.1408, 0.16  ,\n",
       "        0.1728, 0.1792], dtype=float32),\n",
       " array([ 1,  7, 11,  2,  4, 11,  2,  1,  7,  3,  1,  2,  1,  9,  4,  1,  1,\n",
       "         1]))"
      ]
     },
     "execution_count": 47,
     "metadata": {},
     "output_type": "execute_result"
    }
   ],
   "source": [
    "np.unique(df5.modularity, return_counts=True)"
   ]
  },
  {
   "cell_type": "code",
   "execution_count": 48,
   "metadata": {},
   "outputs": [],
   "source": [
    "df6 = df5[df5.modularity == return_max_value(df5, 'modularity')]"
   ]
  },
  {
   "cell_type": "code",
   "execution_count": 50,
   "metadata": {},
   "outputs": [
    {
     "data": {
      "text/plain": [
       "(11, 15)"
      ]
     },
     "execution_count": 50,
     "metadata": {},
     "output_type": "execute_result"
    }
   ],
   "source": [
    "df6.shape"
   ]
  },
  {
   "cell_type": "code",
   "execution_count": 51,
   "metadata": {},
   "outputs": [
    {
     "data": {
      "text/plain": [
       "num_edges                         1\n",
       "is_planar                         1\n",
       "total_triangles                   1\n",
       "triangle_ratio                    1\n",
       "avg_shortest_path_length          1\n",
       "global_clustering_coefficient     1\n",
       "avg_clustering_coefficient        1\n",
       "diameter                          1\n",
       "square_clustering                11\n",
       "degree_assortativity              1\n",
       "density                           1\n",
       "node_connectivity                 1\n",
       "global_efficiency                 1\n",
       "local_efficiency                 11\n",
       "modularity                        1\n",
       "dtype: int64"
      ]
     },
     "execution_count": 51,
     "metadata": {},
     "output_type": "execute_result"
    }
   ],
   "source": [
    "df6.nunique()"
   ]
  },
  {
   "cell_type": "code",
   "execution_count": 52,
   "metadata": {},
   "outputs": [
    {
     "data": {
      "text/html": [
       "<div>\n",
       "<style scoped>\n",
       "    .dataframe tbody tr th:only-of-type {\n",
       "        vertical-align: middle;\n",
       "    }\n",
       "\n",
       "    .dataframe tbody tr th {\n",
       "        vertical-align: top;\n",
       "    }\n",
       "\n",
       "    .dataframe thead th {\n",
       "        text-align: right;\n",
       "    }\n",
       "</style>\n",
       "<table border=\"1\" class=\"dataframe\">\n",
       "  <thead>\n",
       "    <tr style=\"text-align: right;\">\n",
       "      <th></th>\n",
       "      <th>num_edges</th>\n",
       "      <th>is_planar</th>\n",
       "      <th>total_triangles</th>\n",
       "      <th>triangle_ratio</th>\n",
       "      <th>avg_shortest_path_length</th>\n",
       "      <th>global_clustering_coefficient</th>\n",
       "      <th>avg_clustering_coefficient</th>\n",
       "      <th>diameter</th>\n",
       "      <th>square_clustering</th>\n",
       "      <th>degree_assortativity</th>\n",
       "      <th>density</th>\n",
       "      <th>node_connectivity</th>\n",
       "      <th>global_efficiency</th>\n",
       "      <th>local_efficiency</th>\n",
       "      <th>modularity</th>\n",
       "    </tr>\n",
       "  </thead>\n",
       "  <tbody>\n",
       "    <tr>\n",
       "      <th>6825175</th>\n",
       "      <td>25</td>\n",
       "      <td>False</td>\n",
       "      <td>54</td>\n",
       "      <td>0.15</td>\n",
       "      <td>1.444444</td>\n",
       "      <td>0.504673</td>\n",
       "      <td>0.539524</td>\n",
       "      <td>2.0</td>\n",
       "      <td>0.361651</td>\n",
       "      <td>-0.301453</td>\n",
       "      <td>0.555556</td>\n",
       "      <td>3</td>\n",
       "      <td>0.777778</td>\n",
       "      <td>0.727103</td>\n",
       "      <td>0.1</td>\n",
       "    </tr>\n",
       "    <tr>\n",
       "      <th>9600640</th>\n",
       "      <td>25</td>\n",
       "      <td>False</td>\n",
       "      <td>54</td>\n",
       "      <td>0.15</td>\n",
       "      <td>1.444444</td>\n",
       "      <td>0.504673</td>\n",
       "      <td>0.539524</td>\n",
       "      <td>2.0</td>\n",
       "      <td>0.353214</td>\n",
       "      <td>-0.301453</td>\n",
       "      <td>0.555556</td>\n",
       "      <td>3</td>\n",
       "      <td>0.777778</td>\n",
       "      <td>0.754841</td>\n",
       "      <td>0.1</td>\n",
       "    </tr>\n",
       "    <tr>\n",
       "      <th>9609096</th>\n",
       "      <td>25</td>\n",
       "      <td>False</td>\n",
       "      <td>54</td>\n",
       "      <td>0.15</td>\n",
       "      <td>1.444444</td>\n",
       "      <td>0.504673</td>\n",
       "      <td>0.539524</td>\n",
       "      <td>2.0</td>\n",
       "      <td>0.358304</td>\n",
       "      <td>-0.301453</td>\n",
       "      <td>0.555556</td>\n",
       "      <td>3</td>\n",
       "      <td>0.777778</td>\n",
       "      <td>0.756825</td>\n",
       "      <td>0.1</td>\n",
       "    </tr>\n",
       "    <tr>\n",
       "      <th>10085903</th>\n",
       "      <td>25</td>\n",
       "      <td>False</td>\n",
       "      <td>54</td>\n",
       "      <td>0.15</td>\n",
       "      <td>1.444444</td>\n",
       "      <td>0.504673</td>\n",
       "      <td>0.539524</td>\n",
       "      <td>2.0</td>\n",
       "      <td>0.341649</td>\n",
       "      <td>-0.301453</td>\n",
       "      <td>0.555556</td>\n",
       "      <td>3</td>\n",
       "      <td>0.777778</td>\n",
       "      <td>0.757024</td>\n",
       "      <td>0.1</td>\n",
       "    </tr>\n",
       "    <tr>\n",
       "      <th>10085905</th>\n",
       "      <td>25</td>\n",
       "      <td>False</td>\n",
       "      <td>54</td>\n",
       "      <td>0.15</td>\n",
       "      <td>1.444444</td>\n",
       "      <td>0.504673</td>\n",
       "      <td>0.539524</td>\n",
       "      <td>2.0</td>\n",
       "      <td>0.355999</td>\n",
       "      <td>-0.301453</td>\n",
       "      <td>0.555556</td>\n",
       "      <td>3</td>\n",
       "      <td>0.777778</td>\n",
       "      <td>0.754008</td>\n",
       "      <td>0.1</td>\n",
       "    </tr>\n",
       "    <tr>\n",
       "      <th>10086720</th>\n",
       "      <td>25</td>\n",
       "      <td>False</td>\n",
       "      <td>54</td>\n",
       "      <td>0.15</td>\n",
       "      <td>1.444444</td>\n",
       "      <td>0.504673</td>\n",
       "      <td>0.539524</td>\n",
       "      <td>2.0</td>\n",
       "      <td>0.340566</td>\n",
       "      <td>-0.301453</td>\n",
       "      <td>0.555556</td>\n",
       "      <td>3</td>\n",
       "      <td>0.777778</td>\n",
       "      <td>0.759524</td>\n",
       "      <td>0.1</td>\n",
       "    </tr>\n",
       "    <tr>\n",
       "      <th>10132720</th>\n",
       "      <td>25</td>\n",
       "      <td>False</td>\n",
       "      <td>54</td>\n",
       "      <td>0.15</td>\n",
       "      <td>1.444444</td>\n",
       "      <td>0.504673</td>\n",
       "      <td>0.539524</td>\n",
       "      <td>2.0</td>\n",
       "      <td>0.357684</td>\n",
       "      <td>-0.301453</td>\n",
       "      <td>0.555556</td>\n",
       "      <td>3</td>\n",
       "      <td>0.777778</td>\n",
       "      <td>0.754564</td>\n",
       "      <td>0.1</td>\n",
       "    </tr>\n",
       "    <tr>\n",
       "      <th>10132727</th>\n",
       "      <td>25</td>\n",
       "      <td>False</td>\n",
       "      <td>54</td>\n",
       "      <td>0.15</td>\n",
       "      <td>1.444444</td>\n",
       "      <td>0.504673</td>\n",
       "      <td>0.539524</td>\n",
       "      <td>2.0</td>\n",
       "      <td>0.345561</td>\n",
       "      <td>-0.301453</td>\n",
       "      <td>0.555556</td>\n",
       "      <td>3</td>\n",
       "      <td>0.777778</td>\n",
       "      <td>0.757659</td>\n",
       "      <td>0.1</td>\n",
       "    </tr>\n",
       "    <tr>\n",
       "      <th>10132978</th>\n",
       "      <td>25</td>\n",
       "      <td>False</td>\n",
       "      <td>54</td>\n",
       "      <td>0.15</td>\n",
       "      <td>1.444444</td>\n",
       "      <td>0.504673</td>\n",
       "      <td>0.539524</td>\n",
       "      <td>2.0</td>\n",
       "      <td>0.347680</td>\n",
       "      <td>-0.301453</td>\n",
       "      <td>0.555556</td>\n",
       "      <td>3</td>\n",
       "      <td>0.777778</td>\n",
       "      <td>0.759048</td>\n",
       "      <td>0.1</td>\n",
       "    </tr>\n",
       "    <tr>\n",
       "      <th>10134603</th>\n",
       "      <td>25</td>\n",
       "      <td>False</td>\n",
       "      <td>54</td>\n",
       "      <td>0.15</td>\n",
       "      <td>1.444444</td>\n",
       "      <td>0.504673</td>\n",
       "      <td>0.539524</td>\n",
       "      <td>2.0</td>\n",
       "      <td>0.347545</td>\n",
       "      <td>-0.301453</td>\n",
       "      <td>0.555556</td>\n",
       "      <td>3</td>\n",
       "      <td>0.777778</td>\n",
       "      <td>0.758413</td>\n",
       "      <td>0.1</td>\n",
       "    </tr>\n",
       "    <tr>\n",
       "      <th>10156082</th>\n",
       "      <td>25</td>\n",
       "      <td>False</td>\n",
       "      <td>54</td>\n",
       "      <td>0.15</td>\n",
       "      <td>1.444444</td>\n",
       "      <td>0.504673</td>\n",
       "      <td>0.539524</td>\n",
       "      <td>2.0</td>\n",
       "      <td>0.358637</td>\n",
       "      <td>-0.301453</td>\n",
       "      <td>0.555556</td>\n",
       "      <td>3</td>\n",
       "      <td>0.777778</td>\n",
       "      <td>0.760952</td>\n",
       "      <td>0.1</td>\n",
       "    </tr>\n",
       "  </tbody>\n",
       "</table>\n",
       "</div>"
      ],
      "text/plain": [
       "          num_edges  is_planar  total_triangles  triangle_ratio  \\\n",
       "6825175          25      False               54            0.15   \n",
       "9600640          25      False               54            0.15   \n",
       "9609096          25      False               54            0.15   \n",
       "10085903         25      False               54            0.15   \n",
       "10085905         25      False               54            0.15   \n",
       "10086720         25      False               54            0.15   \n",
       "10132720         25      False               54            0.15   \n",
       "10132727         25      False               54            0.15   \n",
       "10132978         25      False               54            0.15   \n",
       "10134603         25      False               54            0.15   \n",
       "10156082         25      False               54            0.15   \n",
       "\n",
       "          avg_shortest_path_length  global_clustering_coefficient  \\\n",
       "6825175                   1.444444                       0.504673   \n",
       "9600640                   1.444444                       0.504673   \n",
       "9609096                   1.444444                       0.504673   \n",
       "10085903                  1.444444                       0.504673   \n",
       "10085905                  1.444444                       0.504673   \n",
       "10086720                  1.444444                       0.504673   \n",
       "10132720                  1.444444                       0.504673   \n",
       "10132727                  1.444444                       0.504673   \n",
       "10132978                  1.444444                       0.504673   \n",
       "10134603                  1.444444                       0.504673   \n",
       "10156082                  1.444444                       0.504673   \n",
       "\n",
       "          avg_clustering_coefficient  diameter  square_clustering  \\\n",
       "6825175                     0.539524       2.0           0.361651   \n",
       "9600640                     0.539524       2.0           0.353214   \n",
       "9609096                     0.539524       2.0           0.358304   \n",
       "10085903                    0.539524       2.0           0.341649   \n",
       "10085905                    0.539524       2.0           0.355999   \n",
       "10086720                    0.539524       2.0           0.340566   \n",
       "10132720                    0.539524       2.0           0.357684   \n",
       "10132727                    0.539524       2.0           0.345561   \n",
       "10132978                    0.539524       2.0           0.347680   \n",
       "10134603                    0.539524       2.0           0.347545   \n",
       "10156082                    0.539524       2.0           0.358637   \n",
       "\n",
       "          degree_assortativity   density  node_connectivity  \\\n",
       "6825175              -0.301453  0.555556                  3   \n",
       "9600640              -0.301453  0.555556                  3   \n",
       "9609096              -0.301453  0.555556                  3   \n",
       "10085903             -0.301453  0.555556                  3   \n",
       "10085905             -0.301453  0.555556                  3   \n",
       "10086720             -0.301453  0.555556                  3   \n",
       "10132720             -0.301453  0.555556                  3   \n",
       "10132727             -0.301453  0.555556                  3   \n",
       "10132978             -0.301453  0.555556                  3   \n",
       "10134603             -0.301453  0.555556                  3   \n",
       "10156082             -0.301453  0.555556                  3   \n",
       "\n",
       "          global_efficiency  local_efficiency  modularity  \n",
       "6825175            0.777778          0.727103         0.1  \n",
       "9600640            0.777778          0.754841         0.1  \n",
       "9609096            0.777778          0.756825         0.1  \n",
       "10085903           0.777778          0.757024         0.1  \n",
       "10085905           0.777778          0.754008         0.1  \n",
       "10086720           0.777778          0.759524         0.1  \n",
       "10132720           0.777778          0.754564         0.1  \n",
       "10132727           0.777778          0.757659         0.1  \n",
       "10132978           0.777778          0.759048         0.1  \n",
       "10134603           0.777778          0.758413         0.1  \n",
       "10156082           0.777778          0.760952         0.1  "
      ]
     },
     "execution_count": 52,
     "metadata": {},
     "output_type": "execute_result"
    }
   ],
   "source": [
    "df6"
   ]
  },
  {
   "cell_type": "code",
   "execution_count": 55,
   "metadata": {},
   "outputs": [],
   "source": [
    "graphs = nx.read_graph6('./data/graph10.g6')"
   ]
  },
  {
   "cell_type": "code",
   "execution_count": 57,
   "metadata": {},
   "outputs": [],
   "source": [
    "idx = df6.index"
   ]
  },
  {
   "cell_type": "code",
   "execution_count": 62,
   "metadata": {},
   "outputs": [],
   "source": [
    "subset = [graphs[i] for i in idx]"
   ]
  },
  {
   "cell_type": "code",
   "execution_count": 61,
   "metadata": {},
   "outputs": [],
   "source": [
    "import numpy as np\n",
    "import matplotlib.pyplot as plt\n",
    "import networkx as nx\n",
    "from matplotlib.animation import FuncAnimation"
   ]
  },
  {
   "cell_type": "code",
   "execution_count": 76,
   "metadata": {
    "scrolled": false
   },
   "outputs": [
    {
     "name": "stderr",
     "output_type": "stream",
     "text": [
      "/home/j1c/graphstats/venv/lib/python3.6/site-packages/networkx/drawing/nx_pylab.py:611: MatplotlibDeprecationWarning: isinstance(..., numbers.Number)\n",
      "  if cb.is_numlike(alpha):\n"
     ]
    },
    {
     "data": {
      "image/png": "[encoded data removed]",
      "text/plain": [
       "<Figure size 432x288 with 1 Axes>"
      ]
     },
     "metadata": {},
     "output_type": "display_data"
    }
   ],
   "source": [
    "fig, ax = plt.subplots(figsize=(6,4))\n",
    "pos = nx.circular_layout(subset[0])\n",
    "ax.axis('off')\n",
    "\n",
    "def update(i):\n",
    "    ax.clear()\n",
    "    nc = subset[i]\n",
    "    nx.draw_circular(nc, ax=ax)\n",
    "\n",
    "ani = FuncAnimation(fig, update, interval=20, frames=range(10), repeat=True)\n",
    "ani.save('crap.gif', writer='imagemagick',  savefig_kwargs={'facecolor':'white'}, fps=1)"
   ]
  },
  {
   "cell_type": "code",
   "execution_count": null,
   "metadata": {},
   "outputs": [],
   "source": [
    "def subsample(dataframe, cols):\n",
    "    \"\"\"\n",
    "    subsample the dataframe by taking the most common unique value given \n",
    "    the list of columns.    \n",
    "    \"\"\"\n",
    "    tmp = dataframe\n",
    "    for col in cols:\n",
    "        "
   ]
  }
 ],
 "metadata": {
  "kernelspec": {
   "display_name": "Python 3",
   "language": "python",
   "name": "python3"
  },
  "language_info": {
   "codemirror_mode": {
    "name": "ipython",
    "version": 3
   },
   "file_extension": ".py",
   "mimetype": "text/x-python",
   "name": "python",
   "nbconvert_exporter": "python",
   "pygments_lexer": "ipython3",
   "version": "3.6.6"
  }
 },
 "nbformat": 4,
 "nbformat_minor": 2
}
