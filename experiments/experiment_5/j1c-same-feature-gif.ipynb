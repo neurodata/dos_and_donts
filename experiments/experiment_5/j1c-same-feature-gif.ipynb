{
 "cells": [
  {
   "cell_type": "code",
   "execution_count": 1,
   "metadata": {},
   "outputs": [],
   "source": [
    "import numpy as np\n",
    "import pandas as pd\n",
    "import matplotlib.pyplot as plt\n",
    "from matplotlib.animation import FuncAnimation\n",
    "import networkx as nx\n",
    "import seaborn as sns"
   ]
  },
  {
   "cell_type": "code",
   "execution_count": 3,
   "metadata": {},
   "outputs": [],
   "source": [
    "df = pd.read_pickle('./data/j1c-features.pkl', compression='gzip')\n",
    "\n",
    "for col in df.columns:\n",
    "    if np.issubdtype(df[col].dtype, np.floating):\n",
    "        df[col] = df[col].astype(np.float32)\n",
    "\n",
    "df = df.drop('diameter', 1)\n",
    "df = df.drop('degree_assortativity', 1)\n",
    "df = df.dropna()"
   ]
  },
  {
   "cell_type": "code",
   "execution_count": 4,
   "metadata": {},
   "outputs": [],
   "source": [
    "df.to_pickle('./data/j1c-features-cleaned.pkl', compression='gzip')"
   ]
  },
  {
   "cell_type": "code",
   "execution_count": null,
   "metadata": {},
   "outputs": [],
   "source": [
    "def return_max_value(dataframe, col):\n",
    "    uniques, counts = np.unique(dataframe[col], return_counts=True)\n",
    "    \n",
    "    return uniques[np.argmax(counts)]"
   ]
  },
  {
   "cell_type": "code",
   "execution_count": null,
   "metadata": {},
   "outputs": [],
   "source": [
    "LABELS = dict(\n",
    "    # num_edges = \"# Edges\",\n",
    "    modularity=\"Modularity\",\n",
    "    density=\"Density\",\n",
    "    # total_triangles = '# Triangles',\n",
    "    triangle_ratio=\"Triangle Ratio\",\n",
    "    # is_planar=\"Is Planar Graph?\",\n",
    "    avg_shortest_path_length=\"Avg Shortest Path\",\n",
    "    global_clustering_coefficient=\"Global Clustering\",\n",
    "    avg_clustering_coefficient=\"Avg Clustering\",\n",
    "    # square_clustering=\"Square Clustering\",\n",
    "    global_efficiency=\"Global Efficiency\",\n",
    "    local_efficiency=\"Local Efficiency\",\n",
    "    # degree_assortativity=\"Degree Assortativity\",\n",
    "    # diameter = 'Diameter',\n",
    "    node_connectivity=\"Node Connectivity\",\n",
    ")\n",
    "\n",
    "POSITION = nx.circular_layout(range(0, 10))\n",
    "SPACING = 0.125\n",
    "FONTDICT = {\"family\": \"monospace\", \"weight\": \"normal\", \"size\": 30}"
   ]
  },
  {
   "cell_type": "code",
   "execution_count": null,
   "metadata": {},
   "outputs": [],
   "source": [
    "def make_frame(graph, data, ax):\n",
    "    \"\"\"\n",
    "    graph = nx.Graph\n",
    "    data = pd.Series\n",
    "    \"\"\"\n",
    "    # font = FontProperties()\n",
    "    # font.set_family('monospace')\n",
    "\n",
    "    # fig, ax = plt.subplots(figsize=(10, 10))\n",
    "    nx.draw(graph, pos=POSITION, ax=ax)\n",
    "\n",
    "    # Dealing with variable values\n",
    "    # values we plot are based on LABELS variable\n",
    "    x_pos = 1.2\n",
    "    loc = (data.size * SPACING) / 2\n",
    "    y_pos = np.linspace(loc, -loc, len(LABELS))\n",
    "\n",
    "    max_char = max([len(name) for _, name in LABELS.items()])\n",
    "\n",
    "    for idx, (key, name) in enumerate(LABELS.items()):\n",
    "        value = data[key]\n",
    "        name = name.ljust(max_char) + \": \"\n",
    "\n",
    "        if not np.issubdtype(value.dtype, np.bool_):\n",
    "            text = name + \"{: .9f}\".format(value)\n",
    "            ax.text(x_pos, y_pos[idx], text, fontdict=FONTDICT, alpha=0.3)\n",
    "            ax.text(x_pos, y_pos[idx], text[:-7], fontdict=FONTDICT, alpha=1)\n",
    "        else:\n",
    "            text = f\"{name} {value}\"\n",
    "            ax.text(x_pos, y_pos[idx], text, fontdict=FONTDICT, alpha=1)\n",
    "\n",
    "\n",
    "def make_gif(graphs, df, name=\"visualization.gif\"):\n",
    "    indices = df.index\n",
    "    graphs_subset = [graphs[i] for i in indices]\n",
    "\n",
    "    fig, ax = plt.subplots(figsize=(21, 10))\n",
    "\n",
    "    def update(i):\n",
    "        ax.clear()\n",
    "\n",
    "        idx = indices[i]\n",
    "        g = graphs_subset[idx]\n",
    "        data = t.loc[idx]\n",
    "\n",
    "        make_frame(g, data, ax)\n",
    "        # plt.tight_layout()\n",
    "\n",
    "    ani = FuncAnimation(\n",
    "        fig, update, interval=100, frames=range(t.shape[0]), repeat=True\n",
    "    )\n",
    "    ani.save(name, writer=\"imagemagick\", savefig_kwargs={\"facecolor\": \"white\"}, fps=16)\n",
    "    \n",
    "    plt.close()"
   ]
  },
  {
   "cell_type": "code",
   "execution_count": null,
   "metadata": {},
   "outputs": [],
   "source": [
    "#t = df[df.global_clustering_coefficient.between(0.5, 0.51, inclusive=True)]\n",
    "\n",
    "t = df[df.modularity.between(0.4, 0.5)]\n",
    "\n",
    "t = t[t.global_clustering_coefficient.between(0.5, 0.5999, inclusive=True)]\n",
    "\n",
    "t = t[t.global_efficiency.between(0.5, 0.6, inclusive=False)]\n",
    "\n",
    "t = t[t.local_efficiency.between(0.5, 0.6, inclusive=False)]\n",
    "\n",
    "t = t[t.avg_clustering_coefficient.between(0.5, 0.6, inclusive=False)]\n",
    "\n",
    "t = t[t.avg_shortest_path_length.between(2.2, 2.3, inclusive=True)]\n",
    "\n",
    "t = t[t.density.between(.3, .4)]\n",
    "\n",
    "t.shape"
   ]
  },
  {
   "cell_type": "code",
   "execution_count": null,
   "metadata": {},
   "outputs": [],
   "source": [
    "make_gif(t.index)"
   ]
  }
 ],
 "metadata": {
  "kernelspec": {
   "display_name": "Python 3",
   "language": "python",
   "name": "python3"
  },
  "language_info": {
   "codemirror_mode": {
    "name": "ipython",
    "version": 3
   },
   "file_extension": ".py",
   "mimetype": "text/x-python",
   "name": "python",
   "nbconvert_exporter": "python",
   "pygments_lexer": "ipython3",
   "version": "3.6.6"
  }
 },
 "nbformat": 4,
 "nbformat_minor": 2
}
