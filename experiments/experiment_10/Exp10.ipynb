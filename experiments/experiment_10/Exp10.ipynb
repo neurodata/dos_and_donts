{
 "cells": [
  {
   "cell_type": "code",
   "execution_count": 1,
   "metadata": {},
   "outputs": [
    {
     "name": "stdout",
     "output_type": "stream",
     "text": [
      "[[ 1.         -0.99972038]\n",
      " [-0.99972038  1.        ]]\n",
      "[[1.         0.02477952]\n",
      " [0.02477952 1.        ]]\n"
     ]
    }
   ],
   "source": [
    "import numpy as np\n",
    "\n",
    "invcov=np.array([[2,1,0],[1,2,1],[0,1,2]])\n",
    "covmat=np.linalg.inv(invcov)\n",
    "\n",
    "samp = np.random.multivariate_normal([0,0,0],covmat,size=(10000,10000))\n",
    "\n",
    "#sampcov=np.zeros((3,3,10000))\n",
    "#sampcovinv=np.zeros((3,3,10000))\n",
    "sampcorr=np.zeros((3,3,10000))\n",
    "sampcorrinv=np.zeros((3,3,10000))\n",
    "\n",
    "for i in range(100):\n",
    "    #sampcov[:,:,i] = np.cov(samp[:,i,:],rowvar=False)\n",
    "    #sampcovinv[:,:,i] = np.linalg.inv(sampcov[:,:,i])\n",
    "    sampcorr[:,:,i] = np.corrcoef(samp[:,i,:],rowvar=False)\n",
    "    sampcorrinv[:,:,i] = np.linalg.inv(sampcorr[:,:,i])\n",
    "\n",
    "#sampcov[0,1,:] = sampcov[0,1,:] + np.random.normal(0,1,10000)\n",
    "#fcov = np.corrcoef(sampcov[0,1:3,:])\n",
    "#finvcov = np.corrcoef(sampcovinv[0,1:3,:])\n",
    "\n",
    "sampcorr[0,1,:] = sampcorr[0,1,:]\n",
    "fcorr = np.corrcoef(sampcorr[0,1:3,:])\n",
    "fcorrinv = np.corrcoef(sampcorrinv[0,1:3,:])\n",
    "\n",
    "\n",
    "\n",
    "#print(fcov)\n",
    "#print(finvcov)\n",
    "print(fcorr)\n",
    "print(fcorrinv)"
   ]
  }
 ],
 "metadata": {
  "kernelspec": {
   "display_name": "Python 3",
   "language": "python",
   "name": "python3"
  },
  "language_info": {
   "codemirror_mode": {
    "name": "ipython",
    "version": 3
   },
   "file_extension": ".py",
   "mimetype": "text/x-python",
   "name": "python",
   "nbconvert_exporter": "python",
   "pygments_lexer": "ipython3",
   "version": "3.7.4"
  }
 },
 "nbformat": 4,
 "nbformat_minor": 2
}
