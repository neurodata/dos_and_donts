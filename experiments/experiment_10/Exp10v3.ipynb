{
 "cells": [
  {
   "cell_type": "code",
   "execution_count": 1,
   "metadata": {},
   "outputs": [],
   "source": [
    "import numpy as np\n",
    "from sklearn import metrics\n",
    "import matplotlib.pyplot as plt\n",
    "\n",
    "def generate_corr_stats(\n",
    "    invcov,\n",
    "    sampsize=100\n",
    "):\n",
    "    covmat = np.linalg.inv(invcov)\n",
    "    samp = np.random.multivariate_normal([0,0,0],covmat,size=(sampsize,sampsize))\n",
    "    \n",
    "    sampcov=np.zeros((3,3,sampsize))\n",
    "    sampcorr=np.zeros((3,3,sampsize))\n",
    "    \n",
    "    covvect=np.zeros((sampsize,6))\n",
    "    invcovvect=np.zeros((sampsize,6))\n",
    "    corrvect=np.zeros((sampsize,6))\n",
    "    invcorrvect=np.zeros((sampsize,6))\n",
    "    \n",
    "    for i in range(sampsize):\n",
    "        sampcov = np.cov(samp[:,i,:],rowvar=False)\n",
    "        sampcorr = np.corrcoef(samp[:,i,:],rowvar=False)\n",
    "        \n",
    "        covvect[i,:] = sampcov[np.triu_indices(3)]\n",
    "        invcovvect[i,:] = np.linalg.inv(sampcov)[np.triu_indices(3)]\n",
    "        corrvect[i,:] = sampcorr[np.triu_indices(3)]\n",
    "        invcorrvect[i,:] = np.linalg.inv(sampcorr)[np.triu_indices(3)]\n",
    "        \n",
    "    \n",
    "    covvect=covvect.flatten()\n",
    "    invcovvect=invcovvect.flatten()\n",
    "    corrvect=corrvect.flatten()\n",
    "    invcorrvect=invcorrvect.flatten()\n",
    "\n",
    "    return covvect,invcovvect,corrvect,invcorrvect"
   ]
  },
  {
   "cell_type": "code",
   "execution_count": 2,
   "metadata": {},
   "outputs": [
    {
     "ename": "MemoryError",
     "evalue": "Unable to allocate array with shape (225000000, 3) and data type float64",
     "output_type": "error",
     "traceback": [
      "\u001b[1;31m---------------------------------------------------------------------------\u001b[0m",
      "\u001b[1;31mMemoryError\u001b[0m                               Traceback (most recent call last)",
      "\u001b[1;32m<ipython-input-2-d685eba7c23f>\u001b[0m in \u001b[0;36m<module>\u001b[1;34m\u001b[0m\n\u001b[0;32m     11\u001b[0m \u001b[0mabscov\u001b[0m \u001b[1;33m=\u001b[0m \u001b[0mnp\u001b[0m\u001b[1;33m.\u001b[0m\u001b[0mtile\u001b[0m\u001b[1;33m(\u001b[0m\u001b[0mabscov\u001b[0m\u001b[1;33m,\u001b[0m\u001b[0msampsize\u001b[0m\u001b[1;33m)\u001b[0m\u001b[1;33m\u001b[0m\u001b[1;33m\u001b[0m\u001b[0m\n\u001b[0;32m     12\u001b[0m \u001b[0mabsvect\u001b[0m \u001b[1;33m=\u001b[0m \u001b[0mnp\u001b[0m\u001b[1;33m.\u001b[0m\u001b[0mtile\u001b[0m\u001b[1;33m(\u001b[0m\u001b[0mabsvect\u001b[0m\u001b[1;33m,\u001b[0m\u001b[0msampsize\u001b[0m\u001b[1;33m)\u001b[0m\u001b[1;33m\u001b[0m\u001b[1;33m\u001b[0m\u001b[0m\n\u001b[1;32m---> 13\u001b[1;33m \u001b[0mcov\u001b[0m\u001b[1;33m,\u001b[0m\u001b[0minvcov\u001b[0m\u001b[1;33m,\u001b[0m\u001b[0mcorr\u001b[0m\u001b[1;33m,\u001b[0m\u001b[0minvcorr\u001b[0m \u001b[1;33m=\u001b[0m \u001b[0mgenerate_corr_stats\u001b[0m\u001b[1;33m(\u001b[0m\u001b[0mprecmat\u001b[0m\u001b[1;33m,\u001b[0m\u001b[0msampsize\u001b[0m\u001b[1;33m)\u001b[0m\u001b[1;33m\u001b[0m\u001b[1;33m\u001b[0m\u001b[0m\n\u001b[0m\u001b[0;32m     14\u001b[0m \u001b[1;33m\u001b[0m\u001b[0m\n\u001b[0;32m     15\u001b[0m \u001b[0mcov\u001b[0m\u001b[1;33m=\u001b[0m\u001b[0mcov\u001b[0m\u001b[1;33m+\u001b[0m\u001b[0mnp\u001b[0m\u001b[1;33m.\u001b[0m\u001b[0mrandom\u001b[0m\u001b[1;33m.\u001b[0m\u001b[0mnormal\u001b[0m\u001b[1;33m(\u001b[0m\u001b[1;36m0\u001b[0m\u001b[1;33m,\u001b[0m\u001b[0msigsq\u001b[0m\u001b[1;33m,\u001b[0m\u001b[1;36m6\u001b[0m\u001b[1;33m*\u001b[0m\u001b[0msampsize\u001b[0m\u001b[1;33m)\u001b[0m\u001b[1;33m\u001b[0m\u001b[1;33m\u001b[0m\u001b[0m\n",
      "\u001b[1;32m<ipython-input-1-1143a6685e37>\u001b[0m in \u001b[0;36mgenerate_corr_stats\u001b[1;34m(invcov, sampsize)\u001b[0m\n\u001b[0;32m      8\u001b[0m ):\n\u001b[0;32m      9\u001b[0m     \u001b[0mcovmat\u001b[0m \u001b[1;33m=\u001b[0m \u001b[0mnp\u001b[0m\u001b[1;33m.\u001b[0m\u001b[0mlinalg\u001b[0m\u001b[1;33m.\u001b[0m\u001b[0minv\u001b[0m\u001b[1;33m(\u001b[0m\u001b[0minvcov\u001b[0m\u001b[1;33m)\u001b[0m\u001b[1;33m\u001b[0m\u001b[1;33m\u001b[0m\u001b[0m\n\u001b[1;32m---> 10\u001b[1;33m     \u001b[0msamp\u001b[0m \u001b[1;33m=\u001b[0m \u001b[0mnp\u001b[0m\u001b[1;33m.\u001b[0m\u001b[0mrandom\u001b[0m\u001b[1;33m.\u001b[0m\u001b[0mmultivariate_normal\u001b[0m\u001b[1;33m(\u001b[0m\u001b[1;33m[\u001b[0m\u001b[1;36m0\u001b[0m\u001b[1;33m,\u001b[0m\u001b[1;36m0\u001b[0m\u001b[1;33m,\u001b[0m\u001b[1;36m0\u001b[0m\u001b[1;33m]\u001b[0m\u001b[1;33m,\u001b[0m\u001b[0mcovmat\u001b[0m\u001b[1;33m,\u001b[0m\u001b[0msize\u001b[0m\u001b[1;33m=\u001b[0m\u001b[1;33m(\u001b[0m\u001b[0msampsize\u001b[0m\u001b[1;33m,\u001b[0m\u001b[0msampsize\u001b[0m\u001b[1;33m)\u001b[0m\u001b[1;33m)\u001b[0m\u001b[1;33m\u001b[0m\u001b[1;33m\u001b[0m\u001b[0m\n\u001b[0m\u001b[0;32m     11\u001b[0m \u001b[1;33m\u001b[0m\u001b[0m\n\u001b[0;32m     12\u001b[0m     \u001b[0msampcov\u001b[0m\u001b[1;33m=\u001b[0m\u001b[0mnp\u001b[0m\u001b[1;33m.\u001b[0m\u001b[0mzeros\u001b[0m\u001b[1;33m(\u001b[0m\u001b[1;33m(\u001b[0m\u001b[1;36m3\u001b[0m\u001b[1;33m,\u001b[0m\u001b[1;36m3\u001b[0m\u001b[1;33m,\u001b[0m\u001b[0msampsize\u001b[0m\u001b[1;33m)\u001b[0m\u001b[1;33m)\u001b[0m\u001b[1;33m\u001b[0m\u001b[1;33m\u001b[0m\u001b[0m\n",
      "\u001b[1;32mmtrand.pyx\u001b[0m in \u001b[0;36mnumpy.random.mtrand.RandomState.multivariate_normal\u001b[1;34m()\u001b[0m\n",
      "\u001b[1;32m<__array_function__ internals>\u001b[0m in \u001b[0;36mdot\u001b[1;34m(*args, **kwargs)\u001b[0m\n",
      "\u001b[1;31mMemoryError\u001b[0m: Unable to allocate array with shape (225000000, 3) and data type float64"
     ]
    }
   ],
   "source": [
    "sampsize=15000\n",
    "sigsq=.3\n",
    "\n",
    "precmat=np.array([[2,-1,0],[-1,2,-1],[0,-1,2]])\n",
    "absprec=np.array([[1,1,0],[1,1,1],[0,1,1]])\n",
    "absvect=absprec[np.triu_indices(3)]\n",
    "\n",
    "abscov=np.array([[1,1,0],[1,1,1],[0,1,1]])\n",
    "abscov=abscov[np.triu_indices(3)]\n",
    "\n",
    "abscov = np.tile(abscov,sampsize)\n",
    "absvect = np.tile(absvect,sampsize)\n",
    "cov,invcov,corr,invcorr = generate_corr_stats(precmat,sampsize)\n",
    "\n",
    "cov=cov+np.random.normal(0,sigsq,6*sampsize)\n",
    "invcov=invcov+np.random.normal(0,sigsq,6*sampsize)\n",
    "corr=corr+np.random.normal(0,sigsq,6*sampsize)\n",
    "invcorr=invcorr+np.random.normal(0,sigsq,6*sampsize)\n",
    "\n",
    "fpr1,tpr1,_=metrics.roc_curve(absvect,np.absolute(cov),drop_intermediate=False)\n",
    "fpr2,tpr2,_=metrics.roc_curve(absvect,np.absolute(invcov),drop_intermediate=False)\n",
    "fpr3,tpr3,_=metrics.roc_curve(absvect,np.absolute(corr),drop_intermediate=False)\n",
    "fpr4,tpr4,_=metrics.roc_curve(absvect,np.absolute(invcorr),drop_intermediate=False)\n",
    "\n",
    "auc1=metrics.auc(fpr1, tpr1)\n",
    "auc2=metrics.auc(fpr2, tpr2)\n",
    "auc3=metrics.auc(fpr3, tpr3)\n",
    "auc4=metrics.auc(fpr4, tpr4)"
   ]
  },
  {
   "cell_type": "code",
   "execution_count": null,
   "metadata": {},
   "outputs": [],
   "source": [
    "plt.figure()\n",
    "lw = 2\n",
    "plt.plot(fpr1, tpr1,\n",
    "         lw=lw, label='Covariance (area = %0.2f)' % auc1)\n",
    "plt.plot(fpr2, tpr2,\n",
    "         lw=lw, label='Inverse Covariance (area = %0.2f)' % auc2)\n",
    "plt.plot(fpr3, tpr3,\n",
    "         lw=lw, label='Correlation (area = %0.2f)' % auc3)\n",
    "plt.plot(fpr4, tpr4,\n",
    "         lw=lw, label='Inverse Correlation (area = %0.2f)' % auc4)\n",
    "plt.plot([0, 1], [0, 1], color='navy', lw=lw, linestyle='--')\n",
    "plt.xlim([-0.05, 1.0])\n",
    "plt.ylim([0.0, 1.05])\n",
    "plt.xlabel('False Positive Rate')\n",
    "plt.ylabel('True Positive Rate')\n",
    "plt.title('ROC Curve for Different Stats n=%0.0f' % sampsize)\n",
    "plt.legend(loc=\"lower right\")\n",
    "plt.show()"
   ]
  }
 ],
 "metadata": {
  "kernelspec": {
   "display_name": "Python 3",
   "language": "python",
   "name": "python3"
  },
  "language_info": {
   "codemirror_mode": {
    "name": "ipython",
    "version": 3
   },
   "file_extension": ".py",
   "mimetype": "text/x-python",
   "name": "python",
   "nbconvert_exporter": "python",
   "pygments_lexer": "ipython3",
   "version": "3.7.4"
  }
 },
 "nbformat": 4,
 "nbformat_minor": 2
}
