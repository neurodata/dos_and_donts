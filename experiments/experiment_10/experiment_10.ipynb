{
 "cells": [
  {
   "cell_type": "code",
   "execution_count": 1,
   "metadata": {},
   "outputs": [],
   "source": [
    "import numpy as np\n",
    "from math import sqrt\n",
    "from scipy.stats import pearsonr\n",
    "np.random.seed(0)"
   ]
  },
  {
   "cell_type": "code",
   "execution_count": 2,
   "metadata": {},
   "outputs": [
    {
     "name": "stdout",
     "output_type": "stream",
     "text": [
      "n0 vs n1 correlation: 0.71 Pearson test p-value: 0.00\n",
      "n0 vs n2 correlation: 0.00 Pearson test p-value: 0.81\n",
      "n1 vs n2 correlation: 0.71 Pearson test p-value: 0.00\n"
     ]
    }
   ],
   "source": [
    "#Generate x data\n",
    "m=100\n",
    "t=1000\n",
    "\n",
    "n1 = np.random.normal(0,1,(t,m))\n",
    "n3 = np.random.normal(0,1,(t,m))\n",
    "n2 = (n1+n3)*1/sqrt(2)\n",
    "\n",
    "#nxtxm\n",
    "data = np.stack((n1,n2,n3),axis=0)\n",
    "data_nxtm = np.reshape(data,(data.shape[0],data.shape[1]*data.shape[2]))\n",
    "cors = np.corrcoef(data_nxtm)\n",
    "\n",
    "_,p01 = pearsonr(data_nxtm[0,:],data_nxtm[1,:])\n",
    "print('n0 vs n1 correlation: %.2f Pearson test p-value: %.2f' %(cors[0,1],p01))\n",
    "_,p02 = pearsonr(data_nxtm[0,:],data_nxtm[2,:])\n",
    "print('n0 vs n2 correlation: %.2f Pearson test p-value: %.2f' %(cors[0,2],p02))\n",
    "_,p12 = pearsonr(data_nxtm[1,:],data_nxtm[2,:])\n",
    "print('n1 vs n2 correlation: %.2f Pearson test p-value: %.2f' %(cors[1,2],p12))"
   ]
  },
  {
   "cell_type": "code",
   "execution_count": 3,
   "metadata": {},
   "outputs": [],
   "source": [
    "#Generate y data\n",
    "y = np.zeros(m)\n",
    "cors_02 = np.zeros(m)\n",
    "cors_01 = np.zeros(m)\n",
    "\n",
    "for subject in range(m):\n",
    "    noise = np.random.normal(0,0.03)\n",
    "    corrs = np.corrcoef(data[:,:,subject])\n",
    "    y[subject] = noise + corrs[0,1]\n",
    "    cors_01[subject] = corrs[0,1]\n",
    "    cors_02[subject] = corrs[0,2]\n"
   ]
  },
  {
   "cell_type": "code",
   "execution_count": 4,
   "metadata": {},
   "outputs": [
    {
     "name": "stdout",
     "output_type": "stream",
     "text": [
      "y vs Correlation(n0,n1) correlation: 0.39 Pearson test p-value: 0.00\n",
      "y vs Correlation(n0,n2) correlation: 0.26 Pearson test p-value: 0.01\n"
     ]
    }
   ],
   "source": [
    "#Measure correlations (of correlations) with y\n",
    "\n",
    "# n0 and n2 are independent but both compose n1.\n",
    "# n0 correlated with n2 => n0 highly correlated with n1 => high y\n",
    "underlying_cor = np.corrcoef(y,cors_01)[0,1]\n",
    "_,p01 = pearsonr(y,cors_01)\n",
    "misleading_cor = np.corrcoef(y,cors_02)[0,1]\n",
    "_,p02 = pearsonr(y,cors_02)\n",
    "\n",
    "print('y vs Correlation(n0,n1) correlation: %.2f Pearson test p-value: %.2f' % (underlying_cor, p01))\n",
    "print('y vs Correlation(n0,n2) correlation: %.2f Pearson test p-value: %.2f' % (misleading_cor,p02))\n"
   ]
  },
  {
   "cell_type": "code",
   "execution_count": 5,
   "metadata": {},
   "outputs": [
    {
     "name": "stdout",
     "output_type": "stream",
     "text": [
      "y vs invCorrelation(n0,n1) correlation: -0.25 Pearson test p-value: 0.01\n",
      "y vs invCorrelation(n0,n2) correlation: 0.25 Pearson test p-value: 0.01\n"
     ]
    }
   ],
   "source": [
    "#Measure correlations (of inverse correlations) with y\n",
    "invcors_02 = np.zeros(m)\n",
    "invcors_01 = np.zeros(m)\n",
    "\n",
    "for subject in range(m):\n",
    "    corrs = np.corrcoef(data[:,:,subject])\n",
    "    invcorrs = np.linalg.inv(corrs)\n",
    "    invcors_01[subject] = invcorrs[0,1]\n",
    "    invcors_02[subject] = invcorrs[0,2]\n",
    "\n",
    "underlying_cor = np.corrcoef(y,invcors_01)[0,1]\n",
    "_,p01 = pearsonr(y,invcors_01)\n",
    "misleading_cor = np.corrcoef(y,invcors_02)[0,1]\n",
    "_,p02 = pearsonr(y,invcors_02)\n",
    "\n",
    "print('y vs invCorrelation(n0,n1) correlation: %.2f Pearson test p-value: %.2f' % (underlying_cor, p01))\n",
    "print('y vs invCorrelation(n0,n2) correlation: %.2f Pearson test p-value: %.2f' %(misleading_cor,p02))\n",
    "\n"
   ]
  },
  {
   "cell_type": "code",
   "execution_count": 6,
   "metadata": {},
   "outputs": [],
   "source": []
  }
 ],
 "metadata": {
  "file_extension": ".py",
  "kernelspec": {
   "display_name": "Python 3",
   "language": "python",
   "name": "python3"
  },
  "language_info": {
   "codemirror_mode": {
    "name": "ipython",
    "version": 3
   },
   "file_extension": ".py",
   "mimetype": "text/x-python",
   "name": "python",
   "nbconvert_exporter": "python",
   "pygments_lexer": "ipython3",
   "version": "3.7.1"
  },
  "mimetype": "text/x-python",
  "name": "python",
  "npconvert_exporter": "python",
  "pygments_lexer": "ipython3",
  "version": 3
 },
 "nbformat": 4,
 "nbformat_minor": 2
}
